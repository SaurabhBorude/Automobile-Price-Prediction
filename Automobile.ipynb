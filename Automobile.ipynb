{
 "cells": [
  {
   "cell_type": "markdown",
   "metadata": {},
   "source": [
    "### These are the packages which are going to be used "
   ]
  },
  {
   "cell_type": "code",
   "execution_count": 1,
   "metadata": {
    "collapsed": true
   },
   "outputs": [],
   "source": [
    "import pandas as pd\n",
    "import numpy as np\n",
    "import matplotlib.pyplot as plt\n",
    "import seaborn as sns\n",
    "%matplotlib inline\n",
    "from sklearn.preprocessing import LabelEncoder\n",
    "from sklearn import metrics\n",
    "import statsmodels.formula.api as sm\n",
    "import copy"
   ]
  },
  {
   "cell_type": "code",
   "execution_count": 55,
   "metadata": {
    "collapsed": true
   },
   "outputs": [],
   "source": [
    "Automobile = pd.read_csv(\"G:\\Project\\Automobile Data Set.csv\" , na_values=\"?\" )           # Reading the dataset "
   ]
  },
  {
   "cell_type": "markdown",
   "metadata": {},
   "source": [
    "####  I have converted the missing values \"?\" into NA's so that it would be easy to find them in the dataset and replace them. "
   ]
  },
  {
   "cell_type": "code",
   "execution_count": 56,
   "metadata": {},
   "outputs": [
    {
     "data": {
      "text/html": [
       "<div>\n",
       "<style>\n",
       "    .dataframe thead tr:only-child th {\n",
       "        text-align: right;\n",
       "    }\n",
       "\n",
       "    .dataframe thead th {\n",
       "        text-align: left;\n",
       "    }\n",
       "\n",
       "    .dataframe tbody tr th {\n",
       "        vertical-align: top;\n",
       "    }\n",
       "</style>\n",
       "<table border=\"1\" class=\"dataframe\">\n",
       "  <thead>\n",
       "    <tr style=\"text-align: right;\">\n",
       "      <th></th>\n",
       "      <th>symboling</th>\n",
       "      <th>losses</th>\n",
       "      <th>make</th>\n",
       "      <th>fuel-type</th>\n",
       "      <th>aspiration</th>\n",
       "      <th>doors</th>\n",
       "      <th>style</th>\n",
       "      <th>wheels</th>\n",
       "      <th>location</th>\n",
       "      <th>base</th>\n",
       "      <th>...</th>\n",
       "      <th>size</th>\n",
       "      <th>fuel</th>\n",
       "      <th>bore</th>\n",
       "      <th>stroke</th>\n",
       "      <th>compression</th>\n",
       "      <th>horsepower</th>\n",
       "      <th>peak</th>\n",
       "      <th>mlg</th>\n",
       "      <th>highway</th>\n",
       "      <th>price</th>\n",
       "    </tr>\n",
       "  </thead>\n",
       "  <tbody>\n",
       "    <tr>\n",
       "      <th>0</th>\n",
       "      <td>3</td>\n",
       "      <td>NaN</td>\n",
       "      <td>alfa-romero</td>\n",
       "      <td>gas</td>\n",
       "      <td>std</td>\n",
       "      <td>two</td>\n",
       "      <td>convertible</td>\n",
       "      <td>rwd</td>\n",
       "      <td>front</td>\n",
       "      <td>88.6</td>\n",
       "      <td>...</td>\n",
       "      <td>130</td>\n",
       "      <td>mpfi</td>\n",
       "      <td>3.47</td>\n",
       "      <td>2.68</td>\n",
       "      <td>9.0</td>\n",
       "      <td>111.0</td>\n",
       "      <td>5000.0</td>\n",
       "      <td>21</td>\n",
       "      <td>27</td>\n",
       "      <td>13495.0</td>\n",
       "    </tr>\n",
       "    <tr>\n",
       "      <th>1</th>\n",
       "      <td>3</td>\n",
       "      <td>NaN</td>\n",
       "      <td>alfa-romero</td>\n",
       "      <td>gas</td>\n",
       "      <td>std</td>\n",
       "      <td>two</td>\n",
       "      <td>convertible</td>\n",
       "      <td>rwd</td>\n",
       "      <td>front</td>\n",
       "      <td>88.6</td>\n",
       "      <td>...</td>\n",
       "      <td>130</td>\n",
       "      <td>mpfi</td>\n",
       "      <td>3.47</td>\n",
       "      <td>2.68</td>\n",
       "      <td>9.0</td>\n",
       "      <td>111.0</td>\n",
       "      <td>5000.0</td>\n",
       "      <td>21</td>\n",
       "      <td>27</td>\n",
       "      <td>16500.0</td>\n",
       "    </tr>\n",
       "    <tr>\n",
       "      <th>2</th>\n",
       "      <td>1</td>\n",
       "      <td>NaN</td>\n",
       "      <td>alfa-romero</td>\n",
       "      <td>gas</td>\n",
       "      <td>std</td>\n",
       "      <td>two</td>\n",
       "      <td>hatchback</td>\n",
       "      <td>rwd</td>\n",
       "      <td>front</td>\n",
       "      <td>94.5</td>\n",
       "      <td>...</td>\n",
       "      <td>152</td>\n",
       "      <td>mpfi</td>\n",
       "      <td>2.68</td>\n",
       "      <td>3.47</td>\n",
       "      <td>9.0</td>\n",
       "      <td>154.0</td>\n",
       "      <td>5000.0</td>\n",
       "      <td>19</td>\n",
       "      <td>26</td>\n",
       "      <td>16500.0</td>\n",
       "    </tr>\n",
       "    <tr>\n",
       "      <th>3</th>\n",
       "      <td>2</td>\n",
       "      <td>164.0</td>\n",
       "      <td>audi</td>\n",
       "      <td>gas</td>\n",
       "      <td>std</td>\n",
       "      <td>four</td>\n",
       "      <td>sedan</td>\n",
       "      <td>fwd</td>\n",
       "      <td>front</td>\n",
       "      <td>99.8</td>\n",
       "      <td>...</td>\n",
       "      <td>109</td>\n",
       "      <td>mpfi</td>\n",
       "      <td>3.19</td>\n",
       "      <td>3.40</td>\n",
       "      <td>10.0</td>\n",
       "      <td>102.0</td>\n",
       "      <td>5500.0</td>\n",
       "      <td>24</td>\n",
       "      <td>30</td>\n",
       "      <td>13950.0</td>\n",
       "    </tr>\n",
       "    <tr>\n",
       "      <th>4</th>\n",
       "      <td>2</td>\n",
       "      <td>164.0</td>\n",
       "      <td>audi</td>\n",
       "      <td>gas</td>\n",
       "      <td>std</td>\n",
       "      <td>four</td>\n",
       "      <td>sedan</td>\n",
       "      <td>4wd</td>\n",
       "      <td>front</td>\n",
       "      <td>99.4</td>\n",
       "      <td>...</td>\n",
       "      <td>136</td>\n",
       "      <td>mpfi</td>\n",
       "      <td>3.19</td>\n",
       "      <td>3.40</td>\n",
       "      <td>8.0</td>\n",
       "      <td>115.0</td>\n",
       "      <td>5500.0</td>\n",
       "      <td>18</td>\n",
       "      <td>22</td>\n",
       "      <td>17450.0</td>\n",
       "    </tr>\n",
       "  </tbody>\n",
       "</table>\n",
       "<p>5 rows × 26 columns</p>\n",
       "</div>"
      ],
      "text/plain": [
       "   symboling  losses         make fuel-type aspiration doors        style  \\\n",
       "0          3     NaN  alfa-romero       gas        std   two  convertible   \n",
       "1          3     NaN  alfa-romero       gas        std   two  convertible   \n",
       "2          1     NaN  alfa-romero       gas        std   two    hatchback   \n",
       "3          2   164.0         audi       gas        std  four        sedan   \n",
       "4          2   164.0         audi       gas        std  four        sedan   \n",
       "\n",
       "  wheels location  base   ...     size  fuel  bore  stroke compression  \\\n",
       "0    rwd    front  88.6   ...      130  mpfi  3.47    2.68         9.0   \n",
       "1    rwd    front  88.6   ...      130  mpfi  3.47    2.68         9.0   \n",
       "2    rwd    front  94.5   ...      152  mpfi  2.68    3.47         9.0   \n",
       "3    fwd    front  99.8   ...      109  mpfi  3.19    3.40        10.0   \n",
       "4    4wd    front  99.4   ...      136  mpfi  3.19    3.40         8.0   \n",
       "\n",
       "  horsepower    peak mlg  highway    price  \n",
       "0      111.0  5000.0  21       27  13495.0  \n",
       "1      111.0  5000.0  21       27  16500.0  \n",
       "2      154.0  5000.0  19       26  16500.0  \n",
       "3      102.0  5500.0  24       30  13950.0  \n",
       "4      115.0  5500.0  18       22  17450.0  \n",
       "\n",
       "[5 rows x 26 columns]"
      ]
     },
     "execution_count": 56,
     "metadata": {},
     "output_type": "execute_result"
    }
   ],
   "source": [
    "Automobile.head()                                                      # First few observations of the dataset  "
   ]
  },
  {
   "cell_type": "code",
   "execution_count": 57,
   "metadata": {},
   "outputs": [
    {
     "data": {
      "text/plain": [
       "['symboling',\n",
       " 'losses',\n",
       " 'make',\n",
       " 'fuel-type',\n",
       " 'aspiration',\n",
       " 'doors',\n",
       " 'style',\n",
       " 'wheels',\n",
       " 'location',\n",
       " 'base',\n",
       " 'length',\n",
       " 'width',\n",
       " 'height',\n",
       " 'weight',\n",
       " 'engine',\n",
       " 'cylinders',\n",
       " 'size',\n",
       " 'fuel',\n",
       " 'bore',\n",
       " 'stroke',\n",
       " 'compression',\n",
       " 'horsepower',\n",
       " 'peak',\n",
       " 'mlg',\n",
       " 'highway',\n",
       " 'price']"
      ]
     },
     "execution_count": 57,
     "metadata": {},
     "output_type": "execute_result"
    }
   ],
   "source": [
    "list(Automobile.columns)"
   ]
  },
  {
   "cell_type": "code",
   "execution_count": 58,
   "metadata": {},
   "outputs": [
    {
     "name": "stdout",
     "output_type": "stream",
     "text": [
      "<class 'pandas.core.frame.DataFrame'>\n",
      "RangeIndex: 205 entries, 0 to 204\n",
      "Data columns (total 26 columns):\n",
      "symboling      205 non-null int64\n",
      "losses         164 non-null float64\n",
      "make           205 non-null object\n",
      "fuel-type      205 non-null object\n",
      "aspiration     205 non-null object\n",
      "doors          203 non-null object\n",
      "style          205 non-null object\n",
      "wheels         205 non-null object\n",
      "location       205 non-null object\n",
      "base           205 non-null float64\n",
      "length         205 non-null float64\n",
      "width          205 non-null float64\n",
      "height         205 non-null float64\n",
      "weight         205 non-null int64\n",
      "engine         205 non-null object\n",
      "cylinders      205 non-null object\n",
      "size           205 non-null int64\n",
      "fuel           205 non-null object\n",
      "bore           201 non-null float64\n",
      "stroke         201 non-null float64\n",
      "compression    205 non-null float64\n",
      "horsepower     203 non-null float64\n",
      "peak           203 non-null float64\n",
      "mlg            205 non-null int64\n",
      "highway        205 non-null int64\n",
      "price          201 non-null float64\n",
      "dtypes: float64(11), int64(5), object(10)\n",
      "memory usage: 41.7+ KB\n"
     ]
    }
   ],
   "source": [
    "Automobile.info()                                            # Structure of the dataset####  I have converted the missing values \"?\" into NA's so that it would be easy to find them in the dataset and replace them. "
   ]
  },
  {
   "cell_type": "code",
   "execution_count": 59,
   "metadata": {},
   "outputs": [
    {
     "data": {
      "text/html": [
       "<div>\n",
       "<style>\n",
       "    .dataframe thead tr:only-child th {\n",
       "        text-align: right;\n",
       "    }\n",
       "\n",
       "    .dataframe thead th {\n",
       "        text-align: left;\n",
       "    }\n",
       "\n",
       "    .dataframe tbody tr th {\n",
       "        vertical-align: top;\n",
       "    }\n",
       "</style>\n",
       "<table border=\"1\" class=\"dataframe\">\n",
       "  <thead>\n",
       "    <tr style=\"text-align: right;\">\n",
       "      <th></th>\n",
       "      <th>symboling</th>\n",
       "      <th>losses</th>\n",
       "      <th>make</th>\n",
       "      <th>fuel-type</th>\n",
       "      <th>aspiration</th>\n",
       "      <th>doors</th>\n",
       "      <th>style</th>\n",
       "      <th>wheels</th>\n",
       "      <th>location</th>\n",
       "      <th>base</th>\n",
       "      <th>...</th>\n",
       "      <th>size</th>\n",
       "      <th>fuel</th>\n",
       "      <th>bore</th>\n",
       "      <th>stroke</th>\n",
       "      <th>compression</th>\n",
       "      <th>horsepower</th>\n",
       "      <th>peak</th>\n",
       "      <th>mlg</th>\n",
       "      <th>highway</th>\n",
       "      <th>price</th>\n",
       "    </tr>\n",
       "  </thead>\n",
       "  <tbody>\n",
       "    <tr>\n",
       "      <th>count</th>\n",
       "      <td>205.000000</td>\n",
       "      <td>164.000000</td>\n",
       "      <td>205</td>\n",
       "      <td>205</td>\n",
       "      <td>205</td>\n",
       "      <td>203</td>\n",
       "      <td>205</td>\n",
       "      <td>205</td>\n",
       "      <td>205</td>\n",
       "      <td>205.000000</td>\n",
       "      <td>...</td>\n",
       "      <td>205.000000</td>\n",
       "      <td>205</td>\n",
       "      <td>201.000000</td>\n",
       "      <td>201.000000</td>\n",
       "      <td>205.000000</td>\n",
       "      <td>203.000000</td>\n",
       "      <td>203.000000</td>\n",
       "      <td>205.000000</td>\n",
       "      <td>205.000000</td>\n",
       "      <td>201.000000</td>\n",
       "    </tr>\n",
       "    <tr>\n",
       "      <th>unique</th>\n",
       "      <td>NaN</td>\n",
       "      <td>NaN</td>\n",
       "      <td>22</td>\n",
       "      <td>2</td>\n",
       "      <td>2</td>\n",
       "      <td>2</td>\n",
       "      <td>5</td>\n",
       "      <td>3</td>\n",
       "      <td>2</td>\n",
       "      <td>NaN</td>\n",
       "      <td>...</td>\n",
       "      <td>NaN</td>\n",
       "      <td>8</td>\n",
       "      <td>NaN</td>\n",
       "      <td>NaN</td>\n",
       "      <td>NaN</td>\n",
       "      <td>NaN</td>\n",
       "      <td>NaN</td>\n",
       "      <td>NaN</td>\n",
       "      <td>NaN</td>\n",
       "      <td>NaN</td>\n",
       "    </tr>\n",
       "    <tr>\n",
       "      <th>top</th>\n",
       "      <td>NaN</td>\n",
       "      <td>NaN</td>\n",
       "      <td>toyota</td>\n",
       "      <td>gas</td>\n",
       "      <td>std</td>\n",
       "      <td>four</td>\n",
       "      <td>sedan</td>\n",
       "      <td>fwd</td>\n",
       "      <td>front</td>\n",
       "      <td>NaN</td>\n",
       "      <td>...</td>\n",
       "      <td>NaN</td>\n",
       "      <td>mpfi</td>\n",
       "      <td>NaN</td>\n",
       "      <td>NaN</td>\n",
       "      <td>NaN</td>\n",
       "      <td>NaN</td>\n",
       "      <td>NaN</td>\n",
       "      <td>NaN</td>\n",
       "      <td>NaN</td>\n",
       "      <td>NaN</td>\n",
       "    </tr>\n",
       "    <tr>\n",
       "      <th>freq</th>\n",
       "      <td>NaN</td>\n",
       "      <td>NaN</td>\n",
       "      <td>32</td>\n",
       "      <td>185</td>\n",
       "      <td>168</td>\n",
       "      <td>114</td>\n",
       "      <td>96</td>\n",
       "      <td>120</td>\n",
       "      <td>202</td>\n",
       "      <td>NaN</td>\n",
       "      <td>...</td>\n",
       "      <td>NaN</td>\n",
       "      <td>94</td>\n",
       "      <td>NaN</td>\n",
       "      <td>NaN</td>\n",
       "      <td>NaN</td>\n",
       "      <td>NaN</td>\n",
       "      <td>NaN</td>\n",
       "      <td>NaN</td>\n",
       "      <td>NaN</td>\n",
       "      <td>NaN</td>\n",
       "    </tr>\n",
       "    <tr>\n",
       "      <th>mean</th>\n",
       "      <td>0.834146</td>\n",
       "      <td>122.000000</td>\n",
       "      <td>NaN</td>\n",
       "      <td>NaN</td>\n",
       "      <td>NaN</td>\n",
       "      <td>NaN</td>\n",
       "      <td>NaN</td>\n",
       "      <td>NaN</td>\n",
       "      <td>NaN</td>\n",
       "      <td>98.756585</td>\n",
       "      <td>...</td>\n",
       "      <td>126.907317</td>\n",
       "      <td>NaN</td>\n",
       "      <td>3.329751</td>\n",
       "      <td>3.255423</td>\n",
       "      <td>10.142537</td>\n",
       "      <td>104.256158</td>\n",
       "      <td>5125.369458</td>\n",
       "      <td>25.219512</td>\n",
       "      <td>30.751220</td>\n",
       "      <td>13207.129353</td>\n",
       "    </tr>\n",
       "    <tr>\n",
       "      <th>std</th>\n",
       "      <td>1.245307</td>\n",
       "      <td>35.442168</td>\n",
       "      <td>NaN</td>\n",
       "      <td>NaN</td>\n",
       "      <td>NaN</td>\n",
       "      <td>NaN</td>\n",
       "      <td>NaN</td>\n",
       "      <td>NaN</td>\n",
       "      <td>NaN</td>\n",
       "      <td>6.021776</td>\n",
       "      <td>...</td>\n",
       "      <td>41.642693</td>\n",
       "      <td>NaN</td>\n",
       "      <td>0.273539</td>\n",
       "      <td>0.316717</td>\n",
       "      <td>3.972040</td>\n",
       "      <td>39.714369</td>\n",
       "      <td>479.334560</td>\n",
       "      <td>6.542142</td>\n",
       "      <td>6.886443</td>\n",
       "      <td>7947.066342</td>\n",
       "    </tr>\n",
       "    <tr>\n",
       "      <th>min</th>\n",
       "      <td>-2.000000</td>\n",
       "      <td>65.000000</td>\n",
       "      <td>NaN</td>\n",
       "      <td>NaN</td>\n",
       "      <td>NaN</td>\n",
       "      <td>NaN</td>\n",
       "      <td>NaN</td>\n",
       "      <td>NaN</td>\n",
       "      <td>NaN</td>\n",
       "      <td>86.600000</td>\n",
       "      <td>...</td>\n",
       "      <td>61.000000</td>\n",
       "      <td>NaN</td>\n",
       "      <td>2.540000</td>\n",
       "      <td>2.070000</td>\n",
       "      <td>7.000000</td>\n",
       "      <td>48.000000</td>\n",
       "      <td>4150.000000</td>\n",
       "      <td>13.000000</td>\n",
       "      <td>16.000000</td>\n",
       "      <td>5118.000000</td>\n",
       "    </tr>\n",
       "    <tr>\n",
       "      <th>25%</th>\n",
       "      <td>0.000000</td>\n",
       "      <td>94.000000</td>\n",
       "      <td>NaN</td>\n",
       "      <td>NaN</td>\n",
       "      <td>NaN</td>\n",
       "      <td>NaN</td>\n",
       "      <td>NaN</td>\n",
       "      <td>NaN</td>\n",
       "      <td>NaN</td>\n",
       "      <td>94.500000</td>\n",
       "      <td>...</td>\n",
       "      <td>97.000000</td>\n",
       "      <td>NaN</td>\n",
       "      <td>3.150000</td>\n",
       "      <td>3.110000</td>\n",
       "      <td>8.600000</td>\n",
       "      <td>70.000000</td>\n",
       "      <td>4800.000000</td>\n",
       "      <td>19.000000</td>\n",
       "      <td>25.000000</td>\n",
       "      <td>7775.000000</td>\n",
       "    </tr>\n",
       "    <tr>\n",
       "      <th>50%</th>\n",
       "      <td>1.000000</td>\n",
       "      <td>115.000000</td>\n",
       "      <td>NaN</td>\n",
       "      <td>NaN</td>\n",
       "      <td>NaN</td>\n",
       "      <td>NaN</td>\n",
       "      <td>NaN</td>\n",
       "      <td>NaN</td>\n",
       "      <td>NaN</td>\n",
       "      <td>97.000000</td>\n",
       "      <td>...</td>\n",
       "      <td>120.000000</td>\n",
       "      <td>NaN</td>\n",
       "      <td>3.310000</td>\n",
       "      <td>3.290000</td>\n",
       "      <td>9.000000</td>\n",
       "      <td>95.000000</td>\n",
       "      <td>5200.000000</td>\n",
       "      <td>24.000000</td>\n",
       "      <td>30.000000</td>\n",
       "      <td>10295.000000</td>\n",
       "    </tr>\n",
       "    <tr>\n",
       "      <th>75%</th>\n",
       "      <td>2.000000</td>\n",
       "      <td>150.000000</td>\n",
       "      <td>NaN</td>\n",
       "      <td>NaN</td>\n",
       "      <td>NaN</td>\n",
       "      <td>NaN</td>\n",
       "      <td>NaN</td>\n",
       "      <td>NaN</td>\n",
       "      <td>NaN</td>\n",
       "      <td>102.400000</td>\n",
       "      <td>...</td>\n",
       "      <td>141.000000</td>\n",
       "      <td>NaN</td>\n",
       "      <td>3.590000</td>\n",
       "      <td>3.410000</td>\n",
       "      <td>9.400000</td>\n",
       "      <td>116.000000</td>\n",
       "      <td>5500.000000</td>\n",
       "      <td>30.000000</td>\n",
       "      <td>34.000000</td>\n",
       "      <td>16500.000000</td>\n",
       "    </tr>\n",
       "    <tr>\n",
       "      <th>max</th>\n",
       "      <td>3.000000</td>\n",
       "      <td>256.000000</td>\n",
       "      <td>NaN</td>\n",
       "      <td>NaN</td>\n",
       "      <td>NaN</td>\n",
       "      <td>NaN</td>\n",
       "      <td>NaN</td>\n",
       "      <td>NaN</td>\n",
       "      <td>NaN</td>\n",
       "      <td>120.900000</td>\n",
       "      <td>...</td>\n",
       "      <td>326.000000</td>\n",
       "      <td>NaN</td>\n",
       "      <td>3.940000</td>\n",
       "      <td>4.170000</td>\n",
       "      <td>23.000000</td>\n",
       "      <td>288.000000</td>\n",
       "      <td>6600.000000</td>\n",
       "      <td>49.000000</td>\n",
       "      <td>54.000000</td>\n",
       "      <td>45400.000000</td>\n",
       "    </tr>\n",
       "  </tbody>\n",
       "</table>\n",
       "<p>11 rows × 26 columns</p>\n",
       "</div>"
      ],
      "text/plain": [
       "         symboling      losses    make fuel-type aspiration doors  style  \\\n",
       "count   205.000000  164.000000     205       205        205   203    205   \n",
       "unique         NaN         NaN      22         2          2     2      5   \n",
       "top            NaN         NaN  toyota       gas        std  four  sedan   \n",
       "freq           NaN         NaN      32       185        168   114     96   \n",
       "mean      0.834146  122.000000     NaN       NaN        NaN   NaN    NaN   \n",
       "std       1.245307   35.442168     NaN       NaN        NaN   NaN    NaN   \n",
       "min      -2.000000   65.000000     NaN       NaN        NaN   NaN    NaN   \n",
       "25%       0.000000   94.000000     NaN       NaN        NaN   NaN    NaN   \n",
       "50%       1.000000  115.000000     NaN       NaN        NaN   NaN    NaN   \n",
       "75%       2.000000  150.000000     NaN       NaN        NaN   NaN    NaN   \n",
       "max       3.000000  256.000000     NaN       NaN        NaN   NaN    NaN   \n",
       "\n",
       "       wheels location        base      ...             size  fuel  \\\n",
       "count     205      205  205.000000      ...       205.000000   205   \n",
       "unique      3        2         NaN      ...              NaN     8   \n",
       "top       fwd    front         NaN      ...              NaN  mpfi   \n",
       "freq      120      202         NaN      ...              NaN    94   \n",
       "mean      NaN      NaN   98.756585      ...       126.907317   NaN   \n",
       "std       NaN      NaN    6.021776      ...        41.642693   NaN   \n",
       "min       NaN      NaN   86.600000      ...        61.000000   NaN   \n",
       "25%       NaN      NaN   94.500000      ...        97.000000   NaN   \n",
       "50%       NaN      NaN   97.000000      ...       120.000000   NaN   \n",
       "75%       NaN      NaN  102.400000      ...       141.000000   NaN   \n",
       "max       NaN      NaN  120.900000      ...       326.000000   NaN   \n",
       "\n",
       "              bore      stroke compression  horsepower         peak  \\\n",
       "count   201.000000  201.000000  205.000000  203.000000   203.000000   \n",
       "unique         NaN         NaN         NaN         NaN          NaN   \n",
       "top            NaN         NaN         NaN         NaN          NaN   \n",
       "freq           NaN         NaN         NaN         NaN          NaN   \n",
       "mean      3.329751    3.255423   10.142537  104.256158  5125.369458   \n",
       "std       0.273539    0.316717    3.972040   39.714369   479.334560   \n",
       "min       2.540000    2.070000    7.000000   48.000000  4150.000000   \n",
       "25%       3.150000    3.110000    8.600000   70.000000  4800.000000   \n",
       "50%       3.310000    3.290000    9.000000   95.000000  5200.000000   \n",
       "75%       3.590000    3.410000    9.400000  116.000000  5500.000000   \n",
       "max       3.940000    4.170000   23.000000  288.000000  6600.000000   \n",
       "\n",
       "               mlg     highway         price  \n",
       "count   205.000000  205.000000    201.000000  \n",
       "unique         NaN         NaN           NaN  \n",
       "top            NaN         NaN           NaN  \n",
       "freq           NaN         NaN           NaN  \n",
       "mean     25.219512   30.751220  13207.129353  \n",
       "std       6.542142    6.886443   7947.066342  \n",
       "min      13.000000   16.000000   5118.000000  \n",
       "25%      19.000000   25.000000   7775.000000  \n",
       "50%      24.000000   30.000000  10295.000000  \n",
       "75%      30.000000   34.000000  16500.000000  \n",
       "max      49.000000   54.000000  45400.000000  \n",
       "\n",
       "[11 rows x 26 columns]"
      ]
     },
     "execution_count": 59,
     "metadata": {},
     "output_type": "execute_result"
    }
   ],
   "source": [
    "Automobile.describe(include=\"all\")                        # Summary of the dataset"
   ]
  },
  {
   "cell_type": "markdown",
   "metadata": {},
   "source": [
    "### Checking for any null values"
   ]
  },
  {
   "cell_type": "code",
   "execution_count": 60,
   "metadata": {},
   "outputs": [
    {
     "data": {
      "text/plain": [
       "symboling       0\n",
       "losses         41\n",
       "make            0\n",
       "fuel-type       0\n",
       "aspiration      0\n",
       "doors           2\n",
       "style           0\n",
       "wheels          0\n",
       "location        0\n",
       "base            0\n",
       "length          0\n",
       "width           0\n",
       "height          0\n",
       "weight          0\n",
       "engine          0\n",
       "cylinders       0\n",
       "size            0\n",
       "fuel            0\n",
       "bore            4\n",
       "stroke          4\n",
       "compression     0\n",
       "horsepower      2\n",
       "peak            2\n",
       "mlg             0\n",
       "highway         0\n",
       "price           4\n",
       "dtype: int64"
      ]
     },
     "execution_count": 60,
     "metadata": {},
     "output_type": "execute_result"
    }
   ],
   "source": [
    "Automobile.isnull().sum()"
   ]
  },
  {
   "cell_type": "markdown",
   "metadata": {},
   "source": [
    "### Cleaning and Transformation"
   ]
  },
  {
   "cell_type": "markdown",
   "metadata": {},
   "source": [
    "#### 1. Cleaning the Losses column"
   ]
  },
  {
   "cell_type": "code",
   "execution_count": 61,
   "metadata": {},
   "outputs": [
    {
     "data": {
      "text/plain": [
       "count    164.000000\n",
       "mean     122.000000\n",
       "std       35.442168\n",
       "min       65.000000\n",
       "25%       94.000000\n",
       "50%      115.000000\n",
       "75%      150.000000\n",
       "max      256.000000\n",
       "Name: losses, dtype: float64"
      ]
     },
     "execution_count": 61,
     "metadata": {},
     "output_type": "execute_result"
    }
   ],
   "source": [
    "Automobile.losses.describe()"
   ]
  },
  {
   "cell_type": "code",
   "execution_count": 62,
   "metadata": {},
   "outputs": [
    {
     "data": {
      "text/plain": [
       "122.0"
      ]
     },
     "execution_count": 62,
     "metadata": {},
     "output_type": "execute_result"
    }
   ],
   "source": [
    "Automobile.losses.mean()"
   ]
  },
  {
   "cell_type": "code",
   "execution_count": 63,
   "metadata": {
    "collapsed": true
   },
   "outputs": [],
   "source": [
    "Automobile.losses = Automobile.losses.fillna(Automobile.losses.mean())      # Replced NA values into mean of losses column"
   ]
  },
  {
   "cell_type": "code",
   "execution_count": 64,
   "metadata": {},
   "outputs": [
    {
     "data": {
      "text/plain": [
       "0"
      ]
     },
     "execution_count": 64,
     "metadata": {},
     "output_type": "execute_result"
    }
   ],
   "source": [
    "Automobile.losses.isnull().sum()                     # Confirming whether they are replaced or not"
   ]
  },
  {
   "cell_type": "markdown",
   "metadata": {},
   "source": [
    "#### 2. Cleaning the bore column"
   ]
  },
  {
   "cell_type": "code",
   "execution_count": 65,
   "metadata": {},
   "outputs": [
    {
     "data": {
      "text/plain": [
       "count    201.000000\n",
       "mean       3.329751\n",
       "std        0.273539\n",
       "min        2.540000\n",
       "25%        3.150000\n",
       "50%        3.310000\n",
       "75%        3.590000\n",
       "max        3.940000\n",
       "Name: bore, dtype: float64"
      ]
     },
     "execution_count": 65,
     "metadata": {},
     "output_type": "execute_result"
    }
   ],
   "source": [
    "Automobile.bore.describe()                              # Checking the summary for bore column"
   ]
  },
  {
   "cell_type": "code",
   "execution_count": 66,
   "metadata": {},
   "outputs": [
    {
     "data": {
      "text/plain": [
       "4"
      ]
     },
     "execution_count": 66,
     "metadata": {},
     "output_type": "execute_result"
    }
   ],
   "source": [
    "Automobile.bore.isnull().sum()                            # Checking the no. of NA's present"
   ]
  },
  {
   "cell_type": "code",
   "execution_count": 67,
   "metadata": {
    "collapsed": true
   },
   "outputs": [],
   "source": [
    "Automobile.bore = Automobile.bore.fillna(Automobile.bore.mean())         # Replced NA values into mean of bore column"
   ]
  },
  {
   "cell_type": "code",
   "execution_count": 68,
   "metadata": {},
   "outputs": [
    {
     "data": {
      "text/plain": [
       "0"
      ]
     },
     "execution_count": 68,
     "metadata": {},
     "output_type": "execute_result"
    }
   ],
   "source": [
    "Automobile.bore.isnull().sum()                  # Confirming whether they are replaced or not"
   ]
  },
  {
   "cell_type": "markdown",
   "metadata": {},
   "source": [
    "#### 3. Cleaning the stroke column"
   ]
  },
  {
   "cell_type": "code",
   "execution_count": 69,
   "metadata": {},
   "outputs": [
    {
     "data": {
      "text/plain": [
       "count    201.000000\n",
       "mean       3.255423\n",
       "std        0.316717\n",
       "min        2.070000\n",
       "25%        3.110000\n",
       "50%        3.290000\n",
       "75%        3.410000\n",
       "max        4.170000\n",
       "Name: stroke, dtype: float64"
      ]
     },
     "execution_count": 69,
     "metadata": {},
     "output_type": "execute_result"
    }
   ],
   "source": [
    "Automobile.stroke.describe()                       # Checking the summary for stroke column"
   ]
  },
  {
   "cell_type": "code",
   "execution_count": 70,
   "metadata": {},
   "outputs": [
    {
     "data": {
      "text/plain": [
       "4"
      ]
     },
     "execution_count": 70,
     "metadata": {},
     "output_type": "execute_result"
    }
   ],
   "source": [
    "Automobile.stroke.isnull().sum()                    # Checking the no. of NA's present"
   ]
  },
  {
   "cell_type": "code",
   "execution_count": 71,
   "metadata": {
    "collapsed": true
   },
   "outputs": [],
   "source": [
    "Automobile.stroke = Automobile.stroke.fillna(Automobile.stroke.mean())           # Replced NA values into mean of stroke column"
   ]
  },
  {
   "cell_type": "code",
   "execution_count": 72,
   "metadata": {},
   "outputs": [
    {
     "data": {
      "text/plain": [
       "0"
      ]
     },
     "execution_count": 72,
     "metadata": {},
     "output_type": "execute_result"
    }
   ],
   "source": [
    "Automobile.stroke.isnull().sum()                     # Confirming whether they are replaced or not"
   ]
  },
  {
   "cell_type": "markdown",
   "metadata": {},
   "source": [
    "#### 4. Cleaning the horsepower column"
   ]
  },
  {
   "cell_type": "code",
   "execution_count": 73,
   "metadata": {},
   "outputs": [
    {
     "data": {
      "text/plain": [
       "count    203.000000\n",
       "mean     104.256158\n",
       "std       39.714369\n",
       "min       48.000000\n",
       "25%       70.000000\n",
       "50%       95.000000\n",
       "75%      116.000000\n",
       "max      288.000000\n",
       "Name: horsepower, dtype: float64"
      ]
     },
     "execution_count": 73,
     "metadata": {},
     "output_type": "execute_result"
    }
   ],
   "source": [
    "Automobile.horsepower.describe()                       # Checking the summary for horsepower column"
   ]
  },
  {
   "cell_type": "code",
   "execution_count": 74,
   "metadata": {},
   "outputs": [
    {
     "data": {
      "text/plain": [
       "2"
      ]
     },
     "execution_count": 74,
     "metadata": {},
     "output_type": "execute_result"
    }
   ],
   "source": [
    "Automobile.horsepower.isnull().sum()                    # Checking the no. of NA's present"
   ]
  },
  {
   "cell_type": "code",
   "execution_count": 75,
   "metadata": {
    "collapsed": true
   },
   "outputs": [],
   "source": [
    "Automobile.horsepower = Automobile.horsepower.fillna(Automobile.horsepower.median())           # Replced NA values into mean of horsepower column"
   ]
  },
  {
   "cell_type": "code",
   "execution_count": 76,
   "metadata": {},
   "outputs": [
    {
     "data": {
      "text/plain": [
       "0"
      ]
     },
     "execution_count": 76,
     "metadata": {},
     "output_type": "execute_result"
    }
   ],
   "source": [
    "Automobile.horsepower.isnull().sum()                     # Confirming whether they are replaced or not"
   ]
  },
  {
   "cell_type": "markdown",
   "metadata": {},
   "source": [
    "#### 5. Cleaning the peak column"
   ]
  },
  {
   "cell_type": "code",
   "execution_count": 77,
   "metadata": {},
   "outputs": [
    {
     "data": {
      "text/plain": [
       "count     203.000000\n",
       "mean     5125.369458\n",
       "std       479.334560\n",
       "min      4150.000000\n",
       "25%      4800.000000\n",
       "50%      5200.000000\n",
       "75%      5500.000000\n",
       "max      6600.000000\n",
       "Name: peak, dtype: float64"
      ]
     },
     "execution_count": 77,
     "metadata": {},
     "output_type": "execute_result"
    }
   ],
   "source": [
    "Automobile.peak.describe()                       # Checking the summary for peak column"
   ]
  },
  {
   "cell_type": "code",
   "execution_count": 78,
   "metadata": {},
   "outputs": [
    {
     "data": {
      "text/plain": [
       "2"
      ]
     },
     "execution_count": 78,
     "metadata": {},
     "output_type": "execute_result"
    }
   ],
   "source": [
    "Automobile.peak.isnull().sum()                    # Checking the no. of NA's present"
   ]
  },
  {
   "cell_type": "code",
   "execution_count": 79,
   "metadata": {
    "collapsed": true
   },
   "outputs": [],
   "source": [
    "Automobile.peak = Automobile.peak.fillna(Automobile.peak.mean())           # Replced NA values into mean of peak column"
   ]
  },
  {
   "cell_type": "code",
   "execution_count": 80,
   "metadata": {},
   "outputs": [
    {
     "data": {
      "text/plain": [
       "0"
      ]
     },
     "execution_count": 80,
     "metadata": {},
     "output_type": "execute_result"
    }
   ],
   "source": [
    "Automobile.peak.isnull().sum()                     # Confirming whether they are replaced or not"
   ]
  },
  {
   "cell_type": "markdown",
   "metadata": {},
   "source": [
    "#### 6. Cleaning the Price column"
   ]
  },
  {
   "cell_type": "code",
   "execution_count": 81,
   "metadata": {},
   "outputs": [
    {
     "data": {
      "text/plain": [
       "count      201.000000\n",
       "mean     13207.129353\n",
       "std       7947.066342\n",
       "min       5118.000000\n",
       "25%       7775.000000\n",
       "50%      10295.000000\n",
       "75%      16500.000000\n",
       "max      45400.000000\n",
       "Name: price, dtype: float64"
      ]
     },
     "execution_count": 81,
     "metadata": {},
     "output_type": "execute_result"
    }
   ],
   "source": [
    "Automobile.price.describe()                       # Checking the summary for stroke column"
   ]
  },
  {
   "cell_type": "code",
   "execution_count": 82,
   "metadata": {},
   "outputs": [
    {
     "data": {
      "text/plain": [
       "4"
      ]
     },
     "execution_count": 82,
     "metadata": {},
     "output_type": "execute_result"
    }
   ],
   "source": [
    "Automobile.price.isnull().sum()                    # Checking the no. of NA's present"
   ]
  },
  {
   "cell_type": "code",
   "execution_count": 83,
   "metadata": {
    "collapsed": true
   },
   "outputs": [],
   "source": [
    "Automobile.price = Automobile.price.fillna(Automobile.price.mean())           # Replced NA values into mean of stroke column"
   ]
  },
  {
   "cell_type": "code",
   "execution_count": 84,
   "metadata": {},
   "outputs": [
    {
     "data": {
      "text/plain": [
       "0"
      ]
     },
     "execution_count": 84,
     "metadata": {},
     "output_type": "execute_result"
    }
   ],
   "source": [
    "Automobile.price.isnull().sum()                     # Confirming whether they are replaced or not"
   ]
  },
  {
   "cell_type": "code",
   "execution_count": null,
   "metadata": {
    "collapsed": true
   },
   "outputs": [],
   "source": []
  },
  {
   "cell_type": "markdown",
   "metadata": {},
   "source": [
    "#### 7. Cleaning the doors column"
   ]
  },
  {
   "cell_type": "code",
   "execution_count": 85,
   "metadata": {},
   "outputs": [
    {
     "data": {
      "text/plain": [
       "count      203\n",
       "unique       2\n",
       "top       four\n",
       "freq       114\n",
       "Name: doors, dtype: object"
      ]
     },
     "execution_count": 85,
     "metadata": {},
     "output_type": "execute_result"
    }
   ],
   "source": [
    "Automobile.doors.describe()             # Checking the frequency count for doors column"
   ]
  },
  {
   "cell_type": "code",
   "execution_count": 86,
   "metadata": {},
   "outputs": [
    {
     "data": {
      "text/plain": [
       "2"
      ]
     },
     "execution_count": 86,
     "metadata": {},
     "output_type": "execute_result"
    }
   ],
   "source": [
    "Automobile.doors.isnull().sum()        # As there are 2 NA values , replacing them with high occurence of door column"
   ]
  },
  {
   "cell_type": "code",
   "execution_count": 87,
   "metadata": {
    "collapsed": true
   },
   "outputs": [],
   "source": [
    "Automobile.doors = Automobile.doors.fillna(\"four\")         # replaced them with high occurence of door column"
   ]
  },
  {
   "cell_type": "code",
   "execution_count": 88,
   "metadata": {},
   "outputs": [
    {
     "data": {
      "text/plain": [
       "0"
      ]
     },
     "execution_count": 88,
     "metadata": {},
     "output_type": "execute_result"
    }
   ],
   "source": [
    "Automobile.doors.isnull().sum()              # Confirming whether they are replaced or not"
   ]
  },
  {
   "cell_type": "code",
   "execution_count": 89,
   "metadata": {},
   "outputs": [
    {
     "data": {
      "text/plain": [
       "symboling      0\n",
       "losses         0\n",
       "make           0\n",
       "fuel-type      0\n",
       "aspiration     0\n",
       "doors          0\n",
       "style          0\n",
       "wheels         0\n",
       "location       0\n",
       "base           0\n",
       "length         0\n",
       "width          0\n",
       "height         0\n",
       "weight         0\n",
       "engine         0\n",
       "cylinders      0\n",
       "size           0\n",
       "fuel           0\n",
       "bore           0\n",
       "stroke         0\n",
       "compression    0\n",
       "horsepower     0\n",
       "peak           0\n",
       "mlg            0\n",
       "highway        0\n",
       "price          0\n",
       "dtype: int64"
      ]
     },
     "execution_count": 89,
     "metadata": {},
     "output_type": "execute_result"
    }
   ],
   "source": [
    "Automobile.isnull().sum()"
   ]
  },
  {
   "cell_type": "markdown",
   "metadata": {},
   "source": [
    "#### Now we are done with cleaning the data ,  I'll perform some Exploratory Data Analysis"
   ]
  },
  {
   "cell_type": "markdown",
   "metadata": {},
   "source": [
    "### Exploratory Data Analysis"
   ]
  },
  {
   "cell_type": "code",
   "execution_count": 90,
   "metadata": {},
   "outputs": [
    {
     "data": {
      "text/html": [
       "<div>\n",
       "<style>\n",
       "    .dataframe thead tr:only-child th {\n",
       "        text-align: right;\n",
       "    }\n",
       "\n",
       "    .dataframe thead th {\n",
       "        text-align: left;\n",
       "    }\n",
       "\n",
       "    .dataframe tbody tr th {\n",
       "        vertical-align: top;\n",
       "    }\n",
       "</style>\n",
       "<table border=\"1\" class=\"dataframe\">\n",
       "  <thead>\n",
       "    <tr style=\"text-align: right;\">\n",
       "      <th></th>\n",
       "      <th>symboling</th>\n",
       "      <th>losses</th>\n",
       "      <th>make</th>\n",
       "      <th>fuel-type</th>\n",
       "      <th>aspiration</th>\n",
       "      <th>doors</th>\n",
       "      <th>style</th>\n",
       "      <th>wheels</th>\n",
       "      <th>location</th>\n",
       "      <th>base</th>\n",
       "      <th>...</th>\n",
       "      <th>size</th>\n",
       "      <th>fuel</th>\n",
       "      <th>bore</th>\n",
       "      <th>stroke</th>\n",
       "      <th>compression</th>\n",
       "      <th>horsepower</th>\n",
       "      <th>peak</th>\n",
       "      <th>mlg</th>\n",
       "      <th>highway</th>\n",
       "      <th>price</th>\n",
       "    </tr>\n",
       "  </thead>\n",
       "  <tbody>\n",
       "    <tr>\n",
       "      <th>count</th>\n",
       "      <td>205.000000</td>\n",
       "      <td>205.000000</td>\n",
       "      <td>205</td>\n",
       "      <td>205</td>\n",
       "      <td>205</td>\n",
       "      <td>205</td>\n",
       "      <td>205</td>\n",
       "      <td>205</td>\n",
       "      <td>205</td>\n",
       "      <td>205.000000</td>\n",
       "      <td>...</td>\n",
       "      <td>205.000000</td>\n",
       "      <td>205</td>\n",
       "      <td>205.000000</td>\n",
       "      <td>205.000000</td>\n",
       "      <td>205.000000</td>\n",
       "      <td>205.000000</td>\n",
       "      <td>205.000000</td>\n",
       "      <td>205.000000</td>\n",
       "      <td>205.000000</td>\n",
       "      <td>205.000000</td>\n",
       "    </tr>\n",
       "    <tr>\n",
       "      <th>unique</th>\n",
       "      <td>NaN</td>\n",
       "      <td>NaN</td>\n",
       "      <td>22</td>\n",
       "      <td>2</td>\n",
       "      <td>2</td>\n",
       "      <td>2</td>\n",
       "      <td>5</td>\n",
       "      <td>3</td>\n",
       "      <td>2</td>\n",
       "      <td>NaN</td>\n",
       "      <td>...</td>\n",
       "      <td>NaN</td>\n",
       "      <td>8</td>\n",
       "      <td>NaN</td>\n",
       "      <td>NaN</td>\n",
       "      <td>NaN</td>\n",
       "      <td>NaN</td>\n",
       "      <td>NaN</td>\n",
       "      <td>NaN</td>\n",
       "      <td>NaN</td>\n",
       "      <td>NaN</td>\n",
       "    </tr>\n",
       "    <tr>\n",
       "      <th>top</th>\n",
       "      <td>NaN</td>\n",
       "      <td>NaN</td>\n",
       "      <td>toyota</td>\n",
       "      <td>gas</td>\n",
       "      <td>std</td>\n",
       "      <td>four</td>\n",
       "      <td>sedan</td>\n",
       "      <td>fwd</td>\n",
       "      <td>front</td>\n",
       "      <td>NaN</td>\n",
       "      <td>...</td>\n",
       "      <td>NaN</td>\n",
       "      <td>mpfi</td>\n",
       "      <td>NaN</td>\n",
       "      <td>NaN</td>\n",
       "      <td>NaN</td>\n",
       "      <td>NaN</td>\n",
       "      <td>NaN</td>\n",
       "      <td>NaN</td>\n",
       "      <td>NaN</td>\n",
       "      <td>NaN</td>\n",
       "    </tr>\n",
       "    <tr>\n",
       "      <th>freq</th>\n",
       "      <td>NaN</td>\n",
       "      <td>NaN</td>\n",
       "      <td>32</td>\n",
       "      <td>185</td>\n",
       "      <td>168</td>\n",
       "      <td>116</td>\n",
       "      <td>96</td>\n",
       "      <td>120</td>\n",
       "      <td>202</td>\n",
       "      <td>NaN</td>\n",
       "      <td>...</td>\n",
       "      <td>NaN</td>\n",
       "      <td>94</td>\n",
       "      <td>NaN</td>\n",
       "      <td>NaN</td>\n",
       "      <td>NaN</td>\n",
       "      <td>NaN</td>\n",
       "      <td>NaN</td>\n",
       "      <td>NaN</td>\n",
       "      <td>NaN</td>\n",
       "      <td>NaN</td>\n",
       "    </tr>\n",
       "    <tr>\n",
       "      <th>mean</th>\n",
       "      <td>0.834146</td>\n",
       "      <td>122.000000</td>\n",
       "      <td>NaN</td>\n",
       "      <td>NaN</td>\n",
       "      <td>NaN</td>\n",
       "      <td>NaN</td>\n",
       "      <td>NaN</td>\n",
       "      <td>NaN</td>\n",
       "      <td>NaN</td>\n",
       "      <td>98.756585</td>\n",
       "      <td>...</td>\n",
       "      <td>126.907317</td>\n",
       "      <td>NaN</td>\n",
       "      <td>3.329751</td>\n",
       "      <td>3.255423</td>\n",
       "      <td>10.142537</td>\n",
       "      <td>104.165854</td>\n",
       "      <td>5125.369458</td>\n",
       "      <td>25.219512</td>\n",
       "      <td>30.751220</td>\n",
       "      <td>13207.129353</td>\n",
       "    </tr>\n",
       "    <tr>\n",
       "      <th>std</th>\n",
       "      <td>1.245307</td>\n",
       "      <td>31.681008</td>\n",
       "      <td>NaN</td>\n",
       "      <td>NaN</td>\n",
       "      <td>NaN</td>\n",
       "      <td>NaN</td>\n",
       "      <td>NaN</td>\n",
       "      <td>NaN</td>\n",
       "      <td>NaN</td>\n",
       "      <td>6.021776</td>\n",
       "      <td>...</td>\n",
       "      <td>41.642693</td>\n",
       "      <td>NaN</td>\n",
       "      <td>0.270844</td>\n",
       "      <td>0.313597</td>\n",
       "      <td>3.972040</td>\n",
       "      <td>39.529733</td>\n",
       "      <td>476.979093</td>\n",
       "      <td>6.542142</td>\n",
       "      <td>6.886443</td>\n",
       "      <td>7868.768212</td>\n",
       "    </tr>\n",
       "    <tr>\n",
       "      <th>min</th>\n",
       "      <td>-2.000000</td>\n",
       "      <td>65.000000</td>\n",
       "      <td>NaN</td>\n",
       "      <td>NaN</td>\n",
       "      <td>NaN</td>\n",
       "      <td>NaN</td>\n",
       "      <td>NaN</td>\n",
       "      <td>NaN</td>\n",
       "      <td>NaN</td>\n",
       "      <td>86.600000</td>\n",
       "      <td>...</td>\n",
       "      <td>61.000000</td>\n",
       "      <td>NaN</td>\n",
       "      <td>2.540000</td>\n",
       "      <td>2.070000</td>\n",
       "      <td>7.000000</td>\n",
       "      <td>48.000000</td>\n",
       "      <td>4150.000000</td>\n",
       "      <td>13.000000</td>\n",
       "      <td>16.000000</td>\n",
       "      <td>5118.000000</td>\n",
       "    </tr>\n",
       "    <tr>\n",
       "      <th>25%</th>\n",
       "      <td>0.000000</td>\n",
       "      <td>101.000000</td>\n",
       "      <td>NaN</td>\n",
       "      <td>NaN</td>\n",
       "      <td>NaN</td>\n",
       "      <td>NaN</td>\n",
       "      <td>NaN</td>\n",
       "      <td>NaN</td>\n",
       "      <td>NaN</td>\n",
       "      <td>94.500000</td>\n",
       "      <td>...</td>\n",
       "      <td>97.000000</td>\n",
       "      <td>NaN</td>\n",
       "      <td>3.150000</td>\n",
       "      <td>3.110000</td>\n",
       "      <td>8.600000</td>\n",
       "      <td>70.000000</td>\n",
       "      <td>4800.000000</td>\n",
       "      <td>19.000000</td>\n",
       "      <td>25.000000</td>\n",
       "      <td>7788.000000</td>\n",
       "    </tr>\n",
       "    <tr>\n",
       "      <th>50%</th>\n",
       "      <td>1.000000</td>\n",
       "      <td>122.000000</td>\n",
       "      <td>NaN</td>\n",
       "      <td>NaN</td>\n",
       "      <td>NaN</td>\n",
       "      <td>NaN</td>\n",
       "      <td>NaN</td>\n",
       "      <td>NaN</td>\n",
       "      <td>NaN</td>\n",
       "      <td>97.000000</td>\n",
       "      <td>...</td>\n",
       "      <td>120.000000</td>\n",
       "      <td>NaN</td>\n",
       "      <td>3.310000</td>\n",
       "      <td>3.290000</td>\n",
       "      <td>9.000000</td>\n",
       "      <td>95.000000</td>\n",
       "      <td>5200.000000</td>\n",
       "      <td>24.000000</td>\n",
       "      <td>30.000000</td>\n",
       "      <td>10595.000000</td>\n",
       "    </tr>\n",
       "    <tr>\n",
       "      <th>75%</th>\n",
       "      <td>2.000000</td>\n",
       "      <td>137.000000</td>\n",
       "      <td>NaN</td>\n",
       "      <td>NaN</td>\n",
       "      <td>NaN</td>\n",
       "      <td>NaN</td>\n",
       "      <td>NaN</td>\n",
       "      <td>NaN</td>\n",
       "      <td>NaN</td>\n",
       "      <td>102.400000</td>\n",
       "      <td>...</td>\n",
       "      <td>141.000000</td>\n",
       "      <td>NaN</td>\n",
       "      <td>3.580000</td>\n",
       "      <td>3.410000</td>\n",
       "      <td>9.400000</td>\n",
       "      <td>116.000000</td>\n",
       "      <td>5500.000000</td>\n",
       "      <td>30.000000</td>\n",
       "      <td>34.000000</td>\n",
       "      <td>16500.000000</td>\n",
       "    </tr>\n",
       "    <tr>\n",
       "      <th>max</th>\n",
       "      <td>3.000000</td>\n",
       "      <td>256.000000</td>\n",
       "      <td>NaN</td>\n",
       "      <td>NaN</td>\n",
       "      <td>NaN</td>\n",
       "      <td>NaN</td>\n",
       "      <td>NaN</td>\n",
       "      <td>NaN</td>\n",
       "      <td>NaN</td>\n",
       "      <td>120.900000</td>\n",
       "      <td>...</td>\n",
       "      <td>326.000000</td>\n",
       "      <td>NaN</td>\n",
       "      <td>3.940000</td>\n",
       "      <td>4.170000</td>\n",
       "      <td>23.000000</td>\n",
       "      <td>288.000000</td>\n",
       "      <td>6600.000000</td>\n",
       "      <td>49.000000</td>\n",
       "      <td>54.000000</td>\n",
       "      <td>45400.000000</td>\n",
       "    </tr>\n",
       "  </tbody>\n",
       "</table>\n",
       "<p>11 rows × 26 columns</p>\n",
       "</div>"
      ],
      "text/plain": [
       "         symboling      losses    make fuel-type aspiration doors  style  \\\n",
       "count   205.000000  205.000000     205       205        205   205    205   \n",
       "unique         NaN         NaN      22         2          2     2      5   \n",
       "top            NaN         NaN  toyota       gas        std  four  sedan   \n",
       "freq           NaN         NaN      32       185        168   116     96   \n",
       "mean      0.834146  122.000000     NaN       NaN        NaN   NaN    NaN   \n",
       "std       1.245307   31.681008     NaN       NaN        NaN   NaN    NaN   \n",
       "min      -2.000000   65.000000     NaN       NaN        NaN   NaN    NaN   \n",
       "25%       0.000000  101.000000     NaN       NaN        NaN   NaN    NaN   \n",
       "50%       1.000000  122.000000     NaN       NaN        NaN   NaN    NaN   \n",
       "75%       2.000000  137.000000     NaN       NaN        NaN   NaN    NaN   \n",
       "max       3.000000  256.000000     NaN       NaN        NaN   NaN    NaN   \n",
       "\n",
       "       wheels location        base      ...             size  fuel  \\\n",
       "count     205      205  205.000000      ...       205.000000   205   \n",
       "unique      3        2         NaN      ...              NaN     8   \n",
       "top       fwd    front         NaN      ...              NaN  mpfi   \n",
       "freq      120      202         NaN      ...              NaN    94   \n",
       "mean      NaN      NaN   98.756585      ...       126.907317   NaN   \n",
       "std       NaN      NaN    6.021776      ...        41.642693   NaN   \n",
       "min       NaN      NaN   86.600000      ...        61.000000   NaN   \n",
       "25%       NaN      NaN   94.500000      ...        97.000000   NaN   \n",
       "50%       NaN      NaN   97.000000      ...       120.000000   NaN   \n",
       "75%       NaN      NaN  102.400000      ...       141.000000   NaN   \n",
       "max       NaN      NaN  120.900000      ...       326.000000   NaN   \n",
       "\n",
       "              bore      stroke compression  horsepower         peak  \\\n",
       "count   205.000000  205.000000  205.000000  205.000000   205.000000   \n",
       "unique         NaN         NaN         NaN         NaN          NaN   \n",
       "top            NaN         NaN         NaN         NaN          NaN   \n",
       "freq           NaN         NaN         NaN         NaN          NaN   \n",
       "mean      3.329751    3.255423   10.142537  104.165854  5125.369458   \n",
       "std       0.270844    0.313597    3.972040   39.529733   476.979093   \n",
       "min       2.540000    2.070000    7.000000   48.000000  4150.000000   \n",
       "25%       3.150000    3.110000    8.600000   70.000000  4800.000000   \n",
       "50%       3.310000    3.290000    9.000000   95.000000  5200.000000   \n",
       "75%       3.580000    3.410000    9.400000  116.000000  5500.000000   \n",
       "max       3.940000    4.170000   23.000000  288.000000  6600.000000   \n",
       "\n",
       "               mlg     highway         price  \n",
       "count   205.000000  205.000000    205.000000  \n",
       "unique         NaN         NaN           NaN  \n",
       "top            NaN         NaN           NaN  \n",
       "freq           NaN         NaN           NaN  \n",
       "mean     25.219512   30.751220  13207.129353  \n",
       "std       6.542142    6.886443   7868.768212  \n",
       "min      13.000000   16.000000   5118.000000  \n",
       "25%      19.000000   25.000000   7788.000000  \n",
       "50%      24.000000   30.000000  10595.000000  \n",
       "75%      30.000000   34.000000  16500.000000  \n",
       "max      49.000000   54.000000  45400.000000  \n",
       "\n",
       "[11 rows x 26 columns]"
      ]
     },
     "execution_count": 90,
     "metadata": {},
     "output_type": "execute_result"
    }
   ],
   "source": [
    "Automobile.describe(include=\"all\")"
   ]
  },
  {
   "cell_type": "code",
   "execution_count": 91,
   "metadata": {},
   "outputs": [
    {
     "data": {
      "text/plain": [
       "Index(['symboling', 'losses', 'make', 'fuel-type', 'aspiration', 'doors',\n",
       "       'style', 'wheels', 'location', 'base', 'length', 'width', 'height',\n",
       "       'weight', 'engine', 'cylinders', 'size', 'fuel', 'bore', 'stroke',\n",
       "       'compression', 'horsepower', 'peak', 'mlg', 'highway', 'price'],\n",
       "      dtype='object')"
      ]
     },
     "execution_count": 91,
     "metadata": {},
     "output_type": "execute_result"
    }
   ],
   "source": [
    "Automobile.columns                               # Column names of dataset"
   ]
  },
  {
   "cell_type": "code",
   "execution_count": 92,
   "metadata": {
    "collapsed": true
   },
   "outputs": [],
   "source": [
    "Automobile = Automobile.rename(columns={\"fuel-type\":\"fueltype\", \"style\":\"Style\",\"size\": \"Size\"})  # Renaming some column name"
   ]
  },
  {
   "cell_type": "code",
   "execution_count": 93,
   "metadata": {
    "collapsed": true
   },
   "outputs": [],
   "source": [
    "Automobile2 = copy.deepcopy(Automobile)            # Creating a copy of Automobile dataset"
   ]
  },
  {
   "cell_type": "markdown",
   "metadata": {},
   "source": [
    "### 1. Unique Car manufacturer"
   ]
  },
  {
   "cell_type": "code",
   "execution_count": 94,
   "metadata": {},
   "outputs": [
    {
     "name": "stdout",
     "output_type": "stream",
     "text": [
      "The unique car Manufacturer are: ['alfa-romero' 'audi' 'bmw' 'chevrolet' 'dodge' 'honda' 'isuzu' 'jaguar'\n",
      " 'mazda' 'mercedes-benz' 'mercury' 'mitsubishi' 'nissan' 'peugot'\n",
      " 'plymouth' 'porsche' 'renault' 'saab' 'subaru' 'toyota' 'volkswagen'\n",
      " 'volvo']\n"
     ]
    }
   ],
   "source": [
    "print(\"The unique car Manufacturer are:\" , Automobile.make.unique())"
   ]
  },
  {
   "cell_type": "markdown",
   "metadata": {},
   "source": [
    "#### Plotting each manufacturer's car count"
   ]
  },
  {
   "cell_type": "code",
   "execution_count": 100,
   "metadata": {},
   "outputs": [
    {
     "data": {
      "text/plain": [
       "(array([ 0,  1,  2,  3,  4,  5,  6,  7,  8,  9, 10, 11, 12, 13, 14, 15, 16,\n",
       "        17, 18, 19, 20, 21]), <a list of 22 Text xticklabel objects>)"
      ]
     },
     "execution_count": 100,
     "metadata": {},
     "output_type": "execute_result"
    },
    {
     "data": {
      "image/png": "[encoded data removed]",
      "text/plain": [
       "<matplotlib.figure.Figure at 0x54a58614a8>"
      ]
     },
     "metadata": {},
     "output_type": "display_data"
    }
   ],
   "source": [
    "sns.countplot(Automobile.make  )                        # Countplot for each manufacturer's car count\n",
    "plt.xticks(rotation = \"vertical\")"
   ]
  },
  {
   "cell_type": "markdown",
   "metadata": {},
   "source": [
    "### 2. Each car's type"
   ]
  },
  {
   "cell_type": "code",
   "execution_count": 101,
   "metadata": {},
   "outputs": [
    {
     "data": {
      "text/plain": [
       "<matplotlib.axes._subplots.AxesSubplot at 0x5497a4ae10>"
      ]
     },
     "execution_count": 101,
     "metadata": {},
     "output_type": "execute_result"
    },
    {
     "data": {
      "image/png": "[encoded data removed]",
      "text/plain": [
       "<matplotlib.figure.Figure at 0x549799c9b0>"
      ]
     },
     "metadata": {},
     "output_type": "display_data"
    }
   ],
   "source": [
    "sns.countplot(Automobile[\"Style\"]  )                        # Countplot for each car's type"
   ]
  },
  {
   "cell_type": "markdown",
   "metadata": {},
   "source": [
    "### 3. Mileage per car on Highway"
   ]
  },
  {
   "cell_type": "code",
   "execution_count": 106,
   "metadata": {},
   "outputs": [
    {
     "data": {
      "text/html": [
       "<div>\n",
       "<style>\n",
       "    .dataframe thead tr:only-child th {\n",
       "        text-align: right;\n",
       "    }\n",
       "\n",
       "    .dataframe thead th {\n",
       "        text-align: left;\n",
       "    }\n",
       "\n",
       "    .dataframe tbody tr th {\n",
       "        vertical-align: top;\n",
       "    }\n",
       "</style>\n",
       "<table border=\"1\" class=\"dataframe\">\n",
       "  <thead>\n",
       "    <tr style=\"text-align: right;\">\n",
       "      <th></th>\n",
       "      <th>symboling</th>\n",
       "      <th>losses</th>\n",
       "      <th>base</th>\n",
       "      <th>length</th>\n",
       "      <th>width</th>\n",
       "      <th>height</th>\n",
       "      <th>weight</th>\n",
       "      <th>Size</th>\n",
       "      <th>bore</th>\n",
       "      <th>stroke</th>\n",
       "      <th>compression</th>\n",
       "      <th>horsepower</th>\n",
       "      <th>peak</th>\n",
       "      <th>mlg</th>\n",
       "      <th>highway</th>\n",
       "      <th>price</th>\n",
       "    </tr>\n",
       "    <tr>\n",
       "      <th>make</th>\n",
       "      <th></th>\n",
       "      <th></th>\n",
       "      <th></th>\n",
       "      <th></th>\n",
       "      <th></th>\n",
       "      <th></th>\n",
       "      <th></th>\n",
       "      <th></th>\n",
       "      <th></th>\n",
       "      <th></th>\n",
       "      <th></th>\n",
       "      <th></th>\n",
       "      <th></th>\n",
       "      <th></th>\n",
       "      <th></th>\n",
       "      <th></th>\n",
       "    </tr>\n",
       "  </thead>\n",
       "  <tbody>\n",
       "    <tr>\n",
       "      <th>alfa-romero</th>\n",
       "      <td>2.333333</td>\n",
       "      <td>122.000000</td>\n",
       "      <td>90.566667</td>\n",
       "      <td>169.600000</td>\n",
       "      <td>64.566667</td>\n",
       "      <td>50.000000</td>\n",
       "      <td>2639.666667</td>\n",
       "      <td>137.333333</td>\n",
       "      <td>3.206667</td>\n",
       "      <td>2.943333</td>\n",
       "      <td>9.000000</td>\n",
       "      <td>125.333333</td>\n",
       "      <td>5000.000000</td>\n",
       "      <td>20.333333</td>\n",
       "      <td>26.666667</td>\n",
       "      <td>15498.333333</td>\n",
       "    </tr>\n",
       "    <tr>\n",
       "      <th>audi</th>\n",
       "      <td>1.285714</td>\n",
       "      <td>144.285714</td>\n",
       "      <td>102.271429</td>\n",
       "      <td>183.828571</td>\n",
       "      <td>68.714286</td>\n",
       "      <td>54.428571</td>\n",
       "      <td>2800.714286</td>\n",
       "      <td>130.714286</td>\n",
       "      <td>3.172857</td>\n",
       "      <td>3.400000</td>\n",
       "      <td>8.400000</td>\n",
       "      <td>121.000000</td>\n",
       "      <td>5500.000000</td>\n",
       "      <td>18.857143</td>\n",
       "      <td>24.142857</td>\n",
       "      <td>17194.589908</td>\n",
       "    </tr>\n",
       "    <tr>\n",
       "      <th>bmw</th>\n",
       "      <td>0.375000</td>\n",
       "      <td>156.000000</td>\n",
       "      <td>103.162500</td>\n",
       "      <td>184.500000</td>\n",
       "      <td>66.475000</td>\n",
       "      <td>54.825000</td>\n",
       "      <td>2929.375000</td>\n",
       "      <td>166.875000</td>\n",
       "      <td>3.473750</td>\n",
       "      <td>3.167500</td>\n",
       "      <td>8.575000</td>\n",
       "      <td>138.875000</td>\n",
       "      <td>5068.750000</td>\n",
       "      <td>19.375000</td>\n",
       "      <td>25.375000</td>\n",
       "      <td>26118.750000</td>\n",
       "    </tr>\n",
       "    <tr>\n",
       "      <th>chevrolet</th>\n",
       "      <td>1.000000</td>\n",
       "      <td>100.000000</td>\n",
       "      <td>92.466667</td>\n",
       "      <td>151.933333</td>\n",
       "      <td>62.500000</td>\n",
       "      <td>52.400000</td>\n",
       "      <td>1757.000000</td>\n",
       "      <td>80.333333</td>\n",
       "      <td>2.990000</td>\n",
       "      <td>3.083333</td>\n",
       "      <td>9.566667</td>\n",
       "      <td>62.666667</td>\n",
       "      <td>5300.000000</td>\n",
       "      <td>41.000000</td>\n",
       "      <td>46.333333</td>\n",
       "      <td>6007.000000</td>\n",
       "    </tr>\n",
       "    <tr>\n",
       "      <th>dodge</th>\n",
       "      <td>1.000000</td>\n",
       "      <td>133.444444</td>\n",
       "      <td>95.011111</td>\n",
       "      <td>160.988889</td>\n",
       "      <td>64.166667</td>\n",
       "      <td>51.644444</td>\n",
       "      <td>2151.333333</td>\n",
       "      <td>102.666667</td>\n",
       "      <td>3.094444</td>\n",
       "      <td>3.365556</td>\n",
       "      <td>8.634444</td>\n",
       "      <td>86.333333</td>\n",
       "      <td>5388.888889</td>\n",
       "      <td>28.000000</td>\n",
       "      <td>34.111111</td>\n",
       "      <td>7875.444444</td>\n",
       "    </tr>\n",
       "    <tr>\n",
       "      <th>honda</th>\n",
       "      <td>0.615385</td>\n",
       "      <td>103.000000</td>\n",
       "      <td>94.330769</td>\n",
       "      <td>160.769231</td>\n",
       "      <td>64.384615</td>\n",
       "      <td>53.238462</td>\n",
       "      <td>2096.769231</td>\n",
       "      <td>99.307692</td>\n",
       "      <td>3.021538</td>\n",
       "      <td>3.462308</td>\n",
       "      <td>9.215385</td>\n",
       "      <td>80.230769</td>\n",
       "      <td>5753.846154</td>\n",
       "      <td>30.384615</td>\n",
       "      <td>35.461538</td>\n",
       "      <td>8184.692308</td>\n",
       "    </tr>\n",
       "    <tr>\n",
       "      <th>isuzu</th>\n",
       "      <td>0.750000</td>\n",
       "      <td>122.000000</td>\n",
       "      <td>94.825000</td>\n",
       "      <td>163.775000</td>\n",
       "      <td>63.550000</td>\n",
       "      <td>52.225000</td>\n",
       "      <td>2213.500000</td>\n",
       "      <td>102.500000</td>\n",
       "      <td>3.200000</td>\n",
       "      <td>3.170000</td>\n",
       "      <td>9.225000</td>\n",
       "      <td>77.000000</td>\n",
       "      <td>5150.000000</td>\n",
       "      <td>31.000000</td>\n",
       "      <td>36.000000</td>\n",
       "      <td>11061.814677</td>\n",
       "    </tr>\n",
       "    <tr>\n",
       "      <th>jaguar</th>\n",
       "      <td>0.000000</td>\n",
       "      <td>129.666667</td>\n",
       "      <td>109.333333</td>\n",
       "      <td>196.966667</td>\n",
       "      <td>69.933333</td>\n",
       "      <td>51.133333</td>\n",
       "      <td>4027.333333</td>\n",
       "      <td>280.666667</td>\n",
       "      <td>3.600000</td>\n",
       "      <td>3.700000</td>\n",
       "      <td>9.233333</td>\n",
       "      <td>204.666667</td>\n",
       "      <td>4833.333333</td>\n",
       "      <td>14.333333</td>\n",
       "      <td>18.333333</td>\n",
       "      <td>34600.000000</td>\n",
       "    </tr>\n",
       "    <tr>\n",
       "      <th>mazda</th>\n",
       "      <td>1.117647</td>\n",
       "      <td>123.705882</td>\n",
       "      <td>97.017647</td>\n",
       "      <td>170.805882</td>\n",
       "      <td>65.588235</td>\n",
       "      <td>53.358824</td>\n",
       "      <td>2297.823529</td>\n",
       "      <td>103.000000</td>\n",
       "      <td>3.297000</td>\n",
       "      <td>3.288923</td>\n",
       "      <td>10.488235</td>\n",
       "      <td>85.529412</td>\n",
       "      <td>5108.823529</td>\n",
       "      <td>25.705882</td>\n",
       "      <td>31.941176</td>\n",
       "      <td>10652.882353</td>\n",
       "    </tr>\n",
       "    <tr>\n",
       "      <th>mercedes-benz</th>\n",
       "      <td>0.000000</td>\n",
       "      <td>110.000000</td>\n",
       "      <td>110.925000</td>\n",
       "      <td>195.262500</td>\n",
       "      <td>71.062500</td>\n",
       "      <td>55.725000</td>\n",
       "      <td>3696.250000</td>\n",
       "      <td>226.500000</td>\n",
       "      <td>3.605000</td>\n",
       "      <td>3.432500</td>\n",
       "      <td>14.825000</td>\n",
       "      <td>146.250000</td>\n",
       "      <td>4487.500000</td>\n",
       "      <td>18.500000</td>\n",
       "      <td>21.000000</td>\n",
       "      <td>33647.000000</td>\n",
       "    </tr>\n",
       "    <tr>\n",
       "      <th>mercury</th>\n",
       "      <td>1.000000</td>\n",
       "      <td>122.000000</td>\n",
       "      <td>102.700000</td>\n",
       "      <td>178.400000</td>\n",
       "      <td>68.000000</td>\n",
       "      <td>54.800000</td>\n",
       "      <td>2910.000000</td>\n",
       "      <td>140.000000</td>\n",
       "      <td>3.780000</td>\n",
       "      <td>3.120000</td>\n",
       "      <td>8.000000</td>\n",
       "      <td>175.000000</td>\n",
       "      <td>5000.000000</td>\n",
       "      <td>19.000000</td>\n",
       "      <td>24.000000</td>\n",
       "      <td>16503.000000</td>\n",
       "    </tr>\n",
       "    <tr>\n",
       "      <th>mitsubishi</th>\n",
       "      <td>1.846154</td>\n",
       "      <td>140.615385</td>\n",
       "      <td>95.353846</td>\n",
       "      <td>168.030769</td>\n",
       "      <td>65.253846</td>\n",
       "      <td>50.692308</td>\n",
       "      <td>2381.923077</td>\n",
       "      <td>118.307692</td>\n",
       "      <td>3.250769</td>\n",
       "      <td>3.493846</td>\n",
       "      <td>8.061538</td>\n",
       "      <td>104.076923</td>\n",
       "      <td>5269.230769</td>\n",
       "      <td>24.923077</td>\n",
       "      <td>31.153846</td>\n",
       "      <td>9239.769231</td>\n",
       "    </tr>\n",
       "    <tr>\n",
       "      <th>nissan</th>\n",
       "      <td>1.000000</td>\n",
       "      <td>135.166667</td>\n",
       "      <td>95.722222</td>\n",
       "      <td>170.988889</td>\n",
       "      <td>65.088889</td>\n",
       "      <td>53.633333</td>\n",
       "      <td>2400.388889</td>\n",
       "      <td>127.888889</td>\n",
       "      <td>3.254444</td>\n",
       "      <td>3.313333</td>\n",
       "      <td>9.794444</td>\n",
       "      <td>102.555556</td>\n",
       "      <td>5177.777778</td>\n",
       "      <td>27.000000</td>\n",
       "      <td>32.944444</td>\n",
       "      <td>10415.666667</td>\n",
       "    </tr>\n",
       "    <tr>\n",
       "      <th>peugot</th>\n",
       "      <td>0.000000</td>\n",
       "      <td>146.818182</td>\n",
       "      <td>110.200000</td>\n",
       "      <td>191.136364</td>\n",
       "      <td>68.390909</td>\n",
       "      <td>57.181818</td>\n",
       "      <td>3221.000000</td>\n",
       "      <td>135.818182</td>\n",
       "      <td>3.582727</td>\n",
       "      <td>3.160000</td>\n",
       "      <td>14.000000</td>\n",
       "      <td>99.818182</td>\n",
       "      <td>4668.181818</td>\n",
       "      <td>22.454545</td>\n",
       "      <td>26.636364</td>\n",
       "      <td>15489.090909</td>\n",
       "    </tr>\n",
       "    <tr>\n",
       "      <th>plymouth</th>\n",
       "      <td>1.000000</td>\n",
       "      <td>128.000000</td>\n",
       "      <td>95.385714</td>\n",
       "      <td>164.900000</td>\n",
       "      <td>64.271429</td>\n",
       "      <td>51.971429</td>\n",
       "      <td>2220.857143</td>\n",
       "      <td>106.285714</td>\n",
       "      <td>3.121429</td>\n",
       "      <td>3.375714</td>\n",
       "      <td>8.671429</td>\n",
       "      <td>86.714286</td>\n",
       "      <td>5357.142857</td>\n",
       "      <td>28.142857</td>\n",
       "      <td>34.142857</td>\n",
       "      <td>7963.428571</td>\n",
       "    </tr>\n",
       "    <tr>\n",
       "      <th>porsche</th>\n",
       "      <td>2.600000</td>\n",
       "      <td>134.800000</td>\n",
       "      <td>92.280000</td>\n",
       "      <td>170.260000</td>\n",
       "      <td>67.120000</td>\n",
       "      <td>51.100000</td>\n",
       "      <td>2891.200000</td>\n",
       "      <td>187.200000</td>\n",
       "      <td>3.820000</td>\n",
       "      <td>2.984000</td>\n",
       "      <td>9.600000</td>\n",
       "      <td>210.400000</td>\n",
       "      <td>5790.000000</td>\n",
       "      <td>17.400000</td>\n",
       "      <td>26.000000</td>\n",
       "      <td>27761.825871</td>\n",
       "    </tr>\n",
       "    <tr>\n",
       "      <th>renault</th>\n",
       "      <td>1.000000</td>\n",
       "      <td>122.000000</td>\n",
       "      <td>96.100000</td>\n",
       "      <td>179.150000</td>\n",
       "      <td>66.550000</td>\n",
       "      <td>52.850000</td>\n",
       "      <td>2519.500000</td>\n",
       "      <td>132.000000</td>\n",
       "      <td>3.460000</td>\n",
       "      <td>3.900000</td>\n",
       "      <td>8.700000</td>\n",
       "      <td>95.000000</td>\n",
       "      <td>5125.369458</td>\n",
       "      <td>23.000000</td>\n",
       "      <td>31.000000</td>\n",
       "      <td>9595.000000</td>\n",
       "    </tr>\n",
       "    <tr>\n",
       "      <th>saab</th>\n",
       "      <td>2.500000</td>\n",
       "      <td>127.000000</td>\n",
       "      <td>99.100000</td>\n",
       "      <td>186.600000</td>\n",
       "      <td>66.500000</td>\n",
       "      <td>56.100000</td>\n",
       "      <td>2745.500000</td>\n",
       "      <td>121.000000</td>\n",
       "      <td>3.373333</td>\n",
       "      <td>2.903333</td>\n",
       "      <td>9.201667</td>\n",
       "      <td>126.666667</td>\n",
       "      <td>5333.333333</td>\n",
       "      <td>20.333333</td>\n",
       "      <td>27.333333</td>\n",
       "      <td>15223.333333</td>\n",
       "    </tr>\n",
       "    <tr>\n",
       "      <th>subaru</th>\n",
       "      <td>0.500000</td>\n",
       "      <td>92.250000</td>\n",
       "      <td>96.175000</td>\n",
       "      <td>168.858333</td>\n",
       "      <td>64.950000</td>\n",
       "      <td>53.750000</td>\n",
       "      <td>2316.250000</td>\n",
       "      <td>107.083333</td>\n",
       "      <td>3.620000</td>\n",
       "      <td>2.616667</td>\n",
       "      <td>8.816667</td>\n",
       "      <td>86.250000</td>\n",
       "      <td>4775.000000</td>\n",
       "      <td>26.333333</td>\n",
       "      <td>30.750000</td>\n",
       "      <td>8541.250000</td>\n",
       "    </tr>\n",
       "    <tr>\n",
       "      <th>toyota</th>\n",
       "      <td>0.562500</td>\n",
       "      <td>110.656250</td>\n",
       "      <td>98.103125</td>\n",
       "      <td>171.934375</td>\n",
       "      <td>65.090625</td>\n",
       "      <td>53.721875</td>\n",
       "      <td>2441.093750</td>\n",
       "      <td>118.812500</td>\n",
       "      <td>3.280000</td>\n",
       "      <td>3.255000</td>\n",
       "      <td>10.340625</td>\n",
       "      <td>92.781250</td>\n",
       "      <td>4859.375000</td>\n",
       "      <td>27.500000</td>\n",
       "      <td>32.906250</td>\n",
       "      <td>9885.812500</td>\n",
       "    </tr>\n",
       "    <tr>\n",
       "      <th>volkswagen</th>\n",
       "      <td>1.666667</td>\n",
       "      <td>121.500000</td>\n",
       "      <td>97.608333</td>\n",
       "      <td>172.533333</td>\n",
       "      <td>65.616667</td>\n",
       "      <td>55.183333</td>\n",
       "      <td>2343.166667</td>\n",
       "      <td>107.250000</td>\n",
       "      <td>3.130000</td>\n",
       "      <td>3.400000</td>\n",
       "      <td>13.625000</td>\n",
       "      <td>81.083333</td>\n",
       "      <td>5154.166667</td>\n",
       "      <td>28.583333</td>\n",
       "      <td>34.916667</td>\n",
       "      <td>10077.500000</td>\n",
       "    </tr>\n",
       "    <tr>\n",
       "      <th>volvo</th>\n",
       "      <td>-1.272727</td>\n",
       "      <td>91.454545</td>\n",
       "      <td>106.481818</td>\n",
       "      <td>188.800000</td>\n",
       "      <td>67.963636</td>\n",
       "      <td>56.236364</td>\n",
       "      <td>3037.909091</td>\n",
       "      <td>142.272727</td>\n",
       "      <td>3.662727</td>\n",
       "      <td>3.147273</td>\n",
       "      <td>10.227273</td>\n",
       "      <td>128.000000</td>\n",
       "      <td>5290.909091</td>\n",
       "      <td>21.181818</td>\n",
       "      <td>25.818182</td>\n",
       "      <td>18063.181818</td>\n",
       "    </tr>\n",
       "  </tbody>\n",
       "</table>\n",
       "</div>"
      ],
      "text/plain": [
       "               symboling      losses        base      length      width  \\\n",
       "make                                                                      \n",
       "alfa-romero     2.333333  122.000000   90.566667  169.600000  64.566667   \n",
       "audi            1.285714  144.285714  102.271429  183.828571  68.714286   \n",
       "bmw             0.375000  156.000000  103.162500  184.500000  66.475000   \n",
       "chevrolet       1.000000  100.000000   92.466667  151.933333  62.500000   \n",
       "dodge           1.000000  133.444444   95.011111  160.988889  64.166667   \n",
       "honda           0.615385  103.000000   94.330769  160.769231  64.384615   \n",
       "isuzu           0.750000  122.000000   94.825000  163.775000  63.550000   \n",
       "jaguar          0.000000  129.666667  109.333333  196.966667  69.933333   \n",
       "mazda           1.117647  123.705882   97.017647  170.805882  65.588235   \n",
       "mercedes-benz   0.000000  110.000000  110.925000  195.262500  71.062500   \n",
       "mercury         1.000000  122.000000  102.700000  178.400000  68.000000   \n",
       "mitsubishi      1.846154  140.615385   95.353846  168.030769  65.253846   \n",
       "nissan          1.000000  135.166667   95.722222  170.988889  65.088889   \n",
       "peugot          0.000000  146.818182  110.200000  191.136364  68.390909   \n",
       "plymouth        1.000000  128.000000   95.385714  164.900000  64.271429   \n",
       "porsche         2.600000  134.800000   92.280000  170.260000  67.120000   \n",
       "renault         1.000000  122.000000   96.100000  179.150000  66.550000   \n",
       "saab            2.500000  127.000000   99.100000  186.600000  66.500000   \n",
       "subaru          0.500000   92.250000   96.175000  168.858333  64.950000   \n",
       "toyota          0.562500  110.656250   98.103125  171.934375  65.090625   \n",
       "volkswagen      1.666667  121.500000   97.608333  172.533333  65.616667   \n",
       "volvo          -1.272727   91.454545  106.481818  188.800000  67.963636   \n",
       "\n",
       "                  height       weight        Size      bore    stroke  \\\n",
       "make                                                                    \n",
       "alfa-romero    50.000000  2639.666667  137.333333  3.206667  2.943333   \n",
       "audi           54.428571  2800.714286  130.714286  3.172857  3.400000   \n",
       "bmw            54.825000  2929.375000  166.875000  3.473750  3.167500   \n",
       "chevrolet      52.400000  1757.000000   80.333333  2.990000  3.083333   \n",
       "dodge          51.644444  2151.333333  102.666667  3.094444  3.365556   \n",
       "honda          53.238462  2096.769231   99.307692  3.021538  3.462308   \n",
       "isuzu          52.225000  2213.500000  102.500000  3.200000  3.170000   \n",
       "jaguar         51.133333  4027.333333  280.666667  3.600000  3.700000   \n",
       "mazda          53.358824  2297.823529  103.000000  3.297000  3.288923   \n",
       "mercedes-benz  55.725000  3696.250000  226.500000  3.605000  3.432500   \n",
       "mercury        54.800000  2910.000000  140.000000  3.780000  3.120000   \n",
       "mitsubishi     50.692308  2381.923077  118.307692  3.250769  3.493846   \n",
       "nissan         53.633333  2400.388889  127.888889  3.254444  3.313333   \n",
       "peugot         57.181818  3221.000000  135.818182  3.582727  3.160000   \n",
       "plymouth       51.971429  2220.857143  106.285714  3.121429  3.375714   \n",
       "porsche        51.100000  2891.200000  187.200000  3.820000  2.984000   \n",
       "renault        52.850000  2519.500000  132.000000  3.460000  3.900000   \n",
       "saab           56.100000  2745.500000  121.000000  3.373333  2.903333   \n",
       "subaru         53.750000  2316.250000  107.083333  3.620000  2.616667   \n",
       "toyota         53.721875  2441.093750  118.812500  3.280000  3.255000   \n",
       "volkswagen     55.183333  2343.166667  107.250000  3.130000  3.400000   \n",
       "volvo          56.236364  3037.909091  142.272727  3.662727  3.147273   \n",
       "\n",
       "               compression  horsepower         peak        mlg    highway  \\\n",
       "make                                                                        \n",
       "alfa-romero       9.000000  125.333333  5000.000000  20.333333  26.666667   \n",
       "audi              8.400000  121.000000  5500.000000  18.857143  24.142857   \n",
       "bmw               8.575000  138.875000  5068.750000  19.375000  25.375000   \n",
       "chevrolet         9.566667   62.666667  5300.000000  41.000000  46.333333   \n",
       "dodge             8.634444   86.333333  5388.888889  28.000000  34.111111   \n",
       "honda             9.215385   80.230769  5753.846154  30.384615  35.461538   \n",
       "isuzu             9.225000   77.000000  5150.000000  31.000000  36.000000   \n",
       "jaguar            9.233333  204.666667  4833.333333  14.333333  18.333333   \n",
       "mazda            10.488235   85.529412  5108.823529  25.705882  31.941176   \n",
       "mercedes-benz    14.825000  146.250000  4487.500000  18.500000  21.000000   \n",
       "mercury           8.000000  175.000000  5000.000000  19.000000  24.000000   \n",
       "mitsubishi        8.061538  104.076923  5269.230769  24.923077  31.153846   \n",
       "nissan            9.794444  102.555556  5177.777778  27.000000  32.944444   \n",
       "peugot           14.000000   99.818182  4668.181818  22.454545  26.636364   \n",
       "plymouth          8.671429   86.714286  5357.142857  28.142857  34.142857   \n",
       "porsche           9.600000  210.400000  5790.000000  17.400000  26.000000   \n",
       "renault           8.700000   95.000000  5125.369458  23.000000  31.000000   \n",
       "saab              9.201667  126.666667  5333.333333  20.333333  27.333333   \n",
       "subaru            8.816667   86.250000  4775.000000  26.333333  30.750000   \n",
       "toyota           10.340625   92.781250  4859.375000  27.500000  32.906250   \n",
       "volkswagen       13.625000   81.083333  5154.166667  28.583333  34.916667   \n",
       "volvo            10.227273  128.000000  5290.909091  21.181818  25.818182   \n",
       "\n",
       "                      price  \n",
       "make                         \n",
       "alfa-romero    15498.333333  \n",
       "audi           17194.589908  \n",
       "bmw            26118.750000  \n",
       "chevrolet       6007.000000  \n",
       "dodge           7875.444444  \n",
       "honda           8184.692308  \n",
       "isuzu          11061.814677  \n",
       "jaguar         34600.000000  \n",
       "mazda          10652.882353  \n",
       "mercedes-benz  33647.000000  \n",
       "mercury        16503.000000  \n",
       "mitsubishi      9239.769231  \n",
       "nissan         10415.666667  \n",
       "peugot         15489.090909  \n",
       "plymouth        7963.428571  \n",
       "porsche        27761.825871  \n",
       "renault         9595.000000  \n",
       "saab           15223.333333  \n",
       "subaru          8541.250000  \n",
       "toyota          9885.812500  \n",
       "volkswagen     10077.500000  \n",
       "volvo          18063.181818  "
      ]
     },
     "execution_count": 106,
     "metadata": {},
     "output_type": "execute_result"
    }
   ],
   "source": [
    "mpg = Automobile.groupby([\"make\"]).mean()\n",
    "mpg"
   ]
  },
  {
   "cell_type": "code",
   "execution_count": 107,
   "metadata": {},
   "outputs": [
    {
     "data": {
      "image/png": "[encoded data removed]",
      "text/plain": [
       "<matplotlib.figure.Figure at 0x54a5a04cc0>"
      ]
     },
     "metadata": {},
     "output_type": "display_data"
    }
   ],
   "source": [
    "mpg[\"highway\"].sort_values(ascending=False).plot.bar()\n",
    "plt.show()"
   ]
  },
  {
   "cell_type": "markdown",
   "metadata": {},
   "source": [
    "### 4. mean Mileage per car in City"
   ]
  },
  {
   "cell_type": "code",
   "execution_count": 99,
   "metadata": {
    "collapsed": true
   },
   "outputs": [],
   "source": [
    "mpg = Automobile.groupby([\"make\"]).mean()"
   ]
  },
  {
   "cell_type": "code",
   "execution_count": 46,
   "metadata": {},
   "outputs": [
    {
     "data": {
      "text/plain": [
       "<matplotlib.axes._subplots.AxesSubplot at 0xa48d194cf8>"
      ]
     },
     "execution_count": 46,
     "metadata": {},
     "output_type": "execute_result"
    },
    {
     "data": {
      "image/png": "[encoded data removed]",
      "text/plain": [
       "<matplotlib.figure.Figure at 0xa48d1a3c88>"
      ]
     },
     "metadata": {},
     "output_type": "display_data"
    }
   ],
   "source": [
    "mpg[\"mlg\"].sort_values(ascending=False).plot.bar()"
   ]
  },
  {
   "cell_type": "markdown",
   "metadata": {},
   "source": [
    "### 5. mean Horsepower per Car"
   ]
  },
  {
   "cell_type": "code",
   "execution_count": 47,
   "metadata": {
    "collapsed": true
   },
   "outputs": [],
   "source": [
    "hp = Automobile.groupby([\"make\"]).mean()"
   ]
  },
  {
   "cell_type": "code",
   "execution_count": 108,
   "metadata": {},
   "outputs": [
    {
     "data": {
      "text/plain": [
       "<matplotlib.axes._subplots.AxesSubplot at 0x54a5b2abe0>"
      ]
     },
     "execution_count": 108,
     "metadata": {},
     "output_type": "execute_result"
    },
    {
     "data": {
      "image/png": "[encoded data removed]",
      "text/plain": [
       "<matplotlib.figure.Figure at 0x54a5b426d8>"
      ]
     },
     "metadata": {},
     "output_type": "display_data"
    }
   ],
   "source": [
    "mpg[\"horsepower\"].sort_values(ascending=False).plot.bar()"
   ]
  },
  {
   "cell_type": "code",
   "execution_count": null,
   "metadata": {
    "collapsed": true
   },
   "outputs": [],
   "source": []
  },
  {
   "cell_type": "markdown",
   "metadata": {},
   "source": [
    "### 6. Pie charts for Categorical Column"
   ]
  },
  {
   "cell_type": "markdown",
   "metadata": {},
   "source": [
    "#### I. No of doors present in %"
   ]
  },
  {
   "cell_type": "code",
   "execution_count": 109,
   "metadata": {
    "collapsed": true
   },
   "outputs": [],
   "source": [
    "names = np.unique(Automobile.doors)                 # Door column's names\n",
    "count = Automobile.doors.value_counts()             # Door columns value count"
   ]
  },
  {
   "cell_type": "code",
   "execution_count": 111,
   "metadata": {},
   "outputs": [
    {
     "data": {
      "text/plain": [
       "<matplotlib.text.Text at 0x54a5d862e8>"
      ]
     },
     "execution_count": 111,
     "metadata": {},
     "output_type": "execute_result"
    },
    {
     "data": {
      "image/png": "[encoded data removed]",
      "text/plain": [
       "<matplotlib.figure.Figure at 0x54a5ce3cf8>"
      ]
     },
     "metadata": {},
     "output_type": "display_data"
    }
   ],
   "source": [
    "plt.pie(count , labels=names , autopct=\"%1.1f%%\" )         # Pie chart of doors column\n",
    "plt.title(\"No of doors present in %\")"
   ]
  },
  {
   "cell_type": "markdown",
   "metadata": {},
   "source": [
    "#### II. No. of different Car types(Style) in %"
   ]
  },
  {
   "cell_type": "code",
   "execution_count": 113,
   "metadata": {
    "collapsed": true
   },
   "outputs": [],
   "source": [
    "names1 = np.unique(Automobile.Style)                 # Style column's names\n",
    "count1 = Automobile.Style.value_counts()             # Style columns value count"
   ]
  },
  {
   "cell_type": "code",
   "execution_count": 114,
   "metadata": {},
   "outputs": [
    {
     "data": {
      "text/plain": [
       "<matplotlib.text.Text at 0x54a5b2af98>"
      ]
     },
     "execution_count": 114,
     "metadata": {},
     "output_type": "execute_result"
    },
    {
     "data": {
      "image/png": "[encoded data removed]",
      "text/plain": [
       "<matplotlib.figure.Figure at 0x54a5d785c0>"
      ]
     },
     "metadata": {},
     "output_type": "display_data"
    }
   ],
   "source": [
    "plt.pie(count1 , labels=names1 , autopct=\"%1.1f%%\" )         # Pie chart of Style column\n",
    "plt.title(\"No of styles present in %\")"
   ]
  },
  {
   "cell_type": "code",
   "execution_count": null,
   "metadata": {
    "collapsed": true
   },
   "outputs": [],
   "source": []
  },
  {
   "cell_type": "markdown",
   "metadata": {},
   "source": [
    "### 7. Top 5 manufacturer's car type and their prices"
   ]
  },
  {
   "cell_type": "code",
   "execution_count": 115,
   "metadata": {
    "collapsed": true
   },
   "outputs": [],
   "source": [
    "cars = (Automobile.make == \"alfa-romero\") | (Automobile.make == \"audi\") | (Automobile.make == \"bmw\") | (Automobile.make == \"chevrolet\") | (Automobile.make == \"dodge\" )"
   ]
  },
  {
   "cell_type": "code",
   "execution_count": 116,
   "metadata": {
    "collapsed": true
   },
   "outputs": [],
   "source": [
    "cars = Automobile[cars]"
   ]
  },
  {
   "cell_type": "code",
   "execution_count": 117,
   "metadata": {},
   "outputs": [
    {
     "data": {
      "text/html": [
       "<div>\n",
       "<style>\n",
       "    .dataframe thead tr:only-child th {\n",
       "        text-align: right;\n",
       "    }\n",
       "\n",
       "    .dataframe thead th {\n",
       "        text-align: left;\n",
       "    }\n",
       "\n",
       "    .dataframe tbody tr th {\n",
       "        vertical-align: top;\n",
       "    }\n",
       "</style>\n",
       "<table border=\"1\" class=\"dataframe\">\n",
       "  <thead>\n",
       "    <tr style=\"text-align: right;\">\n",
       "      <th></th>\n",
       "      <th>symboling</th>\n",
       "      <th>losses</th>\n",
       "      <th>make</th>\n",
       "      <th>fueltype</th>\n",
       "      <th>aspiration</th>\n",
       "      <th>doors</th>\n",
       "      <th>Style</th>\n",
       "      <th>wheels</th>\n",
       "      <th>location</th>\n",
       "      <th>base</th>\n",
       "      <th>...</th>\n",
       "      <th>Size</th>\n",
       "      <th>fuel</th>\n",
       "      <th>bore</th>\n",
       "      <th>stroke</th>\n",
       "      <th>compression</th>\n",
       "      <th>horsepower</th>\n",
       "      <th>peak</th>\n",
       "      <th>mlg</th>\n",
       "      <th>highway</th>\n",
       "      <th>price</th>\n",
       "    </tr>\n",
       "  </thead>\n",
       "  <tbody>\n",
       "    <tr>\n",
       "      <th>0</th>\n",
       "      <td>3</td>\n",
       "      <td>122.0</td>\n",
       "      <td>alfa-romero</td>\n",
       "      <td>gas</td>\n",
       "      <td>std</td>\n",
       "      <td>two</td>\n",
       "      <td>convertible</td>\n",
       "      <td>rwd</td>\n",
       "      <td>front</td>\n",
       "      <td>88.6</td>\n",
       "      <td>...</td>\n",
       "      <td>130</td>\n",
       "      <td>mpfi</td>\n",
       "      <td>3.47</td>\n",
       "      <td>2.68</td>\n",
       "      <td>9.0</td>\n",
       "      <td>111.0</td>\n",
       "      <td>5000.0</td>\n",
       "      <td>21</td>\n",
       "      <td>27</td>\n",
       "      <td>13495.0</td>\n",
       "    </tr>\n",
       "    <tr>\n",
       "      <th>1</th>\n",
       "      <td>3</td>\n",
       "      <td>122.0</td>\n",
       "      <td>alfa-romero</td>\n",
       "      <td>gas</td>\n",
       "      <td>std</td>\n",
       "      <td>two</td>\n",
       "      <td>convertible</td>\n",
       "      <td>rwd</td>\n",
       "      <td>front</td>\n",
       "      <td>88.6</td>\n",
       "      <td>...</td>\n",
       "      <td>130</td>\n",
       "      <td>mpfi</td>\n",
       "      <td>3.47</td>\n",
       "      <td>2.68</td>\n",
       "      <td>9.0</td>\n",
       "      <td>111.0</td>\n",
       "      <td>5000.0</td>\n",
       "      <td>21</td>\n",
       "      <td>27</td>\n",
       "      <td>16500.0</td>\n",
       "    </tr>\n",
       "    <tr>\n",
       "      <th>2</th>\n",
       "      <td>1</td>\n",
       "      <td>122.0</td>\n",
       "      <td>alfa-romero</td>\n",
       "      <td>gas</td>\n",
       "      <td>std</td>\n",
       "      <td>two</td>\n",
       "      <td>hatchback</td>\n",
       "      <td>rwd</td>\n",
       "      <td>front</td>\n",
       "      <td>94.5</td>\n",
       "      <td>...</td>\n",
       "      <td>152</td>\n",
       "      <td>mpfi</td>\n",
       "      <td>2.68</td>\n",
       "      <td>3.47</td>\n",
       "      <td>9.0</td>\n",
       "      <td>154.0</td>\n",
       "      <td>5000.0</td>\n",
       "      <td>19</td>\n",
       "      <td>26</td>\n",
       "      <td>16500.0</td>\n",
       "    </tr>\n",
       "    <tr>\n",
       "      <th>3</th>\n",
       "      <td>2</td>\n",
       "      <td>164.0</td>\n",
       "      <td>audi</td>\n",
       "      <td>gas</td>\n",
       "      <td>std</td>\n",
       "      <td>four</td>\n",
       "      <td>sedan</td>\n",
       "      <td>fwd</td>\n",
       "      <td>front</td>\n",
       "      <td>99.8</td>\n",
       "      <td>...</td>\n",
       "      <td>109</td>\n",
       "      <td>mpfi</td>\n",
       "      <td>3.19</td>\n",
       "      <td>3.40</td>\n",
       "      <td>10.0</td>\n",
       "      <td>102.0</td>\n",
       "      <td>5500.0</td>\n",
       "      <td>24</td>\n",
       "      <td>30</td>\n",
       "      <td>13950.0</td>\n",
       "    </tr>\n",
       "    <tr>\n",
       "      <th>4</th>\n",
       "      <td>2</td>\n",
       "      <td>164.0</td>\n",
       "      <td>audi</td>\n",
       "      <td>gas</td>\n",
       "      <td>std</td>\n",
       "      <td>four</td>\n",
       "      <td>sedan</td>\n",
       "      <td>4wd</td>\n",
       "      <td>front</td>\n",
       "      <td>99.4</td>\n",
       "      <td>...</td>\n",
       "      <td>136</td>\n",
       "      <td>mpfi</td>\n",
       "      <td>3.19</td>\n",
       "      <td>3.40</td>\n",
       "      <td>8.0</td>\n",
       "      <td>115.0</td>\n",
       "      <td>5500.0</td>\n",
       "      <td>18</td>\n",
       "      <td>22</td>\n",
       "      <td>17450.0</td>\n",
       "    </tr>\n",
       "  </tbody>\n",
       "</table>\n",
       "<p>5 rows × 26 columns</p>\n",
       "</div>"
      ],
      "text/plain": [
       "   symboling  losses         make fueltype aspiration doors        Style  \\\n",
       "0          3   122.0  alfa-romero      gas        std   two  convertible   \n",
       "1          3   122.0  alfa-romero      gas        std   two  convertible   \n",
       "2          1   122.0  alfa-romero      gas        std   two    hatchback   \n",
       "3          2   164.0         audi      gas        std  four        sedan   \n",
       "4          2   164.0         audi      gas        std  four        sedan   \n",
       "\n",
       "  wheels location  base   ...     Size  fuel  bore  stroke compression  \\\n",
       "0    rwd    front  88.6   ...      130  mpfi  3.47    2.68         9.0   \n",
       "1    rwd    front  88.6   ...      130  mpfi  3.47    2.68         9.0   \n",
       "2    rwd    front  94.5   ...      152  mpfi  2.68    3.47         9.0   \n",
       "3    fwd    front  99.8   ...      109  mpfi  3.19    3.40        10.0   \n",
       "4    4wd    front  99.4   ...      136  mpfi  3.19    3.40         8.0   \n",
       "\n",
       "  horsepower    peak mlg  highway    price  \n",
       "0      111.0  5000.0  21       27  13495.0  \n",
       "1      111.0  5000.0  21       27  16500.0  \n",
       "2      154.0  5000.0  19       26  16500.0  \n",
       "3      102.0  5500.0  24       30  13950.0  \n",
       "4      115.0  5500.0  18       22  17450.0  \n",
       "\n",
       "[5 rows x 26 columns]"
      ]
     },
     "execution_count": 117,
     "metadata": {},
     "output_type": "execute_result"
    }
   ],
   "source": [
    "cars.head()"
   ]
  },
  {
   "cell_type": "code",
   "execution_count": 118,
   "metadata": {
    "collapsed": true
   },
   "outputs": [],
   "source": [
    "names3 = np.unique(cars.make)                 # Make column's names\n",
    "count3 = cars.make.value_counts()             # Make columns value count"
   ]
  },
  {
   "cell_type": "code",
   "execution_count": 119,
   "metadata": {},
   "outputs": [
    {
     "data": {
      "text/plain": [
       "([<matplotlib.patches.Wedge at 0x54a5a185f8>,\n",
       "  <matplotlib.patches.Wedge at 0x54a5a3dc50>,\n",
       "  <matplotlib.patches.Wedge at 0x54a5a379e8>,\n",
       "  <matplotlib.patches.Wedge at 0x54a591df28>,\n",
       "  <matplotlib.patches.Wedge at 0x54a5a23898>],\n",
       " [<matplotlib.text.Text at 0x54a5a1d5c0>,\n",
       "  <matplotlib.text.Text at 0x54a5a3d278>,\n",
       "  <matplotlib.text.Text at 0x54a5a379b0>,\n",
       "  <matplotlib.text.Text at 0x54a591d668>,\n",
       "  <matplotlib.text.Text at 0x54a5a23cf8>],\n",
       " [<matplotlib.text.Text at 0x54a5a1d080>,\n",
       "  <matplotlib.text.Text at 0x54a58ba2b0>,\n",
       "  <matplotlib.text.Text at 0x5497a4ac18>,\n",
       "  <matplotlib.text.Text at 0x54a5a23dd8>,\n",
       "  <matplotlib.text.Text at 0x54a5a2a2e8>])"
      ]
     },
     "execution_count": 119,
     "metadata": {},
     "output_type": "execute_result"
    },
    {
     "data": {
      "image/png": "[encoded data removed]",
      "text/plain": [
       "<matplotlib.figure.Figure at 0x54a5b04c18>"
      ]
     },
     "metadata": {},
     "output_type": "display_data"
    }
   ],
   "source": [
    "plt.pie(count3 , labels=names3 , autopct=\"%1.1f%%\")"
   ]
  },
  {
   "cell_type": "markdown",
   "metadata": {},
   "source": [
    "#### No.of top 5 Car Manufactures(Make) in %"
   ]
  },
  {
   "cell_type": "code",
   "execution_count": 120,
   "metadata": {},
   "outputs": [
    {
     "name": "stderr",
     "output_type": "stream",
     "text": [
      "G:\\Anaconda\\lib\\site-packages\\scipy\\stats\\stats.py:1633: FutureWarning: Using a non-tuple sequence for multidimensional indexing is deprecated; use `arr[tuple(seq)]` instead of `arr[seq]`. In the future this will be interpreted as an array index, `arr[np.array(seq)]`, which will result either in an error or a different result.\n",
      "  return np.add.reduce(sorted[indexer] * weights, axis=axis) / sumval\n"
     ]
    },
    {
     "data": {
      "text/plain": [
       "<matplotlib.text.Text at 0x54a59131d0>"
      ]
     },
     "execution_count": 120,
     "metadata": {},
     "output_type": "execute_result"
    },
    {
     "data": {
      "image/png": "[encoded data removed]",
      "text/plain": [
       "<matplotlib.figure.Figure at 0x54a5967ac8>"
      ]
     },
     "metadata": {},
     "output_type": "display_data"
    }
   ],
   "source": [
    "sns.barplot(cars.make , cars.price , hue=cars.Style)\n",
    "plt.title(\"Top 5 Car manufacturers car type and their prices\")"
   ]
  },
  {
   "cell_type": "markdown",
   "metadata": {},
   "source": [
    "### 8. Prices of different car manufacturer"
   ]
  },
  {
   "cell_type": "code",
   "execution_count": 121,
   "metadata": {},
   "outputs": [
    {
     "name": "stderr",
     "output_type": "stream",
     "text": [
      "G:\\Anaconda\\lib\\site-packages\\scipy\\stats\\stats.py:1633: FutureWarning: Using a non-tuple sequence for multidimensional indexing is deprecated; use `arr[tuple(seq)]` instead of `arr[seq]`. In the future this will be interpreted as an array index, `arr[np.array(seq)]`, which will result either in an error or a different result.\n",
      "  return np.add.reduce(sorted[indexer] * weights, axis=axis) / sumval\n"
     ]
    },
    {
     "data": {
      "text/plain": [
       "(array([ 0,  1,  2,  3,  4,  5,  6,  7,  8,  9, 10, 11, 12, 13, 14, 15, 16,\n",
       "        17, 18, 19, 20, 21]), <a list of 22 Text xticklabel objects>)"
      ]
     },
     "execution_count": 121,
     "metadata": {},
     "output_type": "execute_result"
    },
    {
     "data": {
      "image/png": "[encoded data removed]",
      "text/plain": [
       "<matplotlib.figure.Figure at 0x54a5b14128>"
      ]
     },
     "metadata": {},
     "output_type": "display_data"
    }
   ],
   "source": [
    "sns.barplot(Automobile.make , Automobile.price)            # Barplot of make vs Price\n",
    "plt.xticks(rotation = \"vertical\")                          # putting x axis names in vertical shape"
   ]
  },
  {
   "cell_type": "markdown",
   "metadata": {},
   "source": [
    "#### Companies like BMW , Mercedes-benz , Porsche and Jaguar High budget models whereas Chevrolet, Dodge, Honda, Plymouth produces Low budget models"
   ]
  },
  {
   "cell_type": "markdown",
   "metadata": {},
   "source": [
    "### 9. Prices of different car models"
   ]
  },
  {
   "cell_type": "code",
   "execution_count": 122,
   "metadata": {},
   "outputs": [
    {
     "name": "stderr",
     "output_type": "stream",
     "text": [
      "G:\\Anaconda\\lib\\site-packages\\scipy\\stats\\stats.py:1633: FutureWarning: Using a non-tuple sequence for multidimensional indexing is deprecated; use `arr[tuple(seq)]` instead of `arr[seq]`. In the future this will be interpreted as an array index, `arr[np.array(seq)]`, which will result either in an error or a different result.\n",
      "  return np.add.reduce(sorted[indexer] * weights, axis=axis) / sumval\n"
     ]
    },
    {
     "data": {
      "text/plain": [
       "(array([0, 1, 2, 3, 4]), <a list of 5 Text xticklabel objects>)"
      ]
     },
     "execution_count": 122,
     "metadata": {},
     "output_type": "execute_result"
    },
    {
     "data": {
      "image/png": "[encoded data removed]",
      "text/plain": [
       "<matplotlib.figure.Figure at 0x54a5955ba8>"
      ]
     },
     "metadata": {},
     "output_type": "display_data"
    }
   ],
   "source": [
    "sns.barplot(Automobile.Style , Automobile.price)           # Barplot of Style vs Price\n",
    "plt.xticks(rotation = \"vertical\")                          # putting x axis names in vertical shape"
   ]
  },
  {
   "cell_type": "markdown",
   "metadata": {},
   "source": [
    "#### Convertible and Hardtop cars have high no. of price range"
   ]
  },
  {
   "cell_type": "code",
   "execution_count": null,
   "metadata": {
    "collapsed": true
   },
   "outputs": [],
   "source": []
  },
  {
   "cell_type": "markdown",
   "metadata": {},
   "source": [
    "### 10. Cylinders vs Horsepower"
   ]
  },
  {
   "cell_type": "code",
   "execution_count": 123,
   "metadata": {},
   "outputs": [
    {
     "name": "stderr",
     "output_type": "stream",
     "text": [
      "G:\\Anaconda\\lib\\site-packages\\scipy\\stats\\stats.py:1633: FutureWarning: Using a non-tuple sequence for multidimensional indexing is deprecated; use `arr[tuple(seq)]` instead of `arr[seq]`. In the future this will be interpreted as an array index, `arr[np.array(seq)]`, which will result either in an error or a different result.\n",
      "  return np.add.reduce(sorted[indexer] * weights, axis=axis) / sumval\n"
     ]
    },
    {
     "data": {
      "text/plain": [
       "<matplotlib.axes._subplots.AxesSubplot at 0x54a5f43dd8>"
      ]
     },
     "execution_count": 123,
     "metadata": {},
     "output_type": "execute_result"
    },
    {
     "data": {
      "image/png": "[encoded data removed]",
      "text/plain": [
       "<matplotlib.figure.Figure at 0x54a60bf4e0>"
      ]
     },
     "metadata": {},
     "output_type": "display_data"
    }
   ],
   "source": [
    "sns.violinplot(Automobile.cylinders , Automobile.horsepower)"
   ]
  },
  {
   "cell_type": "markdown",
   "metadata": {},
   "source": [
    "#### Vehicle with above 200 HP has 6 , 8, 12 cylinders"
   ]
  },
  {
   "cell_type": "markdown",
   "metadata": {},
   "source": [
    "### 11. Calculating Losses per Risk"
   ]
  },
  {
   "cell_type": "code",
   "execution_count": 124,
   "metadata": {
    "collapsed": true
   },
   "outputs": [],
   "source": [
    "le = LabelEncoder()"
   ]
  },
  {
   "cell_type": "code",
   "execution_count": 125,
   "metadata": {
    "collapsed": true
   },
   "outputs": [],
   "source": [
    "Automobile.symboling = le.fit_transform(Automobile.symboling)"
   ]
  },
  {
   "cell_type": "code",
   "execution_count": 126,
   "metadata": {
    "collapsed": true
   },
   "outputs": [],
   "source": [
    "Automobile.symboling = Automobile.symboling.astype(\"category\")"
   ]
  },
  {
   "cell_type": "code",
   "execution_count": 127,
   "metadata": {},
   "outputs": [
    {
     "name": "stderr",
     "output_type": "stream",
     "text": [
      "G:\\Anaconda\\lib\\site-packages\\scipy\\stats\\stats.py:1633: FutureWarning: Using a non-tuple sequence for multidimensional indexing is deprecated; use `arr[tuple(seq)]` instead of `arr[seq]`. In the future this will be interpreted as an array index, `arr[np.array(seq)]`, which will result either in an error or a different result.\n",
      "  return np.add.reduce(sorted[indexer] * weights, axis=axis) / sumval\n"
     ]
    },
    {
     "data": {
      "text/plain": [
       "<matplotlib.text.Text at 0x54a6338208>"
      ]
     },
     "execution_count": 127,
     "metadata": {},
     "output_type": "execute_result"
    },
    {
     "data": {
      "image/png": "[encoded data removed]",
      "text/plain": [
       "<matplotlib.figure.Figure at 0x54a5b31400>"
      ]
     },
     "metadata": {},
     "output_type": "display_data"
    }
   ],
   "source": [
    "sns.barplot(Automobile.symboling , Automobile.losses , hue=Automobile.Style)\n",
    "plt.title(\"Losses per Risk for each car type\")"
   ]
  },
  {
   "cell_type": "markdown",
   "metadata": {},
   "source": [
    "#### Incresed in Risk taking increases Losses                                                                                                                                                        #### For Hatchback losses are low if the risk is low and vice versa                                                                                                                      #### Hatchback cars have Highest loss at Risk taking 3 "
   ]
  },
  {
   "cell_type": "markdown",
   "metadata": {},
   "source": [
    "#### Sedan car has losses in each Risk taking"
   ]
  },
  {
   "cell_type": "markdown",
   "metadata": {},
   "source": [
    "### 12. ScatterPlot of Price vs Engine Size"
   ]
  },
  {
   "cell_type": "code",
   "execution_count": 128,
   "metadata": {},
   "outputs": [
    {
     "name": "stderr",
     "output_type": "stream",
     "text": [
      "G:\\Anaconda\\lib\\site-packages\\scipy\\stats\\stats.py:1633: FutureWarning: Using a non-tuple sequence for multidimensional indexing is deprecated; use `arr[tuple(seq)]` instead of `arr[seq]`. In the future this will be interpreted as an array index, `arr[np.array(seq)]`, which will result either in an error or a different result.\n",
      "  return np.add.reduce(sorted[indexer] * weights, axis=axis) / sumval\n"
     ]
    },
    {
     "data": {
      "text/plain": [
       "<seaborn.axisgrid.FacetGrid at 0x54a636e748>"
      ]
     },
     "execution_count": 128,
     "metadata": {},
     "output_type": "execute_result"
    },
    {
     "data": {
      "image/png": "[encoded data removed]",
      "text/plain": [
       "<matplotlib.figure.Figure at 0x54a636e7b8>"
      ]
     },
     "metadata": {},
     "output_type": "display_data"
    }
   ],
   "source": [
    "sns.lmplot(\"price\" ,\"Size\" , data= Automobile)"
   ]
  },
  {
   "cell_type": "markdown",
   "metadata": {},
   "source": [
    "#### The more the engine size the costlier prices are"
   ]
  },
  {
   "cell_type": "code",
   "execution_count": null,
   "metadata": {
    "collapsed": true
   },
   "outputs": [],
   "source": []
  },
  {
   "cell_type": "code",
   "execution_count": 138,
   "metadata": {},
   "outputs": [
    {
     "data": {
      "image/png": "[encoded data removed]",
      "text/plain": [
       "<matplotlib.figure.Figure at 0x54a7fdf128>"
      ]
     },
     "metadata": {},
     "output_type": "display_data"
    }
   ],
   "source": [
    "corr = Automobile.corr()\n",
    "#sns.set_context(\"notebook\", font_scale=1.0)\n",
    "plt.figure(figsize=(13,7))\n",
    "a = sns.heatmap(corr, annot=True)"
   ]
  },
  {
   "cell_type": "markdown",
   "metadata": {},
   "source": [
    "#### From above it is clear that size ,weight , horsepower, stroke, mlg, width are highly correlated. "
   ]
  },
  {
   "cell_type": "markdown",
   "metadata": {},
   "source": [
    "### 13. Histogram on some imp Car Attributes"
   ]
  },
  {
   "cell_type": "code",
   "execution_count": 139,
   "metadata": {},
   "outputs": [
    {
     "data": {
      "image/png": "[encoded data removed]",
      "text/plain": [
       "<matplotlib.figure.Figure at 0x54a815be10>"
      ]
     },
     "metadata": {},
     "output_type": "display_data"
    }
   ],
   "source": [
    "Automobile[['losses',\"weight\"]].hist()                 # Histogram of Losses and Weight\n",
    "plt.show()"
   ]
  },
  {
   "cell_type": "code",
   "execution_count": 140,
   "metadata": {},
   "outputs": [
    {
     "data": {
      "image/png": "[encoded data removed]",
      "text/plain": [
       "<matplotlib.figure.Figure at 0x54a8398a90>"
      ]
     },
     "metadata": {},
     "output_type": "display_data"
    }
   ],
   "source": [
    "Automobile[['base','length']].hist()                      # Histogram of base and length\n",
    "plt.show()"
   ]
  },
  {
   "cell_type": "code",
   "execution_count": 141,
   "metadata": {},
   "outputs": [
    {
     "data": {
      "image/png": "[encoded data removed]",
      "text/plain": [
       "<matplotlib.figure.Figure at 0x54a826f0b8>"
      ]
     },
     "metadata": {},
     "output_type": "display_data"
    }
   ],
   "source": [
    "Automobile[['width','height']].hist()                            # Histogram of weight and height\n",
    "plt.show()"
   ]
  },
  {
   "cell_type": "code",
   "execution_count": 142,
   "metadata": {},
   "outputs": [
    {
     "data": {
      "image/png": "[encoded data removed]",
      "text/plain": [
       "<matplotlib.figure.Figure at 0x54a785a518>"
      ]
     },
     "metadata": {},
     "output_type": "display_data"
    }
   ],
   "source": [
    "Automobile[['price','horsepower']].hist()                         # Histogram of price and horsepower  \n",
    "plt.show()"
   ]
  },
  {
   "cell_type": "code",
   "execution_count": 143,
   "metadata": {},
   "outputs": [
    {
     "data": {
      "image/png": "[encoded data removed]",
      "text/plain": [
       "<matplotlib.figure.Figure at 0x54a82c0ac8>"
      ]
     },
     "metadata": {},
     "output_type": "display_data"
    }
   ],
   "source": [
    "Automobile[['bore','stroke']].hist()                              # Histogram of Bore and Stroke\n",
    "plt.show()"
   ]
  },
  {
   "cell_type": "code",
   "execution_count": 144,
   "metadata": {},
   "outputs": [
    {
     "data": {
      "image/png": "[encoded data removed]",
      "text/plain": [
       "<matplotlib.figure.Figure at 0x54a92533c8>"
      ]
     },
     "metadata": {},
     "output_type": "display_data"
    }
   ],
   "source": [
    "Automobile[['Size','compression']].hist()                              # Histogram of size and compression\n",
    "plt.show()"
   ]
  },
  {
   "cell_type": "markdown",
   "metadata": {},
   "source": [
    "### Using a copy Automobile2 data to use it for Transformation and Model Building"
   ]
  },
  {
   "cell_type": "code",
   "execution_count": 145,
   "metadata": {},
   "outputs": [
    {
     "data": {
      "text/html": [
       "<div>\n",
       "<style>\n",
       "    .dataframe thead tr:only-child th {\n",
       "        text-align: right;\n",
       "    }\n",
       "\n",
       "    .dataframe thead th {\n",
       "        text-align: left;\n",
       "    }\n",
       "\n",
       "    .dataframe tbody tr th {\n",
       "        vertical-align: top;\n",
       "    }\n",
       "</style>\n",
       "<table border=\"1\" class=\"dataframe\">\n",
       "  <thead>\n",
       "    <tr style=\"text-align: right;\">\n",
       "      <th></th>\n",
       "      <th>symboling</th>\n",
       "      <th>losses</th>\n",
       "      <th>make</th>\n",
       "      <th>fueltype</th>\n",
       "      <th>aspiration</th>\n",
       "      <th>doors</th>\n",
       "      <th>Style</th>\n",
       "      <th>wheels</th>\n",
       "      <th>location</th>\n",
       "      <th>base</th>\n",
       "      <th>...</th>\n",
       "      <th>Size</th>\n",
       "      <th>fuel</th>\n",
       "      <th>bore</th>\n",
       "      <th>stroke</th>\n",
       "      <th>compression</th>\n",
       "      <th>horsepower</th>\n",
       "      <th>peak</th>\n",
       "      <th>mlg</th>\n",
       "      <th>highway</th>\n",
       "      <th>price</th>\n",
       "    </tr>\n",
       "  </thead>\n",
       "  <tbody>\n",
       "    <tr>\n",
       "      <th>count</th>\n",
       "      <td>205.000000</td>\n",
       "      <td>205.000000</td>\n",
       "      <td>205</td>\n",
       "      <td>205</td>\n",
       "      <td>205</td>\n",
       "      <td>205</td>\n",
       "      <td>205</td>\n",
       "      <td>205</td>\n",
       "      <td>205</td>\n",
       "      <td>205.000000</td>\n",
       "      <td>...</td>\n",
       "      <td>205.000000</td>\n",
       "      <td>205</td>\n",
       "      <td>205.000000</td>\n",
       "      <td>205.000000</td>\n",
       "      <td>205.000000</td>\n",
       "      <td>205.000000</td>\n",
       "      <td>205.000000</td>\n",
       "      <td>205.000000</td>\n",
       "      <td>205.000000</td>\n",
       "      <td>205.000000</td>\n",
       "    </tr>\n",
       "    <tr>\n",
       "      <th>unique</th>\n",
       "      <td>NaN</td>\n",
       "      <td>NaN</td>\n",
       "      <td>22</td>\n",
       "      <td>2</td>\n",
       "      <td>2</td>\n",
       "      <td>2</td>\n",
       "      <td>5</td>\n",
       "      <td>3</td>\n",
       "      <td>2</td>\n",
       "      <td>NaN</td>\n",
       "      <td>...</td>\n",
       "      <td>NaN</td>\n",
       "      <td>8</td>\n",
       "      <td>NaN</td>\n",
       "      <td>NaN</td>\n",
       "      <td>NaN</td>\n",
       "      <td>NaN</td>\n",
       "      <td>NaN</td>\n",
       "      <td>NaN</td>\n",
       "      <td>NaN</td>\n",
       "      <td>NaN</td>\n",
       "    </tr>\n",
       "    <tr>\n",
       "      <th>top</th>\n",
       "      <td>NaN</td>\n",
       "      <td>NaN</td>\n",
       "      <td>toyota</td>\n",
       "      <td>gas</td>\n",
       "      <td>std</td>\n",
       "      <td>four</td>\n",
       "      <td>sedan</td>\n",
       "      <td>fwd</td>\n",
       "      <td>front</td>\n",
       "      <td>NaN</td>\n",
       "      <td>...</td>\n",
       "      <td>NaN</td>\n",
       "      <td>mpfi</td>\n",
       "      <td>NaN</td>\n",
       "      <td>NaN</td>\n",
       "      <td>NaN</td>\n",
       "      <td>NaN</td>\n",
       "      <td>NaN</td>\n",
       "      <td>NaN</td>\n",
       "      <td>NaN</td>\n",
       "      <td>NaN</td>\n",
       "    </tr>\n",
       "    <tr>\n",
       "      <th>freq</th>\n",
       "      <td>NaN</td>\n",
       "      <td>NaN</td>\n",
       "      <td>32</td>\n",
       "      <td>185</td>\n",
       "      <td>168</td>\n",
       "      <td>116</td>\n",
       "      <td>96</td>\n",
       "      <td>120</td>\n",
       "      <td>202</td>\n",
       "      <td>NaN</td>\n",
       "      <td>...</td>\n",
       "      <td>NaN</td>\n",
       "      <td>94</td>\n",
       "      <td>NaN</td>\n",
       "      <td>NaN</td>\n",
       "      <td>NaN</td>\n",
       "      <td>NaN</td>\n",
       "      <td>NaN</td>\n",
       "      <td>NaN</td>\n",
       "      <td>NaN</td>\n",
       "      <td>NaN</td>\n",
       "    </tr>\n",
       "    <tr>\n",
       "      <th>mean</th>\n",
       "      <td>0.834146</td>\n",
       "      <td>122.000000</td>\n",
       "      <td>NaN</td>\n",
       "      <td>NaN</td>\n",
       "      <td>NaN</td>\n",
       "      <td>NaN</td>\n",
       "      <td>NaN</td>\n",
       "      <td>NaN</td>\n",
       "      <td>NaN</td>\n",
       "      <td>98.756585</td>\n",
       "      <td>...</td>\n",
       "      <td>126.907317</td>\n",
       "      <td>NaN</td>\n",
       "      <td>3.329751</td>\n",
       "      <td>3.255423</td>\n",
       "      <td>10.142537</td>\n",
       "      <td>104.165854</td>\n",
       "      <td>5125.369458</td>\n",
       "      <td>25.219512</td>\n",
       "      <td>30.751220</td>\n",
       "      <td>13207.129353</td>\n",
       "    </tr>\n",
       "    <tr>\n",
       "      <th>std</th>\n",
       "      <td>1.245307</td>\n",
       "      <td>31.681008</td>\n",
       "      <td>NaN</td>\n",
       "      <td>NaN</td>\n",
       "      <td>NaN</td>\n",
       "      <td>NaN</td>\n",
       "      <td>NaN</td>\n",
       "      <td>NaN</td>\n",
       "      <td>NaN</td>\n",
       "      <td>6.021776</td>\n",
       "      <td>...</td>\n",
       "      <td>41.642693</td>\n",
       "      <td>NaN</td>\n",
       "      <td>0.270844</td>\n",
       "      <td>0.313597</td>\n",
       "      <td>3.972040</td>\n",
       "      <td>39.529733</td>\n",
       "      <td>476.979093</td>\n",
       "      <td>6.542142</td>\n",
       "      <td>6.886443</td>\n",
       "      <td>7868.768212</td>\n",
       "    </tr>\n",
       "    <tr>\n",
       "      <th>min</th>\n",
       "      <td>-2.000000</td>\n",
       "      <td>65.000000</td>\n",
       "      <td>NaN</td>\n",
       "      <td>NaN</td>\n",
       "      <td>NaN</td>\n",
       "      <td>NaN</td>\n",
       "      <td>NaN</td>\n",
       "      <td>NaN</td>\n",
       "      <td>NaN</td>\n",
       "      <td>86.600000</td>\n",
       "      <td>...</td>\n",
       "      <td>61.000000</td>\n",
       "      <td>NaN</td>\n",
       "      <td>2.540000</td>\n",
       "      <td>2.070000</td>\n",
       "      <td>7.000000</td>\n",
       "      <td>48.000000</td>\n",
       "      <td>4150.000000</td>\n",
       "      <td>13.000000</td>\n",
       "      <td>16.000000</td>\n",
       "      <td>5118.000000</td>\n",
       "    </tr>\n",
       "    <tr>\n",
       "      <th>25%</th>\n",
       "      <td>0.000000</td>\n",
       "      <td>101.000000</td>\n",
       "      <td>NaN</td>\n",
       "      <td>NaN</td>\n",
       "      <td>NaN</td>\n",
       "      <td>NaN</td>\n",
       "      <td>NaN</td>\n",
       "      <td>NaN</td>\n",
       "      <td>NaN</td>\n",
       "      <td>94.500000</td>\n",
       "      <td>...</td>\n",
       "      <td>97.000000</td>\n",
       "      <td>NaN</td>\n",
       "      <td>3.150000</td>\n",
       "      <td>3.110000</td>\n",
       "      <td>8.600000</td>\n",
       "      <td>70.000000</td>\n",
       "      <td>4800.000000</td>\n",
       "      <td>19.000000</td>\n",
       "      <td>25.000000</td>\n",
       "      <td>7788.000000</td>\n",
       "    </tr>\n",
       "    <tr>\n",
       "      <th>50%</th>\n",
       "      <td>1.000000</td>\n",
       "      <td>122.000000</td>\n",
       "      <td>NaN</td>\n",
       "      <td>NaN</td>\n",
       "      <td>NaN</td>\n",
       "      <td>NaN</td>\n",
       "      <td>NaN</td>\n",
       "      <td>NaN</td>\n",
       "      <td>NaN</td>\n",
       "      <td>97.000000</td>\n",
       "      <td>...</td>\n",
       "      <td>120.000000</td>\n",
       "      <td>NaN</td>\n",
       "      <td>3.310000</td>\n",
       "      <td>3.290000</td>\n",
       "      <td>9.000000</td>\n",
       "      <td>95.000000</td>\n",
       "      <td>5200.000000</td>\n",
       "      <td>24.000000</td>\n",
       "      <td>30.000000</td>\n",
       "      <td>10595.000000</td>\n",
       "    </tr>\n",
       "    <tr>\n",
       "      <th>75%</th>\n",
       "      <td>2.000000</td>\n",
       "      <td>137.000000</td>\n",
       "      <td>NaN</td>\n",
       "      <td>NaN</td>\n",
       "      <td>NaN</td>\n",
       "      <td>NaN</td>\n",
       "      <td>NaN</td>\n",
       "      <td>NaN</td>\n",
       "      <td>NaN</td>\n",
       "      <td>102.400000</td>\n",
       "      <td>...</td>\n",
       "      <td>141.000000</td>\n",
       "      <td>NaN</td>\n",
       "      <td>3.580000</td>\n",
       "      <td>3.410000</td>\n",
       "      <td>9.400000</td>\n",
       "      <td>116.000000</td>\n",
       "      <td>5500.000000</td>\n",
       "      <td>30.000000</td>\n",
       "      <td>34.000000</td>\n",
       "      <td>16500.000000</td>\n",
       "    </tr>\n",
       "    <tr>\n",
       "      <th>max</th>\n",
       "      <td>3.000000</td>\n",
       "      <td>256.000000</td>\n",
       "      <td>NaN</td>\n",
       "      <td>NaN</td>\n",
       "      <td>NaN</td>\n",
       "      <td>NaN</td>\n",
       "      <td>NaN</td>\n",
       "      <td>NaN</td>\n",
       "      <td>NaN</td>\n",
       "      <td>120.900000</td>\n",
       "      <td>...</td>\n",
       "      <td>326.000000</td>\n",
       "      <td>NaN</td>\n",
       "      <td>3.940000</td>\n",
       "      <td>4.170000</td>\n",
       "      <td>23.000000</td>\n",
       "      <td>288.000000</td>\n",
       "      <td>6600.000000</td>\n",
       "      <td>49.000000</td>\n",
       "      <td>54.000000</td>\n",
       "      <td>45400.000000</td>\n",
       "    </tr>\n",
       "  </tbody>\n",
       "</table>\n",
       "<p>11 rows × 26 columns</p>\n",
       "</div>"
      ],
      "text/plain": [
       "         symboling      losses    make fueltype aspiration doors  Style  \\\n",
       "count   205.000000  205.000000     205      205        205   205    205   \n",
       "unique         NaN         NaN      22        2          2     2      5   \n",
       "top            NaN         NaN  toyota      gas        std  four  sedan   \n",
       "freq           NaN         NaN      32      185        168   116     96   \n",
       "mean      0.834146  122.000000     NaN      NaN        NaN   NaN    NaN   \n",
       "std       1.245307   31.681008     NaN      NaN        NaN   NaN    NaN   \n",
       "min      -2.000000   65.000000     NaN      NaN        NaN   NaN    NaN   \n",
       "25%       0.000000  101.000000     NaN      NaN        NaN   NaN    NaN   \n",
       "50%       1.000000  122.000000     NaN      NaN        NaN   NaN    NaN   \n",
       "75%       2.000000  137.000000     NaN      NaN        NaN   NaN    NaN   \n",
       "max       3.000000  256.000000     NaN      NaN        NaN   NaN    NaN   \n",
       "\n",
       "       wheels location        base      ...             Size  fuel  \\\n",
       "count     205      205  205.000000      ...       205.000000   205   \n",
       "unique      3        2         NaN      ...              NaN     8   \n",
       "top       fwd    front         NaN      ...              NaN  mpfi   \n",
       "freq      120      202         NaN      ...              NaN    94   \n",
       "mean      NaN      NaN   98.756585      ...       126.907317   NaN   \n",
       "std       NaN      NaN    6.021776      ...        41.642693   NaN   \n",
       "min       NaN      NaN   86.600000      ...        61.000000   NaN   \n",
       "25%       NaN      NaN   94.500000      ...        97.000000   NaN   \n",
       "50%       NaN      NaN   97.000000      ...       120.000000   NaN   \n",
       "75%       NaN      NaN  102.400000      ...       141.000000   NaN   \n",
       "max       NaN      NaN  120.900000      ...       326.000000   NaN   \n",
       "\n",
       "              bore      stroke compression  horsepower         peak  \\\n",
       "count   205.000000  205.000000  205.000000  205.000000   205.000000   \n",
       "unique         NaN         NaN         NaN         NaN          NaN   \n",
       "top            NaN         NaN         NaN         NaN          NaN   \n",
       "freq           NaN         NaN         NaN         NaN          NaN   \n",
       "mean      3.329751    3.255423   10.142537  104.165854  5125.369458   \n",
       "std       0.270844    0.313597    3.972040   39.529733   476.979093   \n",
       "min       2.540000    2.070000    7.000000   48.000000  4150.000000   \n",
       "25%       3.150000    3.110000    8.600000   70.000000  4800.000000   \n",
       "50%       3.310000    3.290000    9.000000   95.000000  5200.000000   \n",
       "75%       3.580000    3.410000    9.400000  116.000000  5500.000000   \n",
       "max       3.940000    4.170000   23.000000  288.000000  6600.000000   \n",
       "\n",
       "               mlg     highway         price  \n",
       "count   205.000000  205.000000    205.000000  \n",
       "unique         NaN         NaN           NaN  \n",
       "top            NaN         NaN           NaN  \n",
       "freq           NaN         NaN           NaN  \n",
       "mean     25.219512   30.751220  13207.129353  \n",
       "std       6.542142    6.886443   7868.768212  \n",
       "min      13.000000   16.000000   5118.000000  \n",
       "25%      19.000000   25.000000   7788.000000  \n",
       "50%      24.000000   30.000000  10595.000000  \n",
       "75%      30.000000   34.000000  16500.000000  \n",
       "max      49.000000   54.000000  45400.000000  \n",
       "\n",
       "[11 rows x 26 columns]"
      ]
     },
     "execution_count": 145,
     "metadata": {},
     "output_type": "execute_result"
    }
   ],
   "source": [
    "Automobile2.describe(include=\"all\")                       # Summary"
   ]
  },
  {
   "cell_type": "code",
   "execution_count": null,
   "metadata": {
    "collapsed": true
   },
   "outputs": [],
   "source": []
  },
  {
   "cell_type": "code",
   "execution_count": 146,
   "metadata": {},
   "outputs": [
    {
     "name": "stdout",
     "output_type": "stream",
     "text": [
      "<class 'pandas.core.frame.DataFrame'>\n",
      "RangeIndex: 205 entries, 0 to 204\n",
      "Data columns (total 26 columns):\n",
      "symboling      205 non-null int64\n",
      "losses         205 non-null float64\n",
      "make           205 non-null object\n",
      "fueltype       205 non-null object\n",
      "aspiration     205 non-null object\n",
      "doors          205 non-null object\n",
      "Style          205 non-null object\n",
      "wheels         205 non-null object\n",
      "location       205 non-null object\n",
      "base           205 non-null float64\n",
      "length         205 non-null float64\n",
      "width          205 non-null float64\n",
      "height         205 non-null float64\n",
      "weight         205 non-null int64\n",
      "engine         205 non-null object\n",
      "cylinders      205 non-null object\n",
      "Size           205 non-null int64\n",
      "fuel           205 non-null object\n",
      "bore           205 non-null float64\n",
      "stroke         205 non-null float64\n",
      "compression    205 non-null float64\n",
      "horsepower     205 non-null float64\n",
      "peak           205 non-null float64\n",
      "mlg            205 non-null int64\n",
      "highway        205 non-null int64\n",
      "price          205 non-null float64\n",
      "dtypes: float64(11), int64(5), object(10)\n",
      "memory usage: 41.7+ KB\n"
     ]
    }
   ],
   "source": [
    "Automobile2.info()                                 # Structure of the Automobile2"
   ]
  },
  {
   "cell_type": "markdown",
   "metadata": {},
   "source": [
    "### Coverting Categorical Columns into 0's and 1's using Label encoder and One hot encoding"
   ]
  },
  {
   "cell_type": "markdown",
   "metadata": {},
   "source": [
    "#### I'll create Some categorical column into 0's and 1's using Label Encoder and rest using One Hot Encoding"
   ]
  },
  {
   "cell_type": "code",
   "execution_count": 147,
   "metadata": {
    "collapsed": true
   },
   "outputs": [],
   "source": [
    "le = LabelEncoder()                                # Creating an instance"
   ]
  },
  {
   "cell_type": "code",
   "execution_count": 148,
   "metadata": {
    "collapsed": true
   },
   "outputs": [],
   "source": [
    "category_le = Automobile2.loc[:,[\"make\",\"Style\",\"wheels\",\"engine\",\"cylinders\",\"fuel\" , \"symboling\"]]        # Columns which are using Label Encoder"
   ]
  },
  {
   "cell_type": "code",
   "execution_count": 149,
   "metadata": {
    "collapsed": true
   },
   "outputs": [],
   "source": [
    "category_ohe = Automobile2.loc[:,[\"fueltype\",\"aspiration\",\"doors\",\"location\"]]        # Columns which are using One hot Encoding "
   ]
  },
  {
   "cell_type": "markdown",
   "metadata": {},
   "source": [
    "#### Converting \"category_le\" dataset's columns into 0's and 1's using Label Encoder "
   ]
  },
  {
   "cell_type": "code",
   "execution_count": 150,
   "metadata": {
    "collapsed": true
   },
   "outputs": [],
   "source": [
    "for k in category_le:                                               # for loop\n",
    "    category_le[k] = le.fit_transform(category_le[k])               # converting into 0's and 1's"
   ]
  },
  {
   "cell_type": "code",
   "execution_count": 151,
   "metadata": {},
   "outputs": [
    {
     "data": {
      "text/html": [
       "<div>\n",
       "<style>\n",
       "    .dataframe thead tr:only-child th {\n",
       "        text-align: right;\n",
       "    }\n",
       "\n",
       "    .dataframe thead th {\n",
       "        text-align: left;\n",
       "    }\n",
       "\n",
       "    .dataframe tbody tr th {\n",
       "        vertical-align: top;\n",
       "    }\n",
       "</style>\n",
       "<table border=\"1\" class=\"dataframe\">\n",
       "  <thead>\n",
       "    <tr style=\"text-align: right;\">\n",
       "      <th></th>\n",
       "      <th>make</th>\n",
       "      <th>Style</th>\n",
       "      <th>wheels</th>\n",
       "      <th>engine</th>\n",
       "      <th>cylinders</th>\n",
       "      <th>fuel</th>\n",
       "      <th>symboling</th>\n",
       "    </tr>\n",
       "  </thead>\n",
       "  <tbody>\n",
       "    <tr>\n",
       "      <th>count</th>\n",
       "      <td>205.000000</td>\n",
       "      <td>205.000000</td>\n",
       "      <td>205.000000</td>\n",
       "      <td>205.000000</td>\n",
       "      <td>205.000000</td>\n",
       "      <td>205.000000</td>\n",
       "      <td>205.000000</td>\n",
       "    </tr>\n",
       "    <tr>\n",
       "      <th>mean</th>\n",
       "      <td>12.195122</td>\n",
       "      <td>2.614634</td>\n",
       "      <td>1.326829</td>\n",
       "      <td>3.014634</td>\n",
       "      <td>2.117073</td>\n",
       "      <td>3.253659</td>\n",
       "      <td>2.834146</td>\n",
       "    </tr>\n",
       "    <tr>\n",
       "      <th>std</th>\n",
       "      <td>6.274831</td>\n",
       "      <td>0.859081</td>\n",
       "      <td>0.556171</td>\n",
       "      <td>1.054765</td>\n",
       "      <td>0.795792</td>\n",
       "      <td>2.013204</td>\n",
       "      <td>1.245307</td>\n",
       "    </tr>\n",
       "    <tr>\n",
       "      <th>min</th>\n",
       "      <td>0.000000</td>\n",
       "      <td>0.000000</td>\n",
       "      <td>0.000000</td>\n",
       "      <td>0.000000</td>\n",
       "      <td>0.000000</td>\n",
       "      <td>0.000000</td>\n",
       "      <td>0.000000</td>\n",
       "    </tr>\n",
       "    <tr>\n",
       "      <th>25%</th>\n",
       "      <td>8.000000</td>\n",
       "      <td>2.000000</td>\n",
       "      <td>1.000000</td>\n",
       "      <td>3.000000</td>\n",
       "      <td>2.000000</td>\n",
       "      <td>1.000000</td>\n",
       "      <td>2.000000</td>\n",
       "    </tr>\n",
       "    <tr>\n",
       "      <th>50%</th>\n",
       "      <td>12.000000</td>\n",
       "      <td>3.000000</td>\n",
       "      <td>1.000000</td>\n",
       "      <td>3.000000</td>\n",
       "      <td>2.000000</td>\n",
       "      <td>5.000000</td>\n",
       "      <td>3.000000</td>\n",
       "    </tr>\n",
       "    <tr>\n",
       "      <th>75%</th>\n",
       "      <td>19.000000</td>\n",
       "      <td>3.000000</td>\n",
       "      <td>2.000000</td>\n",
       "      <td>3.000000</td>\n",
       "      <td>2.000000</td>\n",
       "      <td>5.000000</td>\n",
       "      <td>4.000000</td>\n",
       "    </tr>\n",
       "    <tr>\n",
       "      <th>max</th>\n",
       "      <td>21.000000</td>\n",
       "      <td>4.000000</td>\n",
       "      <td>2.000000</td>\n",
       "      <td>6.000000</td>\n",
       "      <td>6.000000</td>\n",
       "      <td>7.000000</td>\n",
       "      <td>5.000000</td>\n",
       "    </tr>\n",
       "  </tbody>\n",
       "</table>\n",
       "</div>"
      ],
      "text/plain": [
       "             make       Style      wheels      engine   cylinders        fuel  \\\n",
       "count  205.000000  205.000000  205.000000  205.000000  205.000000  205.000000   \n",
       "mean    12.195122    2.614634    1.326829    3.014634    2.117073    3.253659   \n",
       "std      6.274831    0.859081    0.556171    1.054765    0.795792    2.013204   \n",
       "min      0.000000    0.000000    0.000000    0.000000    0.000000    0.000000   \n",
       "25%      8.000000    2.000000    1.000000    3.000000    2.000000    1.000000   \n",
       "50%     12.000000    3.000000    1.000000    3.000000    2.000000    5.000000   \n",
       "75%     19.000000    3.000000    2.000000    3.000000    2.000000    5.000000   \n",
       "max     21.000000    4.000000    2.000000    6.000000    6.000000    7.000000   \n",
       "\n",
       "        symboling  \n",
       "count  205.000000  \n",
       "mean     2.834146  \n",
       "std      1.245307  \n",
       "min      0.000000  \n",
       "25%      2.000000  \n",
       "50%      3.000000  \n",
       "75%      4.000000  \n",
       "max      5.000000  "
      ]
     },
     "execution_count": 151,
     "metadata": {},
     "output_type": "execute_result"
    }
   ],
   "source": [
    "category_le.describe(include=\"all\")                                # summary of category_le"
   ]
  },
  {
   "cell_type": "markdown",
   "metadata": {},
   "source": [
    "#### Converting \"category_ohe\" dataset's column into 0's and 1's using One Hot Encoding"
   ]
  },
  {
   "cell_type": "code",
   "execution_count": 152,
   "metadata": {
    "collapsed": true
   },
   "outputs": [],
   "source": [
    "category_ohe = pd.get_dummies(category_ohe, columns=[\"fueltype\",\"aspiration\",\"doors\",\"location\"])    # Converted these columns into 0's and 1's using One hot encoding"
   ]
  },
  {
   "cell_type": "code",
   "execution_count": 153,
   "metadata": {},
   "outputs": [
    {
     "data": {
      "text/html": [
       "<div>\n",
       "<style>\n",
       "    .dataframe thead tr:only-child th {\n",
       "        text-align: right;\n",
       "    }\n",
       "\n",
       "    .dataframe thead th {\n",
       "        text-align: left;\n",
       "    }\n",
       "\n",
       "    .dataframe tbody tr th {\n",
       "        vertical-align: top;\n",
       "    }\n",
       "</style>\n",
       "<table border=\"1\" class=\"dataframe\">\n",
       "  <thead>\n",
       "    <tr style=\"text-align: right;\">\n",
       "      <th></th>\n",
       "      <th>fueltype_diesel</th>\n",
       "      <th>fueltype_gas</th>\n",
       "      <th>aspiration_std</th>\n",
       "      <th>aspiration_turbo</th>\n",
       "      <th>doors_four</th>\n",
       "      <th>doors_two</th>\n",
       "      <th>location_front</th>\n",
       "      <th>location_rear</th>\n",
       "    </tr>\n",
       "  </thead>\n",
       "  <tbody>\n",
       "    <tr>\n",
       "      <th>0</th>\n",
       "      <td>0</td>\n",
       "      <td>1</td>\n",
       "      <td>1</td>\n",
       "      <td>0</td>\n",
       "      <td>0</td>\n",
       "      <td>1</td>\n",
       "      <td>1</td>\n",
       "      <td>0</td>\n",
       "    </tr>\n",
       "    <tr>\n",
       "      <th>1</th>\n",
       "      <td>0</td>\n",
       "      <td>1</td>\n",
       "      <td>1</td>\n",
       "      <td>0</td>\n",
       "      <td>0</td>\n",
       "      <td>1</td>\n",
       "      <td>1</td>\n",
       "      <td>0</td>\n",
       "    </tr>\n",
       "    <tr>\n",
       "      <th>2</th>\n",
       "      <td>0</td>\n",
       "      <td>1</td>\n",
       "      <td>1</td>\n",
       "      <td>0</td>\n",
       "      <td>0</td>\n",
       "      <td>1</td>\n",
       "      <td>1</td>\n",
       "      <td>0</td>\n",
       "    </tr>\n",
       "    <tr>\n",
       "      <th>3</th>\n",
       "      <td>0</td>\n",
       "      <td>1</td>\n",
       "      <td>1</td>\n",
       "      <td>0</td>\n",
       "      <td>1</td>\n",
       "      <td>0</td>\n",
       "      <td>1</td>\n",
       "      <td>0</td>\n",
       "    </tr>\n",
       "    <tr>\n",
       "      <th>4</th>\n",
       "      <td>0</td>\n",
       "      <td>1</td>\n",
       "      <td>1</td>\n",
       "      <td>0</td>\n",
       "      <td>1</td>\n",
       "      <td>0</td>\n",
       "      <td>1</td>\n",
       "      <td>0</td>\n",
       "    </tr>\n",
       "  </tbody>\n",
       "</table>\n",
       "</div>"
      ],
      "text/plain": [
       "   fueltype_diesel  fueltype_gas  aspiration_std  aspiration_turbo  \\\n",
       "0                0             1               1                 0   \n",
       "1                0             1               1                 0   \n",
       "2                0             1               1                 0   \n",
       "3                0             1               1                 0   \n",
       "4                0             1               1                 0   \n",
       "\n",
       "   doors_four  doors_two  location_front  location_rear  \n",
       "0           0          1               1              0  \n",
       "1           0          1               1              0  \n",
       "2           0          1               1              0  \n",
       "3           1          0               1              0  \n",
       "4           1          0               1              0  "
      ]
     },
     "execution_count": 153,
     "metadata": {},
     "output_type": "execute_result"
    }
   ],
   "source": [
    "category_ohe.head()                             # First 6 observations"
   ]
  },
  {
   "cell_type": "code",
   "execution_count": 154,
   "metadata": {},
   "outputs": [
    {
     "data": {
      "text/html": [
       "<div>\n",
       "<style>\n",
       "    .dataframe thead tr:only-child th {\n",
       "        text-align: right;\n",
       "    }\n",
       "\n",
       "    .dataframe thead th {\n",
       "        text-align: left;\n",
       "    }\n",
       "\n",
       "    .dataframe tbody tr th {\n",
       "        vertical-align: top;\n",
       "    }\n",
       "</style>\n",
       "<table border=\"1\" class=\"dataframe\">\n",
       "  <thead>\n",
       "    <tr style=\"text-align: right;\">\n",
       "      <th></th>\n",
       "      <th>fueltype_diesel</th>\n",
       "      <th>fueltype_gas</th>\n",
       "      <th>aspiration_std</th>\n",
       "      <th>aspiration_turbo</th>\n",
       "      <th>doors_four</th>\n",
       "      <th>doors_two</th>\n",
       "      <th>location_front</th>\n",
       "      <th>location_rear</th>\n",
       "    </tr>\n",
       "  </thead>\n",
       "  <tbody>\n",
       "    <tr>\n",
       "      <th>count</th>\n",
       "      <td>205.000000</td>\n",
       "      <td>205.000000</td>\n",
       "      <td>205.000000</td>\n",
       "      <td>205.000000</td>\n",
       "      <td>205.000000</td>\n",
       "      <td>205.000000</td>\n",
       "      <td>205.000000</td>\n",
       "      <td>205.000000</td>\n",
       "    </tr>\n",
       "    <tr>\n",
       "      <th>mean</th>\n",
       "      <td>0.097561</td>\n",
       "      <td>0.902439</td>\n",
       "      <td>0.819512</td>\n",
       "      <td>0.180488</td>\n",
       "      <td>0.565854</td>\n",
       "      <td>0.434146</td>\n",
       "      <td>0.985366</td>\n",
       "      <td>0.014634</td>\n",
       "    </tr>\n",
       "    <tr>\n",
       "      <th>std</th>\n",
       "      <td>0.297446</td>\n",
       "      <td>0.297446</td>\n",
       "      <td>0.385535</td>\n",
       "      <td>0.385535</td>\n",
       "      <td>0.496858</td>\n",
       "      <td>0.496858</td>\n",
       "      <td>0.120377</td>\n",
       "      <td>0.120377</td>\n",
       "    </tr>\n",
       "    <tr>\n",
       "      <th>min</th>\n",
       "      <td>0.000000</td>\n",
       "      <td>0.000000</td>\n",
       "      <td>0.000000</td>\n",
       "      <td>0.000000</td>\n",
       "      <td>0.000000</td>\n",
       "      <td>0.000000</td>\n",
       "      <td>0.000000</td>\n",
       "      <td>0.000000</td>\n",
       "    </tr>\n",
       "    <tr>\n",
       "      <th>25%</th>\n",
       "      <td>0.000000</td>\n",
       "      <td>1.000000</td>\n",
       "      <td>1.000000</td>\n",
       "      <td>0.000000</td>\n",
       "      <td>0.000000</td>\n",
       "      <td>0.000000</td>\n",
       "      <td>1.000000</td>\n",
       "      <td>0.000000</td>\n",
       "    </tr>\n",
       "    <tr>\n",
       "      <th>50%</th>\n",
       "      <td>0.000000</td>\n",
       "      <td>1.000000</td>\n",
       "      <td>1.000000</td>\n",
       "      <td>0.000000</td>\n",
       "      <td>1.000000</td>\n",
       "      <td>0.000000</td>\n",
       "      <td>1.000000</td>\n",
       "      <td>0.000000</td>\n",
       "    </tr>\n",
       "    <tr>\n",
       "      <th>75%</th>\n",
       "      <td>0.000000</td>\n",
       "      <td>1.000000</td>\n",
       "      <td>1.000000</td>\n",
       "      <td>0.000000</td>\n",
       "      <td>1.000000</td>\n",
       "      <td>1.000000</td>\n",
       "      <td>1.000000</td>\n",
       "      <td>0.000000</td>\n",
       "    </tr>\n",
       "    <tr>\n",
       "      <th>max</th>\n",
       "      <td>1.000000</td>\n",
       "      <td>1.000000</td>\n",
       "      <td>1.000000</td>\n",
       "      <td>1.000000</td>\n",
       "      <td>1.000000</td>\n",
       "      <td>1.000000</td>\n",
       "      <td>1.000000</td>\n",
       "      <td>1.000000</td>\n",
       "    </tr>\n",
       "  </tbody>\n",
       "</table>\n",
       "</div>"
      ],
      "text/plain": [
       "       fueltype_diesel  fueltype_gas  aspiration_std  aspiration_turbo  \\\n",
       "count       205.000000    205.000000      205.000000        205.000000   \n",
       "mean          0.097561      0.902439        0.819512          0.180488   \n",
       "std           0.297446      0.297446        0.385535          0.385535   \n",
       "min           0.000000      0.000000        0.000000          0.000000   \n",
       "25%           0.000000      1.000000        1.000000          0.000000   \n",
       "50%           0.000000      1.000000        1.000000          0.000000   \n",
       "75%           0.000000      1.000000        1.000000          0.000000   \n",
       "max           1.000000      1.000000        1.000000          1.000000   \n",
       "\n",
       "       doors_four   doors_two  location_front  location_rear  \n",
       "count  205.000000  205.000000      205.000000     205.000000  \n",
       "mean     0.565854    0.434146        0.985366       0.014634  \n",
       "std      0.496858    0.496858        0.120377       0.120377  \n",
       "min      0.000000    0.000000        0.000000       0.000000  \n",
       "25%      0.000000    0.000000        1.000000       0.000000  \n",
       "50%      1.000000    0.000000        1.000000       0.000000  \n",
       "75%      1.000000    1.000000        1.000000       0.000000  \n",
       "max      1.000000    1.000000        1.000000       1.000000  "
      ]
     },
     "execution_count": 154,
     "metadata": {},
     "output_type": "execute_result"
    }
   ],
   "source": [
    "category_ohe.describe()                                        # Summary "
   ]
  },
  {
   "cell_type": "markdown",
   "metadata": {},
   "source": [
    "#### Now from Automobile2 , I'll remove all the categorical columns and will replce them with above converted categorical columns"
   ]
  },
  {
   "cell_type": "code",
   "execution_count": 155,
   "metadata": {},
   "outputs": [
    {
     "data": {
      "text/plain": [
       "(205, 26)"
      ]
     },
     "execution_count": 155,
     "metadata": {},
     "output_type": "execute_result"
    }
   ],
   "source": [
    "Automobile2.shape                                    # Dimensions"
   ]
  },
  {
   "cell_type": "code",
   "execution_count": 156,
   "metadata": {
    "collapsed": true
   },
   "outputs": [],
   "source": [
    "Automobile2 =Automobile2.loc[:,[\"losses\",\"base\",\"length\",\"width\",\"height\",\"weight\",\"Size\",\"bore\",\"stroke\",\"compression\",\"horsepower\",\"peak\",\"mlg\",\"highway\",\"price\"]]\n",
    "# Kept only continuous columns\n"
   ]
  },
  {
   "cell_type": "code",
   "execution_count": 157,
   "metadata": {},
   "outputs": [
    {
     "data": {
      "text/html": [
       "<div>\n",
       "<style>\n",
       "    .dataframe thead tr:only-child th {\n",
       "        text-align: right;\n",
       "    }\n",
       "\n",
       "    .dataframe thead th {\n",
       "        text-align: left;\n",
       "    }\n",
       "\n",
       "    .dataframe tbody tr th {\n",
       "        vertical-align: top;\n",
       "    }\n",
       "</style>\n",
       "<table border=\"1\" class=\"dataframe\">\n",
       "  <thead>\n",
       "    <tr style=\"text-align: right;\">\n",
       "      <th></th>\n",
       "      <th>losses</th>\n",
       "      <th>base</th>\n",
       "      <th>length</th>\n",
       "      <th>width</th>\n",
       "      <th>height</th>\n",
       "      <th>weight</th>\n",
       "      <th>Size</th>\n",
       "      <th>bore</th>\n",
       "      <th>stroke</th>\n",
       "      <th>compression</th>\n",
       "      <th>horsepower</th>\n",
       "      <th>peak</th>\n",
       "      <th>mlg</th>\n",
       "      <th>highway</th>\n",
       "      <th>price</th>\n",
       "    </tr>\n",
       "  </thead>\n",
       "  <tbody>\n",
       "    <tr>\n",
       "      <th>0</th>\n",
       "      <td>122.0</td>\n",
       "      <td>88.6</td>\n",
       "      <td>168.8</td>\n",
       "      <td>64.1</td>\n",
       "      <td>48.8</td>\n",
       "      <td>2548</td>\n",
       "      <td>130</td>\n",
       "      <td>3.47</td>\n",
       "      <td>2.68</td>\n",
       "      <td>9.0</td>\n",
       "      <td>111.0</td>\n",
       "      <td>5000.0</td>\n",
       "      <td>21</td>\n",
       "      <td>27</td>\n",
       "      <td>13495.0</td>\n",
       "    </tr>\n",
       "    <tr>\n",
       "      <th>1</th>\n",
       "      <td>122.0</td>\n",
       "      <td>88.6</td>\n",
       "      <td>168.8</td>\n",
       "      <td>64.1</td>\n",
       "      <td>48.8</td>\n",
       "      <td>2548</td>\n",
       "      <td>130</td>\n",
       "      <td>3.47</td>\n",
       "      <td>2.68</td>\n",
       "      <td>9.0</td>\n",
       "      <td>111.0</td>\n",
       "      <td>5000.0</td>\n",
       "      <td>21</td>\n",
       "      <td>27</td>\n",
       "      <td>16500.0</td>\n",
       "    </tr>\n",
       "    <tr>\n",
       "      <th>2</th>\n",
       "      <td>122.0</td>\n",
       "      <td>94.5</td>\n",
       "      <td>171.2</td>\n",
       "      <td>65.5</td>\n",
       "      <td>52.4</td>\n",
       "      <td>2823</td>\n",
       "      <td>152</td>\n",
       "      <td>2.68</td>\n",
       "      <td>3.47</td>\n",
       "      <td>9.0</td>\n",
       "      <td>154.0</td>\n",
       "      <td>5000.0</td>\n",
       "      <td>19</td>\n",
       "      <td>26</td>\n",
       "      <td>16500.0</td>\n",
       "    </tr>\n",
       "    <tr>\n",
       "      <th>3</th>\n",
       "      <td>164.0</td>\n",
       "      <td>99.8</td>\n",
       "      <td>176.6</td>\n",
       "      <td>66.2</td>\n",
       "      <td>54.3</td>\n",
       "      <td>2337</td>\n",
       "      <td>109</td>\n",
       "      <td>3.19</td>\n",
       "      <td>3.40</td>\n",
       "      <td>10.0</td>\n",
       "      <td>102.0</td>\n",
       "      <td>5500.0</td>\n",
       "      <td>24</td>\n",
       "      <td>30</td>\n",
       "      <td>13950.0</td>\n",
       "    </tr>\n",
       "    <tr>\n",
       "      <th>4</th>\n",
       "      <td>164.0</td>\n",
       "      <td>99.4</td>\n",
       "      <td>176.6</td>\n",
       "      <td>66.4</td>\n",
       "      <td>54.3</td>\n",
       "      <td>2824</td>\n",
       "      <td>136</td>\n",
       "      <td>3.19</td>\n",
       "      <td>3.40</td>\n",
       "      <td>8.0</td>\n",
       "      <td>115.0</td>\n",
       "      <td>5500.0</td>\n",
       "      <td>18</td>\n",
       "      <td>22</td>\n",
       "      <td>17450.0</td>\n",
       "    </tr>\n",
       "  </tbody>\n",
       "</table>\n",
       "</div>"
      ],
      "text/plain": [
       "   losses  base  length  width  height  weight  Size  bore  stroke  \\\n",
       "0   122.0  88.6   168.8   64.1    48.8    2548   130  3.47    2.68   \n",
       "1   122.0  88.6   168.8   64.1    48.8    2548   130  3.47    2.68   \n",
       "2   122.0  94.5   171.2   65.5    52.4    2823   152  2.68    3.47   \n",
       "3   164.0  99.8   176.6   66.2    54.3    2337   109  3.19    3.40   \n",
       "4   164.0  99.4   176.6   66.4    54.3    2824   136  3.19    3.40   \n",
       "\n",
       "   compression  horsepower    peak  mlg  highway    price  \n",
       "0          9.0       111.0  5000.0   21       27  13495.0  \n",
       "1          9.0       111.0  5000.0   21       27  16500.0  \n",
       "2          9.0       154.0  5000.0   19       26  16500.0  \n",
       "3         10.0       102.0  5500.0   24       30  13950.0  \n",
       "4          8.0       115.0  5500.0   18       22  17450.0  "
      ]
     },
     "execution_count": 157,
     "metadata": {},
     "output_type": "execute_result"
    }
   ],
   "source": [
    "Automobile2.head()                      # dataset containg only continuous values"
   ]
  },
  {
   "cell_type": "code",
   "execution_count": null,
   "metadata": {
    "collapsed": true
   },
   "outputs": [],
   "source": []
  },
  {
   "cell_type": "markdown",
   "metadata": {},
   "source": [
    "#### Now I'll concat converted categorical columns to Automobile1 dataset"
   ]
  },
  {
   "cell_type": "code",
   "execution_count": 158,
   "metadata": {
    "collapsed": true
   },
   "outputs": [],
   "source": [
    "Automobile2 = pd.concat([Automobile2 , category_le , category_ohe] , axis=1)     # Concatenating the data"
   ]
  },
  {
   "cell_type": "code",
   "execution_count": 159,
   "metadata": {},
   "outputs": [
    {
     "data": {
      "text/html": [
       "<div>\n",
       "<style>\n",
       "    .dataframe thead tr:only-child th {\n",
       "        text-align: right;\n",
       "    }\n",
       "\n",
       "    .dataframe thead th {\n",
       "        text-align: left;\n",
       "    }\n",
       "\n",
       "    .dataframe tbody tr th {\n",
       "        vertical-align: top;\n",
       "    }\n",
       "</style>\n",
       "<table border=\"1\" class=\"dataframe\">\n",
       "  <thead>\n",
       "    <tr style=\"text-align: right;\">\n",
       "      <th></th>\n",
       "      <th>losses</th>\n",
       "      <th>base</th>\n",
       "      <th>length</th>\n",
       "      <th>width</th>\n",
       "      <th>height</th>\n",
       "      <th>weight</th>\n",
       "      <th>Size</th>\n",
       "      <th>bore</th>\n",
       "      <th>stroke</th>\n",
       "      <th>compression</th>\n",
       "      <th>...</th>\n",
       "      <th>fuel</th>\n",
       "      <th>symboling</th>\n",
       "      <th>fueltype_diesel</th>\n",
       "      <th>fueltype_gas</th>\n",
       "      <th>aspiration_std</th>\n",
       "      <th>aspiration_turbo</th>\n",
       "      <th>doors_four</th>\n",
       "      <th>doors_two</th>\n",
       "      <th>location_front</th>\n",
       "      <th>location_rear</th>\n",
       "    </tr>\n",
       "  </thead>\n",
       "  <tbody>\n",
       "    <tr>\n",
       "      <th>0</th>\n",
       "      <td>122.0</td>\n",
       "      <td>88.6</td>\n",
       "      <td>168.8</td>\n",
       "      <td>64.1</td>\n",
       "      <td>48.8</td>\n",
       "      <td>2548</td>\n",
       "      <td>130</td>\n",
       "      <td>3.47</td>\n",
       "      <td>2.68</td>\n",
       "      <td>9.0</td>\n",
       "      <td>...</td>\n",
       "      <td>5</td>\n",
       "      <td>5</td>\n",
       "      <td>0</td>\n",
       "      <td>1</td>\n",
       "      <td>1</td>\n",
       "      <td>0</td>\n",
       "      <td>0</td>\n",
       "      <td>1</td>\n",
       "      <td>1</td>\n",
       "      <td>0</td>\n",
       "    </tr>\n",
       "    <tr>\n",
       "      <th>1</th>\n",
       "      <td>122.0</td>\n",
       "      <td>88.6</td>\n",
       "      <td>168.8</td>\n",
       "      <td>64.1</td>\n",
       "      <td>48.8</td>\n",
       "      <td>2548</td>\n",
       "      <td>130</td>\n",
       "      <td>3.47</td>\n",
       "      <td>2.68</td>\n",
       "      <td>9.0</td>\n",
       "      <td>...</td>\n",
       "      <td>5</td>\n",
       "      <td>5</td>\n",
       "      <td>0</td>\n",
       "      <td>1</td>\n",
       "      <td>1</td>\n",
       "      <td>0</td>\n",
       "      <td>0</td>\n",
       "      <td>1</td>\n",
       "      <td>1</td>\n",
       "      <td>0</td>\n",
       "    </tr>\n",
       "    <tr>\n",
       "      <th>2</th>\n",
       "      <td>122.0</td>\n",
       "      <td>94.5</td>\n",
       "      <td>171.2</td>\n",
       "      <td>65.5</td>\n",
       "      <td>52.4</td>\n",
       "      <td>2823</td>\n",
       "      <td>152</td>\n",
       "      <td>2.68</td>\n",
       "      <td>3.47</td>\n",
       "      <td>9.0</td>\n",
       "      <td>...</td>\n",
       "      <td>5</td>\n",
       "      <td>3</td>\n",
       "      <td>0</td>\n",
       "      <td>1</td>\n",
       "      <td>1</td>\n",
       "      <td>0</td>\n",
       "      <td>0</td>\n",
       "      <td>1</td>\n",
       "      <td>1</td>\n",
       "      <td>0</td>\n",
       "    </tr>\n",
       "    <tr>\n",
       "      <th>3</th>\n",
       "      <td>164.0</td>\n",
       "      <td>99.8</td>\n",
       "      <td>176.6</td>\n",
       "      <td>66.2</td>\n",
       "      <td>54.3</td>\n",
       "      <td>2337</td>\n",
       "      <td>109</td>\n",
       "      <td>3.19</td>\n",
       "      <td>3.40</td>\n",
       "      <td>10.0</td>\n",
       "      <td>...</td>\n",
       "      <td>5</td>\n",
       "      <td>4</td>\n",
       "      <td>0</td>\n",
       "      <td>1</td>\n",
       "      <td>1</td>\n",
       "      <td>0</td>\n",
       "      <td>1</td>\n",
       "      <td>0</td>\n",
       "      <td>1</td>\n",
       "      <td>0</td>\n",
       "    </tr>\n",
       "    <tr>\n",
       "      <th>4</th>\n",
       "      <td>164.0</td>\n",
       "      <td>99.4</td>\n",
       "      <td>176.6</td>\n",
       "      <td>66.4</td>\n",
       "      <td>54.3</td>\n",
       "      <td>2824</td>\n",
       "      <td>136</td>\n",
       "      <td>3.19</td>\n",
       "      <td>3.40</td>\n",
       "      <td>8.0</td>\n",
       "      <td>...</td>\n",
       "      <td>5</td>\n",
       "      <td>4</td>\n",
       "      <td>0</td>\n",
       "      <td>1</td>\n",
       "      <td>1</td>\n",
       "      <td>0</td>\n",
       "      <td>1</td>\n",
       "      <td>0</td>\n",
       "      <td>1</td>\n",
       "      <td>0</td>\n",
       "    </tr>\n",
       "  </tbody>\n",
       "</table>\n",
       "<p>5 rows × 30 columns</p>\n",
       "</div>"
      ],
      "text/plain": [
       "   losses  base  length  width  height  weight  Size  bore  stroke  \\\n",
       "0   122.0  88.6   168.8   64.1    48.8    2548   130  3.47    2.68   \n",
       "1   122.0  88.6   168.8   64.1    48.8    2548   130  3.47    2.68   \n",
       "2   122.0  94.5   171.2   65.5    52.4    2823   152  2.68    3.47   \n",
       "3   164.0  99.8   176.6   66.2    54.3    2337   109  3.19    3.40   \n",
       "4   164.0  99.4   176.6   66.4    54.3    2824   136  3.19    3.40   \n",
       "\n",
       "   compression      ...        fuel  symboling  fueltype_diesel  fueltype_gas  \\\n",
       "0          9.0      ...           5          5                0             1   \n",
       "1          9.0      ...           5          5                0             1   \n",
       "2          9.0      ...           5          3                0             1   \n",
       "3         10.0      ...           5          4                0             1   \n",
       "4          8.0      ...           5          4                0             1   \n",
       "\n",
       "   aspiration_std  aspiration_turbo  doors_four  doors_two  location_front  \\\n",
       "0               1                 0           0          1               1   \n",
       "1               1                 0           0          1               1   \n",
       "2               1                 0           0          1               1   \n",
       "3               1                 0           1          0               1   \n",
       "4               1                 0           1          0               1   \n",
       "\n",
       "   location_rear  \n",
       "0              0  \n",
       "1              0  \n",
       "2              0  \n",
       "3              0  \n",
       "4              0  \n",
       "\n",
       "[5 rows x 30 columns]"
      ]
     },
     "execution_count": 159,
     "metadata": {},
     "output_type": "execute_result"
    }
   ],
   "source": [
    "Automobile2.head()                                     # First 6 observations"
   ]
  },
  {
   "cell_type": "code",
   "execution_count": 160,
   "metadata": {},
   "outputs": [
    {
     "data": {
      "text/plain": [
       "(205, 30)"
      ]
     },
     "execution_count": 160,
     "metadata": {},
     "output_type": "execute_result"
    }
   ],
   "source": [
    "Automobile2.shape                                  # Dimensions of Automobile 2"
   ]
  },
  {
   "cell_type": "markdown",
   "metadata": {},
   "source": [
    "#### Now I have got the numerical and categorical data , I'll check whether the dataset is normally distributed or not"
   ]
  },
  {
   "cell_type": "markdown",
   "metadata": {},
   "source": [
    "#### Checking Skewness of the data"
   ]
  },
  {
   "cell_type": "code",
   "execution_count": 161,
   "metadata": {},
   "outputs": [
    {
     "data": {
      "text/plain": [
       "losses              0.854802\n",
       "base                1.050214\n",
       "length              0.155954\n",
       "width               0.904003\n",
       "height              0.063123\n",
       "weight              0.681398\n",
       "Size                1.947655\n",
       "bore                0.020211\n",
       "stroke             -0.689784\n",
       "compression         2.610862\n",
       "horsepower          1.403441\n",
       "peak                0.073591\n",
       "mlg                 0.663704\n",
       "highway             0.539997\n",
       "price               1.827324\n",
       "make               -0.244671\n",
       "Style              -0.665301\n",
       "wheels             -0.058352\n",
       "engine             -0.535603\n",
       "cylinders           2.144253\n",
       "fuel               -0.242995\n",
       "symboling           0.211072\n",
       "fueltype_diesel     2.732619\n",
       "fueltype_gas       -2.732619\n",
       "aspiration_std     -1.673832\n",
       "aspiration_turbo    1.673832\n",
       "doors_four         -0.267692\n",
       "doors_two           0.267692\n",
       "location_front     -8.143531\n",
       "location_rear       8.143531\n",
       "dtype: float64"
      ]
     },
     "execution_count": 161,
     "metadata": {},
     "output_type": "execute_result"
    }
   ],
   "source": [
    "Automobile2.skew()                         # Skewness of the data"
   ]
  },
  {
   "cell_type": "markdown",
   "metadata": {},
   "source": [
    "#### From above I can see that come columns are Highly Skewed"
   ]
  },
  {
   "cell_type": "markdown",
   "metadata": {},
   "source": [
    "## Building the model before bringing data to normal distribution"
   ]
  },
  {
   "cell_type": "markdown",
   "metadata": {},
   "source": [
    "#### Now Splitting the df1 data into x and y for independent variables and dependent variable respectively"
   ]
  },
  {
   "cell_type": "code",
   "execution_count": 162,
   "metadata": {},
   "outputs": [
    {
     "data": {
      "text/plain": [
       "Index(['losses', 'base', 'length', 'width', 'height', 'weight', 'Size', 'bore',\n",
       "       'stroke', 'compression', 'horsepower', 'peak', 'mlg', 'highway',\n",
       "       'price', 'make', 'Style', 'wheels', 'engine', 'cylinders', 'fuel',\n",
       "       'symboling', 'fueltype_diesel', 'fueltype_gas', 'aspiration_std',\n",
       "       'aspiration_turbo', 'doors_four', 'doors_two', 'location_front',\n",
       "       'location_rear'],\n",
       "      dtype='object')"
      ]
     },
     "execution_count": 162,
     "metadata": {},
     "output_type": "execute_result"
    }
   ],
   "source": [
    "Automobile2.columns                                  # Column names of Automobile 2"
   ]
  },
  {
   "cell_type": "code",
   "execution_count": 1,
   "metadata": {},
   "outputs": [
    {
     "ename": "NameError",
     "evalue": "name 'Automobile2' is not defined",
     "output_type": "error",
     "traceback": [
      "\u001b[1;31m---------------------------------------------------------------------------\u001b[0m",
      "\u001b[1;31mNameError\u001b[0m                                 Traceback (most recent call last)",
      "\u001b[1;32m<ipython-input-1-82729425397e>\u001b[0m in \u001b[0;36m<module>\u001b[1;34m\u001b[0m\n\u001b[1;32m----> 1\u001b[1;33m \u001b[0mx\u001b[0m \u001b[1;33m=\u001b[0m \u001b[0mAutomobile2\u001b[0m\u001b[1;33m.\u001b[0m\u001b[0miloc\u001b[0m\u001b[1;33m[\u001b[0m\u001b[1;33m:\u001b[0m\u001b[1;33m,\u001b[0m\u001b[0mnp\u001b[0m\u001b[1;33m.\u001b[0m\u001b[0mr_\u001b[0m\u001b[1;33m[\u001b[0m\u001b[1;36m0\u001b[0m\u001b[1;33m:\u001b[0m\u001b[1;36m14\u001b[0m \u001b[1;33m,\u001b[0m \u001b[1;36m15\u001b[0m\u001b[1;33m:\u001b[0m\u001b[1;36m30\u001b[0m\u001b[1;33m]\u001b[0m\u001b[1;33m]\u001b[0m               \u001b[1;31m# Independent data into x\u001b[0m\u001b[1;33m\u001b[0m\u001b[1;33m\u001b[0m\u001b[0m\n\u001b[0m",
      "\u001b[1;31mNameError\u001b[0m: name 'Automobile2' is not defined"
     ]
    }
   ],
   "source": [
    "x = Automobile2.iloc[:,np.r_[0:14 , 15:30]]               # Independent data into x  "
   ]
  },
  {
   "cell_type": "code",
   "execution_count": 165,
   "metadata": {
    "collapsed": true
   },
   "outputs": [],
   "source": [
    "y = Automobile2.iloc[:,14]                                # dependent data into x "
   ]
  },
  {
   "cell_type": "code",
   "execution_count": 166,
   "metadata": {},
   "outputs": [
    {
     "data": {
      "text/html": [
       "<div>\n",
       "<style>\n",
       "    .dataframe thead tr:only-child th {\n",
       "        text-align: right;\n",
       "    }\n",
       "\n",
       "    .dataframe thead th {\n",
       "        text-align: left;\n",
       "    }\n",
       "\n",
       "    .dataframe tbody tr th {\n",
       "        vertical-align: top;\n",
       "    }\n",
       "</style>\n",
       "<table border=\"1\" class=\"dataframe\">\n",
       "  <thead>\n",
       "    <tr style=\"text-align: right;\">\n",
       "      <th></th>\n",
       "      <th>losses</th>\n",
       "      <th>base</th>\n",
       "      <th>length</th>\n",
       "      <th>width</th>\n",
       "      <th>height</th>\n",
       "      <th>weight</th>\n",
       "      <th>Size</th>\n",
       "      <th>bore</th>\n",
       "      <th>stroke</th>\n",
       "      <th>compression</th>\n",
       "      <th>...</th>\n",
       "      <th>fuel</th>\n",
       "      <th>symboling</th>\n",
       "      <th>fueltype_diesel</th>\n",
       "      <th>fueltype_gas</th>\n",
       "      <th>aspiration_std</th>\n",
       "      <th>aspiration_turbo</th>\n",
       "      <th>doors_four</th>\n",
       "      <th>doors_two</th>\n",
       "      <th>location_front</th>\n",
       "      <th>location_rear</th>\n",
       "    </tr>\n",
       "  </thead>\n",
       "  <tbody>\n",
       "    <tr>\n",
       "      <th>0</th>\n",
       "      <td>122.0</td>\n",
       "      <td>88.6</td>\n",
       "      <td>168.8</td>\n",
       "      <td>64.1</td>\n",
       "      <td>48.8</td>\n",
       "      <td>2548</td>\n",
       "      <td>130</td>\n",
       "      <td>3.47</td>\n",
       "      <td>2.68</td>\n",
       "      <td>9.0</td>\n",
       "      <td>...</td>\n",
       "      <td>5</td>\n",
       "      <td>5</td>\n",
       "      <td>0</td>\n",
       "      <td>1</td>\n",
       "      <td>1</td>\n",
       "      <td>0</td>\n",
       "      <td>0</td>\n",
       "      <td>1</td>\n",
       "      <td>1</td>\n",
       "      <td>0</td>\n",
       "    </tr>\n",
       "    <tr>\n",
       "      <th>1</th>\n",
       "      <td>122.0</td>\n",
       "      <td>88.6</td>\n",
       "      <td>168.8</td>\n",
       "      <td>64.1</td>\n",
       "      <td>48.8</td>\n",
       "      <td>2548</td>\n",
       "      <td>130</td>\n",
       "      <td>3.47</td>\n",
       "      <td>2.68</td>\n",
       "      <td>9.0</td>\n",
       "      <td>...</td>\n",
       "      <td>5</td>\n",
       "      <td>5</td>\n",
       "      <td>0</td>\n",
       "      <td>1</td>\n",
       "      <td>1</td>\n",
       "      <td>0</td>\n",
       "      <td>0</td>\n",
       "      <td>1</td>\n",
       "      <td>1</td>\n",
       "      <td>0</td>\n",
       "    </tr>\n",
       "    <tr>\n",
       "      <th>2</th>\n",
       "      <td>122.0</td>\n",
       "      <td>94.5</td>\n",
       "      <td>171.2</td>\n",
       "      <td>65.5</td>\n",
       "      <td>52.4</td>\n",
       "      <td>2823</td>\n",
       "      <td>152</td>\n",
       "      <td>2.68</td>\n",
       "      <td>3.47</td>\n",
       "      <td>9.0</td>\n",
       "      <td>...</td>\n",
       "      <td>5</td>\n",
       "      <td>3</td>\n",
       "      <td>0</td>\n",
       "      <td>1</td>\n",
       "      <td>1</td>\n",
       "      <td>0</td>\n",
       "      <td>0</td>\n",
       "      <td>1</td>\n",
       "      <td>1</td>\n",
       "      <td>0</td>\n",
       "    </tr>\n",
       "    <tr>\n",
       "      <th>3</th>\n",
       "      <td>164.0</td>\n",
       "      <td>99.8</td>\n",
       "      <td>176.6</td>\n",
       "      <td>66.2</td>\n",
       "      <td>54.3</td>\n",
       "      <td>2337</td>\n",
       "      <td>109</td>\n",
       "      <td>3.19</td>\n",
       "      <td>3.40</td>\n",
       "      <td>10.0</td>\n",
       "      <td>...</td>\n",
       "      <td>5</td>\n",
       "      <td>4</td>\n",
       "      <td>0</td>\n",
       "      <td>1</td>\n",
       "      <td>1</td>\n",
       "      <td>0</td>\n",
       "      <td>1</td>\n",
       "      <td>0</td>\n",
       "      <td>1</td>\n",
       "      <td>0</td>\n",
       "    </tr>\n",
       "    <tr>\n",
       "      <th>4</th>\n",
       "      <td>164.0</td>\n",
       "      <td>99.4</td>\n",
       "      <td>176.6</td>\n",
       "      <td>66.4</td>\n",
       "      <td>54.3</td>\n",
       "      <td>2824</td>\n",
       "      <td>136</td>\n",
       "      <td>3.19</td>\n",
       "      <td>3.40</td>\n",
       "      <td>8.0</td>\n",
       "      <td>...</td>\n",
       "      <td>5</td>\n",
       "      <td>4</td>\n",
       "      <td>0</td>\n",
       "      <td>1</td>\n",
       "      <td>1</td>\n",
       "      <td>0</td>\n",
       "      <td>1</td>\n",
       "      <td>0</td>\n",
       "      <td>1</td>\n",
       "      <td>0</td>\n",
       "    </tr>\n",
       "  </tbody>\n",
       "</table>\n",
       "<p>5 rows × 29 columns</p>\n",
       "</div>"
      ],
      "text/plain": [
       "   losses  base  length  width  height  weight  Size  bore  stroke  \\\n",
       "0   122.0  88.6   168.8   64.1    48.8    2548   130  3.47    2.68   \n",
       "1   122.0  88.6   168.8   64.1    48.8    2548   130  3.47    2.68   \n",
       "2   122.0  94.5   171.2   65.5    52.4    2823   152  2.68    3.47   \n",
       "3   164.0  99.8   176.6   66.2    54.3    2337   109  3.19    3.40   \n",
       "4   164.0  99.4   176.6   66.4    54.3    2824   136  3.19    3.40   \n",
       "\n",
       "   compression      ...        fuel  symboling  fueltype_diesel  fueltype_gas  \\\n",
       "0          9.0      ...           5          5                0             1   \n",
       "1          9.0      ...           5          5                0             1   \n",
       "2          9.0      ...           5          3                0             1   \n",
       "3         10.0      ...           5          4                0             1   \n",
       "4          8.0      ...           5          4                0             1   \n",
       "\n",
       "   aspiration_std  aspiration_turbo  doors_four  doors_two  location_front  \\\n",
       "0               1                 0           0          1               1   \n",
       "1               1                 0           0          1               1   \n",
       "2               1                 0           0          1               1   \n",
       "3               1                 0           1          0               1   \n",
       "4               1                 0           1          0               1   \n",
       "\n",
       "   location_rear  \n",
       "0              0  \n",
       "1              0  \n",
       "2              0  \n",
       "3              0  \n",
       "4              0  \n",
       "\n",
       "[5 rows x 29 columns]"
      ]
     },
     "execution_count": 166,
     "metadata": {},
     "output_type": "execute_result"
    }
   ],
   "source": [
    "x.head()                                                  # First 6 observations of X"
   ]
  },
  {
   "cell_type": "code",
   "execution_count": 167,
   "metadata": {},
   "outputs": [
    {
     "data": {
      "text/plain": [
       "0    13495.0\n",
       "1    16500.0\n",
       "2    16500.0\n",
       "3    13950.0\n",
       "4    17450.0\n",
       "Name: price, dtype: float64"
      ]
     },
     "execution_count": 167,
     "metadata": {},
     "output_type": "execute_result"
    }
   ],
   "source": [
    "y.head()                                                       # First 6 observations of Y"
   ]
  },
  {
   "cell_type": "markdown",
   "metadata": {},
   "source": [
    "#### Creating Train and Test for df1_x and df1_y"
   ]
  },
  {
   "cell_type": "code",
   "execution_count": 168,
   "metadata": {
    "collapsed": true
   },
   "outputs": [],
   "source": [
    "from sklearn.model_selection import train_test_split                # importing train test split from sci-kit learn"
   ]
  },
  {
   "cell_type": "code",
   "execution_count": 169,
   "metadata": {
    "collapsed": true
   },
   "outputs": [],
   "source": [
    "xtrain , xtest , ytrain , ytest = train_test_split(x , y , test_size = .20 , random_state = 101)   # Creating Train and Test data "
   ]
  },
  {
   "cell_type": "code",
   "execution_count": 170,
   "metadata": {},
   "outputs": [
    {
     "name": "stdout",
     "output_type": "stream",
     "text": [
      "(164, 29)\n",
      "(41, 29)\n",
      "(164,)\n",
      "(41,)\n"
     ]
    }
   ],
   "source": [
    "print(xtrain.shape)                                # Dimensions of created train and test data.\n",
    "print(xtest.shape)\n",
    "print(ytrain.shape)\n",
    "print(ytest.shape)"
   ]
  },
  {
   "cell_type": "markdown",
   "metadata": {},
   "source": [
    "#### Fitting the model (Creating the model)"
   ]
  },
  {
   "cell_type": "code",
   "execution_count": 171,
   "metadata": {
    "collapsed": true,
    "scrolled": false
   },
   "outputs": [],
   "source": [
    "ols_model = sm.OLS(ytrain , xtrain).fit()               # Fitting the model"
   ]
  },
  {
   "cell_type": "code",
   "execution_count": 172,
   "metadata": {},
   "outputs": [
    {
     "data": {
      "text/html": [
       "<table class=\"simpletable\">\n",
       "<caption>OLS Regression Results</caption>\n",
       "<tr>\n",
       "  <th>Dep. Variable:</th>          <td>price</td>      <th>  R-squared:         </th> <td>   0.880</td>\n",
       "</tr>\n",
       "<tr>\n",
       "  <th>Model:</th>                   <td>OLS</td>       <th>  Adj. R-squared:    </th> <td>   0.858</td>\n",
       "</tr>\n",
       "<tr>\n",
       "  <th>Method:</th>             <td>Least Squares</td>  <th>  F-statistic:       </th> <td>   40.35</td>\n",
       "</tr>\n",
       "<tr>\n",
       "  <th>Date:</th>             <td>Tue, 09 Jul 2019</td> <th>  Prob (F-statistic):</th> <td>2.28e-51</td>\n",
       "</tr>\n",
       "<tr>\n",
       "  <th>Time:</th>                 <td>14:58:37</td>     <th>  Log-Likelihood:    </th> <td> -1536.5</td>\n",
       "</tr>\n",
       "<tr>\n",
       "  <th>No. Observations:</th>      <td>   164</td>      <th>  AIC:               </th> <td>   3125.</td>\n",
       "</tr>\n",
       "<tr>\n",
       "  <th>Df Residuals:</th>          <td>   138</td>      <th>  BIC:               </th> <td>   3206.</td>\n",
       "</tr>\n",
       "<tr>\n",
       "  <th>Df Model:</th>              <td>    25</td>      <th>                     </th>     <td> </td>   \n",
       "</tr>\n",
       "<tr>\n",
       "  <th>Covariance Type:</th>      <td>nonrobust</td>    <th>                     </th>     <td> </td>   \n",
       "</tr>\n",
       "</table>\n",
       "<table class=\"simpletable\">\n",
       "<tr>\n",
       "          <td></td>            <th>coef</th>     <th>std err</th>      <th>t</th>      <th>P>|t|</th>  <th>[0.025</th>    <th>0.975]</th>  \n",
       "</tr>\n",
       "<tr>\n",
       "  <th>losses</th>           <td>  -12.9342</td> <td>   10.511</td> <td>   -1.231</td> <td> 0.221</td> <td>  -33.718</td> <td>    7.849</td>\n",
       "</tr>\n",
       "<tr>\n",
       "  <th>base</th>             <td>   -7.4066</td> <td>  138.813</td> <td>   -0.053</td> <td> 0.958</td> <td> -281.882</td> <td>  267.069</td>\n",
       "</tr>\n",
       "<tr>\n",
       "  <th>length</th>           <td>   92.0966</td> <td>   68.349</td> <td>    1.347</td> <td> 0.180</td> <td>  -43.050</td> <td>  227.244</td>\n",
       "</tr>\n",
       "<tr>\n",
       "  <th>width</th>            <td>  588.5945</td> <td>  324.647</td> <td>    1.813</td> <td> 0.072</td> <td>  -53.331</td> <td> 1230.520</td>\n",
       "</tr>\n",
       "<tr>\n",
       "  <th>height</th>           <td>  357.4911</td> <td>  176.273</td> <td>    2.028</td> <td> 0.044</td> <td>    8.946</td> <td>  706.036</td>\n",
       "</tr>\n",
       "<tr>\n",
       "  <th>weight</th>           <td>    2.1649</td> <td>    1.982</td> <td>    1.092</td> <td> 0.277</td> <td>   -1.754</td> <td>    6.084</td>\n",
       "</tr>\n",
       "<tr>\n",
       "  <th>Size</th>             <td>  124.4347</td> <td>   21.347</td> <td>    5.829</td> <td> 0.000</td> <td>   82.224</td> <td>  166.645</td>\n",
       "</tr>\n",
       "<tr>\n",
       "  <th>bore</th>             <td>-2713.8966</td> <td> 1479.530</td> <td>   -1.834</td> <td> 0.069</td> <td>-5639.377</td> <td>  211.584</td>\n",
       "</tr>\n",
       "<tr>\n",
       "  <th>stroke</th>           <td>-2907.1831</td> <td>  939.258</td> <td>   -3.095</td> <td> 0.002</td> <td>-4764.381</td> <td>-1049.985</td>\n",
       "</tr>\n",
       "<tr>\n",
       "  <th>compression</th>      <td>  -64.4375</td> <td>  576.916</td> <td>   -0.112</td> <td> 0.911</td> <td>-1205.176</td> <td> 1076.301</td>\n",
       "</tr>\n",
       "<tr>\n",
       "  <th>horsepower</th>       <td>  -35.4830</td> <td>   23.505</td> <td>   -1.510</td> <td> 0.133</td> <td>  -81.959</td> <td>   10.993</td>\n",
       "</tr>\n",
       "<tr>\n",
       "  <th>peak</th>             <td>    2.5139</td> <td>    0.888</td> <td>    2.833</td> <td> 0.005</td> <td>    0.759</td> <td>    4.269</td>\n",
       "</tr>\n",
       "<tr>\n",
       "  <th>mlg</th>              <td>  113.3058</td> <td>  241.694</td> <td>    0.469</td> <td> 0.640</td> <td> -364.597</td> <td>  591.208</td>\n",
       "</tr>\n",
       "<tr>\n",
       "  <th>highway</th>          <td>  -41.2384</td> <td>  220.317</td> <td>   -0.187</td> <td> 0.852</td> <td> -476.871</td> <td>  394.394</td>\n",
       "</tr>\n",
       "<tr>\n",
       "  <th>make</th>             <td> -196.1724</td> <td>   46.634</td> <td>   -4.207</td> <td> 0.000</td> <td> -288.383</td> <td> -103.962</td>\n",
       "</tr>\n",
       "<tr>\n",
       "  <th>Style</th>            <td>-1111.0505</td> <td>  461.676</td> <td>   -2.407</td> <td> 0.017</td> <td>-2023.924</td> <td> -198.178</td>\n",
       "</tr>\n",
       "<tr>\n",
       "  <th>wheels</th>           <td> 1972.3119</td> <td>  751.984</td> <td>    2.623</td> <td> 0.010</td> <td>  485.411</td> <td> 3459.213</td>\n",
       "</tr>\n",
       "<tr>\n",
       "  <th>engine</th>           <td>  383.2696</td> <td>  291.501</td> <td>    1.315</td> <td> 0.191</td> <td> -193.117</td> <td>  959.656</td>\n",
       "</tr>\n",
       "<tr>\n",
       "  <th>cylinders</th>        <td>  683.8956</td> <td>  440.409</td> <td>    1.553</td> <td> 0.123</td> <td> -186.927</td> <td> 1554.718</td>\n",
       "</tr>\n",
       "<tr>\n",
       "  <th>fuel</th>             <td>  137.3980</td> <td>  196.641</td> <td>    0.699</td> <td> 0.486</td> <td> -251.420</td> <td>  526.216</td>\n",
       "</tr>\n",
       "<tr>\n",
       "  <th>symboling</th>        <td>  336.5228</td> <td>  350.481</td> <td>    0.960</td> <td> 0.339</td> <td> -356.484</td> <td> 1029.529</td>\n",
       "</tr>\n",
       "<tr>\n",
       "  <th>fueltype_diesel</th>  <td>-1.651e+04</td> <td> 7385.528</td> <td>   -2.235</td> <td> 0.027</td> <td>-3.11e+04</td> <td>-1903.341</td>\n",
       "</tr>\n",
       "<tr>\n",
       "  <th>fueltype_gas</th>     <td>-1.643e+04</td> <td> 5474.510</td> <td>   -3.002</td> <td> 0.003</td> <td>-2.73e+04</td> <td>-5607.555</td>\n",
       "</tr>\n",
       "<tr>\n",
       "  <th>aspiration_std</th>   <td>-1.766e+04</td> <td> 5302.429</td> <td>   -3.331</td> <td> 0.001</td> <td>-2.81e+04</td> <td>-7179.398</td>\n",
       "</tr>\n",
       "<tr>\n",
       "  <th>aspiration_turbo</th> <td>-1.528e+04</td> <td> 4924.552</td> <td>   -3.102</td> <td> 0.002</td> <td> -2.5e+04</td> <td>-5537.852</td>\n",
       "</tr>\n",
       "<tr>\n",
       "  <th>doors_four</th>       <td> -1.61e+04</td> <td> 5117.805</td> <td>   -3.145</td> <td> 0.002</td> <td>-2.62e+04</td> <td>-5978.412</td>\n",
       "</tr>\n",
       "<tr>\n",
       "  <th>doors_two</th>        <td>-1.684e+04</td> <td> 5086.426</td> <td>   -3.311</td> <td> 0.001</td> <td>-2.69e+04</td> <td>-6783.822</td>\n",
       "</tr>\n",
       "<tr>\n",
       "  <th>location_front</th>   <td>-2.284e+04</td> <td> 5256.517</td> <td>   -4.345</td> <td> 0.000</td> <td>-3.32e+04</td> <td>-1.24e+04</td>\n",
       "</tr>\n",
       "<tr>\n",
       "  <th>location_rear</th>    <td> -1.01e+04</td> <td> 5210.449</td> <td>   -1.938</td> <td> 0.055</td> <td>-2.04e+04</td> <td>  205.095</td>\n",
       "</tr>\n",
       "</table>\n",
       "<table class=\"simpletable\">\n",
       "<tr>\n",
       "  <th>Omnibus:</th>       <td>34.498</td> <th>  Durbin-Watson:     </th> <td>   1.754</td>\n",
       "</tr>\n",
       "<tr>\n",
       "  <th>Prob(Omnibus):</th> <td> 0.000</td> <th>  Jarque-Bera (JB):  </th> <td> 103.551</td>\n",
       "</tr>\n",
       "<tr>\n",
       "  <th>Skew:</th>          <td> 0.794</td> <th>  Prob(JB):          </th> <td>3.27e-23</td>\n",
       "</tr>\n",
       "<tr>\n",
       "  <th>Kurtosis:</th>      <td> 6.554</td> <th>  Cond. No.          </th> <td>1.03e+16</td>\n",
       "</tr>\n",
       "</table>"
      ],
      "text/plain": [
       "<class 'statsmodels.iolib.summary.Summary'>\n",
       "\"\"\"\n",
       "                            OLS Regression Results                            \n",
       "==============================================================================\n",
       "Dep. Variable:                  price   R-squared:                       0.880\n",
       "Model:                            OLS   Adj. R-squared:                  0.858\n",
       "Method:                 Least Squares   F-statistic:                     40.35\n",
       "Date:                Tue, 09 Jul 2019   Prob (F-statistic):           2.28e-51\n",
       "Time:                        14:58:37   Log-Likelihood:                -1536.5\n",
       "No. Observations:                 164   AIC:                             3125.\n",
       "Df Residuals:                     138   BIC:                             3206.\n",
       "Df Model:                          25                                         \n",
       "Covariance Type:            nonrobust                                         \n",
       "====================================================================================\n",
       "                       coef    std err          t      P>|t|      [0.025      0.975]\n",
       "------------------------------------------------------------------------------------\n",
       "losses             -12.9342     10.511     -1.231      0.221     -33.718       7.849\n",
       "base                -7.4066    138.813     -0.053      0.958    -281.882     267.069\n",
       "length              92.0966     68.349      1.347      0.180     -43.050     227.244\n",
       "width              588.5945    324.647      1.813      0.072     -53.331    1230.520\n",
       "height             357.4911    176.273      2.028      0.044       8.946     706.036\n",
       "weight               2.1649      1.982      1.092      0.277      -1.754       6.084\n",
       "Size               124.4347     21.347      5.829      0.000      82.224     166.645\n",
       "bore             -2713.8966   1479.530     -1.834      0.069   -5639.377     211.584\n",
       "stroke           -2907.1831    939.258     -3.095      0.002   -4764.381   -1049.985\n",
       "compression        -64.4375    576.916     -0.112      0.911   -1205.176    1076.301\n",
       "horsepower         -35.4830     23.505     -1.510      0.133     -81.959      10.993\n",
       "peak                 2.5139      0.888      2.833      0.005       0.759       4.269\n",
       "mlg                113.3058    241.694      0.469      0.640    -364.597     591.208\n",
       "highway            -41.2384    220.317     -0.187      0.852    -476.871     394.394\n",
       "make              -196.1724     46.634     -4.207      0.000    -288.383    -103.962\n",
       "Style            -1111.0505    461.676     -2.407      0.017   -2023.924    -198.178\n",
       "wheels            1972.3119    751.984      2.623      0.010     485.411    3459.213\n",
       "engine             383.2696    291.501      1.315      0.191    -193.117     959.656\n",
       "cylinders          683.8956    440.409      1.553      0.123    -186.927    1554.718\n",
       "fuel               137.3980    196.641      0.699      0.486    -251.420     526.216\n",
       "symboling          336.5228    350.481      0.960      0.339    -356.484    1029.529\n",
       "fueltype_diesel  -1.651e+04   7385.528     -2.235      0.027   -3.11e+04   -1903.341\n",
       "fueltype_gas     -1.643e+04   5474.510     -3.002      0.003   -2.73e+04   -5607.555\n",
       "aspiration_std   -1.766e+04   5302.429     -3.331      0.001   -2.81e+04   -7179.398\n",
       "aspiration_turbo -1.528e+04   4924.552     -3.102      0.002    -2.5e+04   -5537.852\n",
       "doors_four        -1.61e+04   5117.805     -3.145      0.002   -2.62e+04   -5978.412\n",
       "doors_two        -1.684e+04   5086.426     -3.311      0.001   -2.69e+04   -6783.822\n",
       "location_front   -2.284e+04   5256.517     -4.345      0.000   -3.32e+04   -1.24e+04\n",
       "location_rear     -1.01e+04   5210.449     -1.938      0.055   -2.04e+04     205.095\n",
       "==============================================================================\n",
       "Omnibus:                       34.498   Durbin-Watson:                   1.754\n",
       "Prob(Omnibus):                  0.000   Jarque-Bera (JB):              103.551\n",
       "Skew:                           0.794   Prob(JB):                     3.27e-23\n",
       "Kurtosis:                       6.554   Cond. No.                     1.03e+16\n",
       "==============================================================================\n",
       "\n",
       "Warnings:\n",
       "[1] Standard Errors assume that the covariance matrix of the errors is correctly specified.\n",
       "[2] The smallest eigenvalue is 5.13e-23. This might indicate that there are\n",
       "strong multicollinearity problems or that the design matrix is singular.\n",
       "\"\"\""
      ]
     },
     "execution_count": 172,
     "metadata": {},
     "output_type": "execute_result"
    }
   ],
   "source": [
    "ols_model.summary()                                     # Summary of the data"
   ]
  },
  {
   "cell_type": "markdown",
   "metadata": {},
   "source": [
    "#### Predicting Test data"
   ]
  },
  {
   "cell_type": "code",
   "execution_count": 173,
   "metadata": {
    "collapsed": true
   },
   "outputs": [],
   "source": [
    "predicted = ols_model.predict(xtest)"
   ]
  },
  {
   "cell_type": "markdown",
   "metadata": {},
   "source": [
    "#### Data frame for Actual values and Predicted values"
   ]
  },
  {
   "cell_type": "code",
   "execution_count": 174,
   "metadata": {},
   "outputs": [
    {
     "data": {
      "text/html": [
       "<div>\n",
       "<style>\n",
       "    .dataframe thead tr:only-child th {\n",
       "        text-align: right;\n",
       "    }\n",
       "\n",
       "    .dataframe thead th {\n",
       "        text-align: left;\n",
       "    }\n",
       "\n",
       "    .dataframe tbody tr th {\n",
       "        vertical-align: top;\n",
       "    }\n",
       "</style>\n",
       "<table border=\"1\" class=\"dataframe\">\n",
       "  <thead>\n",
       "    <tr style=\"text-align: right;\">\n",
       "      <th></th>\n",
       "      <th>Actual</th>\n",
       "      <th>Predicted</th>\n",
       "    </tr>\n",
       "  </thead>\n",
       "  <tbody>\n",
       "    <tr>\n",
       "      <th>120</th>\n",
       "      <td>6229.0</td>\n",
       "      <td>5835.360376</td>\n",
       "    </tr>\n",
       "    <tr>\n",
       "      <th>185</th>\n",
       "      <td>8195.0</td>\n",
       "      <td>9641.981657</td>\n",
       "    </tr>\n",
       "    <tr>\n",
       "      <th>180</th>\n",
       "      <td>15690.0</td>\n",
       "      <td>18426.853029</td>\n",
       "    </tr>\n",
       "    <tr>\n",
       "      <th>119</th>\n",
       "      <td>7957.0</td>\n",
       "      <td>7854.278552</td>\n",
       "    </tr>\n",
       "    <tr>\n",
       "      <th>109</th>\n",
       "      <td>12440.0</td>\n",
       "      <td>17557.945444</td>\n",
       "    </tr>\n",
       "  </tbody>\n",
       "</table>\n",
       "</div>"
      ],
      "text/plain": [
       "      Actual     Predicted\n",
       "120   6229.0   5835.360376\n",
       "185   8195.0   9641.981657\n",
       "180  15690.0  18426.853029\n",
       "119   7957.0   7854.278552\n",
       "109  12440.0  17557.945444"
      ]
     },
     "execution_count": 174,
     "metadata": {},
     "output_type": "execute_result"
    }
   ],
   "source": [
    "frame = pd.DataFrame({\"Actual\": ytest , \"Predicted\":predicted})\n",
    "frame.head()"
   ]
  },
  {
   "cell_type": "markdown",
   "metadata": {},
   "source": [
    "#### Calculating MSE and RMSE"
   ]
  },
  {
   "cell_type": "code",
   "execution_count": 175,
   "metadata": {},
   "outputs": [
    {
     "data": {
      "text/plain": [
       "5769858.338959351"
      ]
     },
     "execution_count": 175,
     "metadata": {},
     "output_type": "execute_result"
    }
   ],
   "source": [
    "MSE = metrics.mean_squared_error(ytest , predicted)      #MSE\n",
    "MSE"
   ]
  },
  {
   "cell_type": "code",
   "execution_count": 176,
   "metadata": {},
   "outputs": [
    {
     "data": {
      "text/plain": [
       "2402.0529425804402"
      ]
     },
     "execution_count": 176,
     "metadata": {},
     "output_type": "execute_result"
    }
   ],
   "source": [
    "RMSE = pow(MSE , .5)                                      # RMSE\n",
    "RMSE "
   ]
  },
  {
   "cell_type": "markdown",
   "metadata": {},
   "source": [
    "## Building the model after bringing data to normal distribution"
   ]
  },
  {
   "cell_type": "code",
   "execution_count": 124,
   "metadata": {},
   "outputs": [
    {
     "data": {
      "text/plain": [
       "losses              0.854802\n",
       "base                1.050214\n",
       "length              0.155954\n",
       "width               0.904003\n",
       "height              0.063123\n",
       "weight              0.681398\n",
       "Size                1.947655\n",
       "bore                0.020211\n",
       "stroke             -0.689784\n",
       "compression         2.610862\n",
       "horsepower          1.397763\n",
       "peak                0.073591\n",
       "mlg                 0.663704\n",
       "highway             0.539997\n",
       "price               1.827324\n",
       "make               -0.244671\n",
       "Style              -0.665301\n",
       "wheels             -0.058352\n",
       "engine             -0.535603\n",
       "cylinders           2.144253\n",
       "fuel               -0.242995\n",
       "symboling           0.211072\n",
       "fueltype_diesel     2.732619\n",
       "fueltype_gas       -2.732619\n",
       "aspiration_std     -1.673832\n",
       "aspiration_turbo    1.673832\n",
       "doors_four         -0.267692\n",
       "doors_two           0.267692\n",
       "location_front     -8.143531\n",
       "location_rear       8.143531\n",
       "dtype: float64"
      ]
     },
     "execution_count": 124,
     "metadata": {},
     "output_type": "execute_result"
    }
   ],
   "source": [
    "Automobile2.skew()                                     # Skewness of the Automobile 2"
   ]
  },
  {
   "cell_type": "markdown",
   "metadata": {},
   "source": [
    "#### As the model's dependent variable is not normally distributed, I'll try to bring it in normal distribution"
   ]
  },
  {
   "cell_type": "code",
   "execution_count": 125,
   "metadata": {
    "collapsed": true
   },
   "outputs": [],
   "source": [
    "fit_data = copy.deepcopy(Automobile2)                                              # Copy of Automobile2   "
   ]
  },
  {
   "cell_type": "markdown",
   "metadata": {},
   "source": [
    "#### For price column"
   ]
  },
  {
   "cell_type": "code",
   "execution_count": 126,
   "metadata": {},
   "outputs": [
    {
     "data": {
      "text/plain": [
       "0.667729850424849"
      ]
     },
     "execution_count": 126,
     "metadata": {},
     "output_type": "execute_result"
    }
   ],
   "source": [
    "fit_data.price = fit_data.price.apply(np.log)                       # Taking the logarithm of dependent variable \n",
    "fit_data.price.skew()                                               # Finding out the skewness of it."
   ]
  },
  {
   "cell_type": "code",
   "execution_count": 127,
   "metadata": {},
   "outputs": [
    {
     "name": "stderr",
     "output_type": "stream",
     "text": [
      "G:\\Anaconda\\lib\\site-packages\\scipy\\stats\\stats.py:1633: FutureWarning: Using a non-tuple sequence for multidimensional indexing is deprecated; use `arr[tuple(seq)]` instead of `arr[seq]`. In the future this will be interpreted as an array index, `arr[np.array(seq)]`, which will result either in an error or a different result.\n",
      "  return np.add.reduce(sorted[indexer] * weights, axis=axis) / sumval\n"
     ]
    },
    {
     "data": {
      "text/plain": [
       "<matplotlib.axes._subplots.AxesSubplot at 0xa48ffef860>"
      ]
     },
     "execution_count": 127,
     "metadata": {},
     "output_type": "execute_result"
    },
    {
     "data": {
      "image/png": "[encoded data removed]",
      "text/plain": [
       "<matplotlib.figure.Figure at 0xa48fd3fef0>"
      ]
     },
     "metadata": {},
     "output_type": "display_data"
    }
   ],
   "source": [
    "sns.distplot(fit_data.price)                                # Histogram of logged price varible"
   ]
  },
  {
   "cell_type": "markdown",
   "metadata": {},
   "source": [
    "#### For Size column"
   ]
  },
  {
   "cell_type": "code",
   "execution_count": 128,
   "metadata": {
    "collapsed": true
   },
   "outputs": [],
   "source": [
    "fit_data.Size = fit_data.Size.apply(np.log)           # For Size Column\n"
   ]
  },
  {
   "cell_type": "code",
   "execution_count": 129,
   "metadata": {},
   "outputs": [
    {
     "data": {
      "text/plain": [
       "0.8578276737148061"
      ]
     },
     "execution_count": 129,
     "metadata": {},
     "output_type": "execute_result"
    }
   ],
   "source": [
    "fit_data.Size.skew()"
   ]
  },
  {
   "cell_type": "code",
   "execution_count": 130,
   "metadata": {},
   "outputs": [
    {
     "name": "stderr",
     "output_type": "stream",
     "text": [
      "G:\\Anaconda\\lib\\site-packages\\scipy\\stats\\stats.py:1633: FutureWarning: Using a non-tuple sequence for multidimensional indexing is deprecated; use `arr[tuple(seq)]` instead of `arr[seq]`. In the future this will be interpreted as an array index, `arr[np.array(seq)]`, which will result either in an error or a different result.\n",
      "  return np.add.reduce(sorted[indexer] * weights, axis=axis) / sumval\n"
     ]
    },
    {
     "data": {
      "text/plain": [
       "<matplotlib.axes._subplots.AxesSubplot at 0xa490ad3668>"
      ]
     },
     "execution_count": 130,
     "metadata": {},
     "output_type": "execute_result"
    },
    {
     "data": {
      "image/png": "[encoded data removed]",
      "text/plain": [
       "<matplotlib.figure.Figure at 0xa48fd3fcf8>"
      ]
     },
     "metadata": {},
     "output_type": "display_data"
    }
   ],
   "source": [
    "sns.distplot(fit_data.Size)"
   ]
  },
  {
   "cell_type": "markdown",
   "metadata": {},
   "source": [
    "#### For losses column"
   ]
  },
  {
   "cell_type": "code",
   "execution_count": 131,
   "metadata": {
    "collapsed": true
   },
   "outputs": [],
   "source": [
    "fit_data.losses = fit_data.losses.apply(np.log)           # For losses Column\n"
   ]
  },
  {
   "cell_type": "code",
   "execution_count": 132,
   "metadata": {},
   "outputs": [
    {
     "data": {
      "text/plain": [
       "0.03160911126447969"
      ]
     },
     "execution_count": 132,
     "metadata": {},
     "output_type": "execute_result"
    }
   ],
   "source": [
    "fit_data.losses.skew()"
   ]
  },
  {
   "cell_type": "code",
   "execution_count": 133,
   "metadata": {},
   "outputs": [
    {
     "name": "stderr",
     "output_type": "stream",
     "text": [
      "G:\\Anaconda\\lib\\site-packages\\scipy\\stats\\stats.py:1633: FutureWarning: Using a non-tuple sequence for multidimensional indexing is deprecated; use `arr[tuple(seq)]` instead of `arr[seq]`. In the future this will be interpreted as an array index, `arr[np.array(seq)]`, which will result either in an error or a different result.\n",
      "  return np.add.reduce(sorted[indexer] * weights, axis=axis) / sumval\n"
     ]
    },
    {
     "data": {
      "text/plain": [
       "<matplotlib.axes._subplots.AxesSubplot at 0xa48fbdd860>"
      ]
     },
     "execution_count": 133,
     "metadata": {},
     "output_type": "execute_result"
    },
    {
     "data": {
      "image/png": "[encoded data removed]",
      "text/plain": [
       "<matplotlib.figure.Figure at 0xa490acc978>"
      ]
     },
     "metadata": {},
     "output_type": "display_data"
    }
   ],
   "source": [
    "sns.distplot(fit_data.losses)"
   ]
  },
  {
   "cell_type": "markdown",
   "metadata": {},
   "source": [
    "#### For Base Column"
   ]
  },
  {
   "cell_type": "code",
   "execution_count": 134,
   "metadata": {
    "collapsed": true
   },
   "outputs": [],
   "source": [
    "fit_data.base = fit_data.base.apply(np.log)"
   ]
  },
  {
   "cell_type": "code",
   "execution_count": 135,
   "metadata": {},
   "outputs": [
    {
     "data": {
      "text/plain": [
       "0.8833870334608721"
      ]
     },
     "execution_count": 135,
     "metadata": {},
     "output_type": "execute_result"
    }
   ],
   "source": [
    "fit_data.base.skew()"
   ]
  },
  {
   "cell_type": "code",
   "execution_count": 136,
   "metadata": {},
   "outputs": [
    {
     "name": "stderr",
     "output_type": "stream",
     "text": [
      "G:\\Anaconda\\lib\\site-packages\\scipy\\stats\\stats.py:1633: FutureWarning: Using a non-tuple sequence for multidimensional indexing is deprecated; use `arr[tuple(seq)]` instead of `arr[seq]`. In the future this will be interpreted as an array index, `arr[np.array(seq)]`, which will result either in an error or a different result.\n",
      "  return np.add.reduce(sorted[indexer] * weights, axis=axis) / sumval\n"
     ]
    },
    {
     "data": {
      "text/plain": [
       "<matplotlib.axes._subplots.AxesSubplot at 0xa4902a26a0>"
      ]
     },
     "execution_count": 136,
     "metadata": {},
     "output_type": "execute_result"
    },
    {
     "data": {
      "image/png": "[encoded data removed]",
      "text/plain": [
       "<matplotlib.figure.Figure at 0xa490b0b048>"
      ]
     },
     "metadata": {},
     "output_type": "display_data"
    }
   ],
   "source": [
    "sns.distplot(fit_data.base)"
   ]
  },
  {
   "cell_type": "markdown",
   "metadata": {},
   "source": [
    "#### For Horsepower column"
   ]
  },
  {
   "cell_type": "code",
   "execution_count": 137,
   "metadata": {
    "collapsed": true
   },
   "outputs": [],
   "source": [
    "fit_data.horsepower = fit_data.horsepower.apply(np.log)           # For Size Column\n"
   ]
  },
  {
   "cell_type": "code",
   "execution_count": 138,
   "metadata": {},
   "outputs": [
    {
     "data": {
      "text/plain": [
       "0.4706251033391486"
      ]
     },
     "execution_count": 138,
     "metadata": {},
     "output_type": "execute_result"
    }
   ],
   "source": [
    "fit_data.horsepower.skew()"
   ]
  },
  {
   "cell_type": "code",
   "execution_count": 139,
   "metadata": {},
   "outputs": [
    {
     "name": "stderr",
     "output_type": "stream",
     "text": [
      "G:\\Anaconda\\lib\\site-packages\\scipy\\stats\\stats.py:1633: FutureWarning: Using a non-tuple sequence for multidimensional indexing is deprecated; use `arr[tuple(seq)]` instead of `arr[seq]`. In the future this will be interpreted as an array index, `arr[np.array(seq)]`, which will result either in an error or a different result.\n",
      "  return np.add.reduce(sorted[indexer] * weights, axis=axis) / sumval\n"
     ]
    },
    {
     "data": {
      "text/plain": [
       "<matplotlib.axes._subplots.AxesSubplot at 0xa490704198>"
      ]
     },
     "execution_count": 139,
     "metadata": {},
     "output_type": "execute_result"
    },
    {
     "data": {
      "image/png": "[encoded data removed]",
      "text/plain": [
       "<matplotlib.figure.Figure at 0xa4901c9588>"
      ]
     },
     "metadata": {},
     "output_type": "display_data"
    }
   ],
   "source": [
    "sns.distplot(fit_data.horsepower)"
   ]
  },
  {
   "cell_type": "code",
   "execution_count": null,
   "metadata": {
    "collapsed": true
   },
   "outputs": [],
   "source": []
  },
  {
   "cell_type": "code",
   "execution_count": 140,
   "metadata": {},
   "outputs": [
    {
     "data": {
      "text/plain": [
       "Index(['losses', 'base', 'length', 'width', 'height', 'weight', 'Size', 'bore',\n",
       "       'stroke', 'compression', 'horsepower', 'peak', 'mlg', 'highway',\n",
       "       'price', 'make', 'Style', 'wheels', 'engine', 'cylinders', 'fuel',\n",
       "       'symboling', 'fueltype_diesel', 'fueltype_gas', 'aspiration_std',\n",
       "       'aspiration_turbo', 'doors_four', 'doors_two', 'location_front',\n",
       "       'location_rear'],\n",
       "      dtype='object')"
      ]
     },
     "execution_count": 140,
     "metadata": {},
     "output_type": "execute_result"
    }
   ],
   "source": [
    "fit_data.columns"
   ]
  },
  {
   "cell_type": "code",
   "execution_count": 141,
   "metadata": {
    "collapsed": true
   },
   "outputs": [],
   "source": [
    "x1 = fit_data.iloc[:,np.r_[0:14 , 15:30]]               # Splitting the fit_data data into X1  for independent data"
   ]
  },
  {
   "cell_type": "code",
   "execution_count": 142,
   "metadata": {
    "collapsed": true
   },
   "outputs": [],
   "source": [
    "y1 = fit_data.iloc[:,14]                                # Splitting the fit_data data into Y1 for dependent data"
   ]
  },
  {
   "cell_type": "code",
   "execution_count": 143,
   "metadata": {},
   "outputs": [
    {
     "data": {
      "text/html": [
       "<div>\n",
       "<style>\n",
       "    .dataframe thead tr:only-child th {\n",
       "        text-align: right;\n",
       "    }\n",
       "\n",
       "    .dataframe thead th {\n",
       "        text-align: left;\n",
       "    }\n",
       "\n",
       "    .dataframe tbody tr th {\n",
       "        vertical-align: top;\n",
       "    }\n",
       "</style>\n",
       "<table border=\"1\" class=\"dataframe\">\n",
       "  <thead>\n",
       "    <tr style=\"text-align: right;\">\n",
       "      <th></th>\n",
       "      <th>losses</th>\n",
       "      <th>base</th>\n",
       "      <th>length</th>\n",
       "      <th>width</th>\n",
       "      <th>height</th>\n",
       "      <th>weight</th>\n",
       "      <th>Size</th>\n",
       "      <th>bore</th>\n",
       "      <th>stroke</th>\n",
       "      <th>compression</th>\n",
       "      <th>...</th>\n",
       "      <th>fuel</th>\n",
       "      <th>symboling</th>\n",
       "      <th>fueltype_diesel</th>\n",
       "      <th>fueltype_gas</th>\n",
       "      <th>aspiration_std</th>\n",
       "      <th>aspiration_turbo</th>\n",
       "      <th>doors_four</th>\n",
       "      <th>doors_two</th>\n",
       "      <th>location_front</th>\n",
       "      <th>location_rear</th>\n",
       "    </tr>\n",
       "  </thead>\n",
       "  <tbody>\n",
       "    <tr>\n",
       "      <th>0</th>\n",
       "      <td>4.804021</td>\n",
       "      <td>4.484132</td>\n",
       "      <td>168.8</td>\n",
       "      <td>64.1</td>\n",
       "      <td>48.8</td>\n",
       "      <td>2548</td>\n",
       "      <td>4.867534</td>\n",
       "      <td>3.47</td>\n",
       "      <td>2.68</td>\n",
       "      <td>9.0</td>\n",
       "      <td>...</td>\n",
       "      <td>5</td>\n",
       "      <td>5</td>\n",
       "      <td>0</td>\n",
       "      <td>1</td>\n",
       "      <td>1</td>\n",
       "      <td>0</td>\n",
       "      <td>0</td>\n",
       "      <td>1</td>\n",
       "      <td>1</td>\n",
       "      <td>0</td>\n",
       "    </tr>\n",
       "    <tr>\n",
       "      <th>1</th>\n",
       "      <td>4.804021</td>\n",
       "      <td>4.484132</td>\n",
       "      <td>168.8</td>\n",
       "      <td>64.1</td>\n",
       "      <td>48.8</td>\n",
       "      <td>2548</td>\n",
       "      <td>4.867534</td>\n",
       "      <td>3.47</td>\n",
       "      <td>2.68</td>\n",
       "      <td>9.0</td>\n",
       "      <td>...</td>\n",
       "      <td>5</td>\n",
       "      <td>5</td>\n",
       "      <td>0</td>\n",
       "      <td>1</td>\n",
       "      <td>1</td>\n",
       "      <td>0</td>\n",
       "      <td>0</td>\n",
       "      <td>1</td>\n",
       "      <td>1</td>\n",
       "      <td>0</td>\n",
       "    </tr>\n",
       "    <tr>\n",
       "      <th>2</th>\n",
       "      <td>4.804021</td>\n",
       "      <td>4.548600</td>\n",
       "      <td>171.2</td>\n",
       "      <td>65.5</td>\n",
       "      <td>52.4</td>\n",
       "      <td>2823</td>\n",
       "      <td>5.023881</td>\n",
       "      <td>2.68</td>\n",
       "      <td>3.47</td>\n",
       "      <td>9.0</td>\n",
       "      <td>...</td>\n",
       "      <td>5</td>\n",
       "      <td>3</td>\n",
       "      <td>0</td>\n",
       "      <td>1</td>\n",
       "      <td>1</td>\n",
       "      <td>0</td>\n",
       "      <td>0</td>\n",
       "      <td>1</td>\n",
       "      <td>1</td>\n",
       "      <td>0</td>\n",
       "    </tr>\n",
       "    <tr>\n",
       "      <th>3</th>\n",
       "      <td>5.099866</td>\n",
       "      <td>4.603168</td>\n",
       "      <td>176.6</td>\n",
       "      <td>66.2</td>\n",
       "      <td>54.3</td>\n",
       "      <td>2337</td>\n",
       "      <td>4.691348</td>\n",
       "      <td>3.19</td>\n",
       "      <td>3.40</td>\n",
       "      <td>10.0</td>\n",
       "      <td>...</td>\n",
       "      <td>5</td>\n",
       "      <td>4</td>\n",
       "      <td>0</td>\n",
       "      <td>1</td>\n",
       "      <td>1</td>\n",
       "      <td>0</td>\n",
       "      <td>1</td>\n",
       "      <td>0</td>\n",
       "      <td>1</td>\n",
       "      <td>0</td>\n",
       "    </tr>\n",
       "    <tr>\n",
       "      <th>4</th>\n",
       "      <td>5.099866</td>\n",
       "      <td>4.599152</td>\n",
       "      <td>176.6</td>\n",
       "      <td>66.4</td>\n",
       "      <td>54.3</td>\n",
       "      <td>2824</td>\n",
       "      <td>4.912655</td>\n",
       "      <td>3.19</td>\n",
       "      <td>3.40</td>\n",
       "      <td>8.0</td>\n",
       "      <td>...</td>\n",
       "      <td>5</td>\n",
       "      <td>4</td>\n",
       "      <td>0</td>\n",
       "      <td>1</td>\n",
       "      <td>1</td>\n",
       "      <td>0</td>\n",
       "      <td>1</td>\n",
       "      <td>0</td>\n",
       "      <td>1</td>\n",
       "      <td>0</td>\n",
       "    </tr>\n",
       "  </tbody>\n",
       "</table>\n",
       "<p>5 rows × 29 columns</p>\n",
       "</div>"
      ],
      "text/plain": [
       "     losses      base  length  width  height  weight      Size  bore  stroke  \\\n",
       "0  4.804021  4.484132   168.8   64.1    48.8    2548  4.867534  3.47    2.68   \n",
       "1  4.804021  4.484132   168.8   64.1    48.8    2548  4.867534  3.47    2.68   \n",
       "2  4.804021  4.548600   171.2   65.5    52.4    2823  5.023881  2.68    3.47   \n",
       "3  5.099866  4.603168   176.6   66.2    54.3    2337  4.691348  3.19    3.40   \n",
       "4  5.099866  4.599152   176.6   66.4    54.3    2824  4.912655  3.19    3.40   \n",
       "\n",
       "   compression      ...        fuel  symboling  fueltype_diesel  fueltype_gas  \\\n",
       "0          9.0      ...           5          5                0             1   \n",
       "1          9.0      ...           5          5                0             1   \n",
       "2          9.0      ...           5          3                0             1   \n",
       "3         10.0      ...           5          4                0             1   \n",
       "4          8.0      ...           5          4                0             1   \n",
       "\n",
       "   aspiration_std  aspiration_turbo  doors_four  doors_two  location_front  \\\n",
       "0               1                 0           0          1               1   \n",
       "1               1                 0           0          1               1   \n",
       "2               1                 0           0          1               1   \n",
       "3               1                 0           1          0               1   \n",
       "4               1                 0           1          0               1   \n",
       "\n",
       "   location_rear  \n",
       "0              0  \n",
       "1              0  \n",
       "2              0  \n",
       "3              0  \n",
       "4              0  \n",
       "\n",
       "[5 rows x 29 columns]"
      ]
     },
     "execution_count": 143,
     "metadata": {},
     "output_type": "execute_result"
    }
   ],
   "source": [
    "x1.head()                                           # First 6 observations of X1 data"
   ]
  },
  {
   "cell_type": "code",
   "execution_count": 144,
   "metadata": {},
   "outputs": [
    {
     "data": {
      "text/plain": [
       "0    9.510075\n",
       "1    9.711116\n",
       "2    9.711116\n",
       "3    9.543235\n",
       "4    9.767095\n",
       "Name: price, dtype: float64"
      ]
     },
     "execution_count": 144,
     "metadata": {},
     "output_type": "execute_result"
    }
   ],
   "source": [
    "y1.head()                                             # First 6 observations of Y1 data"
   ]
  },
  {
   "cell_type": "markdown",
   "metadata": {},
   "source": [
    "#### Creating Train and Test for x and y"
   ]
  },
  {
   "cell_type": "code",
   "execution_count": 145,
   "metadata": {
    "collapsed": true
   },
   "outputs": [],
   "source": [
    "xtrain1 , xtest1 , ytrain1 , ytest1 = train_test_split(x1 , y1 , test_size = .20 , random_state = 101)    # Creating Train and Test data "
   ]
  },
  {
   "cell_type": "code",
   "execution_count": 146,
   "metadata": {},
   "outputs": [
    {
     "name": "stdout",
     "output_type": "stream",
     "text": [
      "(164, 29)\n",
      "(41, 29)\n",
      "(164,)\n",
      "(41,)\n"
     ]
    }
   ],
   "source": [
    "print(xtrain1.shape)                                  # Dimensions of created train and test data. \n",
    "print(xtest1.shape)\n",
    "print(ytrain1.shape)\n",
    "print(ytest1.shape)"
   ]
  },
  {
   "cell_type": "markdown",
   "metadata": {},
   "source": [
    "#### Fitting the model (Creating the model)"
   ]
  },
  {
   "cell_type": "code",
   "execution_count": 147,
   "metadata": {
    "collapsed": true,
    "scrolled": false
   },
   "outputs": [],
   "source": [
    "ols_model1 = sm.OLS(ytrain1 , xtrain1).fit()                     # fitting the model"
   ]
  },
  {
   "cell_type": "code",
   "execution_count": 148,
   "metadata": {},
   "outputs": [
    {
     "data": {
      "text/html": [
       "<table class=\"simpletable\">\n",
       "<caption>OLS Regression Results</caption>\n",
       "<tr>\n",
       "  <th>Dep. Variable:</th>          <td>price</td>      <th>  R-squared:         </th> <td>   0.892</td>\n",
       "</tr>\n",
       "<tr>\n",
       "  <th>Model:</th>                   <td>OLS</td>       <th>  Adj. R-squared:    </th> <td>   0.872</td>\n",
       "</tr>\n",
       "<tr>\n",
       "  <th>Method:</th>             <td>Least Squares</td>  <th>  F-statistic:       </th> <td>   45.39</td>\n",
       "</tr>\n",
       "<tr>\n",
       "  <th>Date:</th>             <td>Wed, 19 Jun 2019</td> <th>  Prob (F-statistic):</th> <td>1.98e-54</td>\n",
       "</tr>\n",
       "<tr>\n",
       "  <th>Time:</th>                 <td>10:48:05</td>     <th>  Log-Likelihood:    </th> <td>  62.630</td>\n",
       "</tr>\n",
       "<tr>\n",
       "  <th>No. Observations:</th>      <td>   164</td>      <th>  AIC:               </th> <td>  -73.26</td>\n",
       "</tr>\n",
       "<tr>\n",
       "  <th>Df Residuals:</th>          <td>   138</td>      <th>  BIC:               </th> <td>   7.337</td>\n",
       "</tr>\n",
       "<tr>\n",
       "  <th>Df Model:</th>              <td>    25</td>      <th>                     </th>     <td> </td>   \n",
       "</tr>\n",
       "<tr>\n",
       "  <th>Covariance Type:</th>      <td>nonrobust</td>    <th>                     </th>     <td> </td>   \n",
       "</tr>\n",
       "</table>\n",
       "<table class=\"simpletable\">\n",
       "<tr>\n",
       "          <td></td>            <th>coef</th>     <th>std err</th>      <th>t</th>      <th>P>|t|</th>  <th>[0.025</th>    <th>0.975]</th>  \n",
       "</tr>\n",
       "<tr>\n",
       "  <th>losses</th>           <td>   -0.0232</td> <td>    0.081</td> <td>   -0.287</td> <td> 0.775</td> <td>   -0.184</td> <td>    0.137</td>\n",
       "</tr>\n",
       "<tr>\n",
       "  <th>base</th>             <td>    0.0879</td> <td>    0.818</td> <td>    0.107</td> <td> 0.915</td> <td>   -1.530</td> <td>    1.706</td>\n",
       "</tr>\n",
       "<tr>\n",
       "  <th>length</th>           <td>    0.0077</td> <td>    0.004</td> <td>    1.926</td> <td> 0.056</td> <td>   -0.000</td> <td>    0.016</td>\n",
       "</tr>\n",
       "<tr>\n",
       "  <th>width</th>            <td>    0.0225</td> <td>    0.018</td> <td>    1.217</td> <td> 0.226</td> <td>   -0.014</td> <td>    0.059</td>\n",
       "</tr>\n",
       "<tr>\n",
       "  <th>height</th>           <td>    0.0175</td> <td>    0.010</td> <td>    1.728</td> <td> 0.086</td> <td>   -0.003</td> <td>    0.038</td>\n",
       "</tr>\n",
       "<tr>\n",
       "  <th>weight</th>           <td>    0.0003</td> <td>    0.000</td> <td>    2.628</td> <td> 0.010</td> <td> 7.31e-05</td> <td>    0.001</td>\n",
       "</tr>\n",
       "<tr>\n",
       "  <th>Size</th>             <td>    0.2990</td> <td>    0.205</td> <td>    1.460</td> <td> 0.147</td> <td>   -0.106</td> <td>    0.704</td>\n",
       "</tr>\n",
       "<tr>\n",
       "  <th>bore</th>             <td>   -0.0939</td> <td>    0.088</td> <td>   -1.072</td> <td> 0.286</td> <td>   -0.267</td> <td>    0.079</td>\n",
       "</tr>\n",
       "<tr>\n",
       "  <th>stroke</th>           <td>   -0.0882</td> <td>    0.056</td> <td>   -1.586</td> <td> 0.115</td> <td>   -0.198</td> <td>    0.022</td>\n",
       "</tr>\n",
       "<tr>\n",
       "  <th>compression</th>      <td>    0.0473</td> <td>    0.033</td> <td>    1.419</td> <td> 0.158</td> <td>   -0.019</td> <td>    0.113</td>\n",
       "</tr>\n",
       "<tr>\n",
       "  <th>horsepower</th>       <td>    0.1109</td> <td>    0.199</td> <td>    0.556</td> <td> 0.579</td> <td>   -0.283</td> <td>    0.505</td>\n",
       "</tr>\n",
       "<tr>\n",
       "  <th>peak</th>             <td> 6.147e-05</td> <td> 5.62e-05</td> <td>    1.093</td> <td> 0.276</td> <td>-4.97e-05</td> <td>    0.000</td>\n",
       "</tr>\n",
       "<tr>\n",
       "  <th>mlg</th>              <td>    0.0086</td> <td>    0.013</td> <td>    0.642</td> <td> 0.522</td> <td>   -0.018</td> <td>    0.035</td>\n",
       "</tr>\n",
       "<tr>\n",
       "  <th>highway</th>          <td>   -0.0082</td> <td>    0.012</td> <td>   -0.667</td> <td> 0.506</td> <td>   -0.032</td> <td>    0.016</td>\n",
       "</tr>\n",
       "<tr>\n",
       "  <th>make</th>             <td>   -0.0133</td> <td>    0.003</td> <td>   -4.888</td> <td> 0.000</td> <td>   -0.019</td> <td>   -0.008</td>\n",
       "</tr>\n",
       "<tr>\n",
       "  <th>Style</th>            <td>   -0.0731</td> <td>    0.027</td> <td>   -2.737</td> <td> 0.007</td> <td>   -0.126</td> <td>   -0.020</td>\n",
       "</tr>\n",
       "<tr>\n",
       "  <th>wheels</th>           <td>    0.0945</td> <td>    0.044</td> <td>    2.152</td> <td> 0.033</td> <td>    0.008</td> <td>    0.181</td>\n",
       "</tr>\n",
       "<tr>\n",
       "  <th>engine</th>           <td>    0.0266</td> <td>    0.016</td> <td>    1.649</td> <td> 0.102</td> <td>   -0.005</td> <td>    0.059</td>\n",
       "</tr>\n",
       "<tr>\n",
       "  <th>cylinders</th>        <td>    0.0302</td> <td>    0.027</td> <td>    1.112</td> <td> 0.268</td> <td>   -0.023</td> <td>    0.084</td>\n",
       "</tr>\n",
       "<tr>\n",
       "  <th>fuel</th>             <td>    0.0272</td> <td>    0.012</td> <td>    2.264</td> <td> 0.025</td> <td>    0.003</td> <td>    0.051</td>\n",
       "</tr>\n",
       "<tr>\n",
       "  <th>symboling</th>        <td>    0.0230</td> <td>    0.021</td> <td>    1.109</td> <td> 0.269</td> <td>   -0.018</td> <td>    0.064</td>\n",
       "</tr>\n",
       "<tr>\n",
       "  <th>fueltype_diesel</th>  <td>    0.3066</td> <td>    0.864</td> <td>    0.355</td> <td> 0.723</td> <td>   -1.401</td> <td>    2.014</td>\n",
       "</tr>\n",
       "<tr>\n",
       "  <th>fueltype_gas</th>     <td>    0.9193</td> <td>    0.776</td> <td>    1.185</td> <td> 0.238</td> <td>   -0.615</td> <td>    2.454</td>\n",
       "</tr>\n",
       "<tr>\n",
       "  <th>aspiration_std</th>   <td>    0.5675</td> <td>    0.791</td> <td>    0.718</td> <td> 0.474</td> <td>   -0.996</td> <td>    2.131</td>\n",
       "</tr>\n",
       "<tr>\n",
       "  <th>aspiration_turbo</th> <td>    0.6583</td> <td>    0.785</td> <td>    0.839</td> <td> 0.403</td> <td>   -0.893</td> <td>    2.210</td>\n",
       "</tr>\n",
       "<tr>\n",
       "  <th>doors_four</th>       <td>    0.6538</td> <td>    0.786</td> <td>    0.832</td> <td> 0.407</td> <td>   -0.900</td> <td>    2.208</td>\n",
       "</tr>\n",
       "<tr>\n",
       "  <th>doors_two</th>        <td>    0.5721</td> <td>    0.789</td> <td>    0.725</td> <td> 0.469</td> <td>   -0.987</td> <td>    2.131</td>\n",
       "</tr>\n",
       "<tr>\n",
       "  <th>location_front</th>   <td>    0.3044</td> <td>    0.794</td> <td>    0.383</td> <td> 0.702</td> <td>   -1.266</td> <td>    1.875</td>\n",
       "</tr>\n",
       "<tr>\n",
       "  <th>location_rear</th>    <td>    0.9214</td> <td>    0.786</td> <td>    1.172</td> <td> 0.243</td> <td>   -0.633</td> <td>    2.476</td>\n",
       "</tr>\n",
       "</table>\n",
       "<table class=\"simpletable\">\n",
       "<tr>\n",
       "  <th>Omnibus:</th>       <td>26.392</td> <th>  Durbin-Watson:     </th> <td>   1.721</td>\n",
       "</tr>\n",
       "<tr>\n",
       "  <th>Prob(Omnibus):</th> <td> 0.000</td> <th>  Jarque-Bera (JB):  </th> <td>  58.817</td>\n",
       "</tr>\n",
       "<tr>\n",
       "  <th>Skew:</th>          <td> 0.693</td> <th>  Prob(JB):          </th> <td>1.69e-13</td>\n",
       "</tr>\n",
       "<tr>\n",
       "  <th>Kurtosis:</th>      <td> 5.586</td> <th>  Cond. No.          </th> <td>1.00e+16</td>\n",
       "</tr>\n",
       "</table>"
      ],
      "text/plain": [
       "<class 'statsmodels.iolib.summary.Summary'>\n",
       "\"\"\"\n",
       "                            OLS Regression Results                            \n",
       "==============================================================================\n",
       "Dep. Variable:                  price   R-squared:                       0.892\n",
       "Model:                            OLS   Adj. R-squared:                  0.872\n",
       "Method:                 Least Squares   F-statistic:                     45.39\n",
       "Date:                Wed, 19 Jun 2019   Prob (F-statistic):           1.98e-54\n",
       "Time:                        10:48:05   Log-Likelihood:                 62.630\n",
       "No. Observations:                 164   AIC:                            -73.26\n",
       "Df Residuals:                     138   BIC:                             7.337\n",
       "Df Model:                          25                                         \n",
       "Covariance Type:            nonrobust                                         \n",
       "====================================================================================\n",
       "                       coef    std err          t      P>|t|      [0.025      0.975]\n",
       "------------------------------------------------------------------------------------\n",
       "losses              -0.0232      0.081     -0.287      0.775      -0.184       0.137\n",
       "base                 0.0879      0.818      0.107      0.915      -1.530       1.706\n",
       "length               0.0077      0.004      1.926      0.056      -0.000       0.016\n",
       "width                0.0225      0.018      1.217      0.226      -0.014       0.059\n",
       "height               0.0175      0.010      1.728      0.086      -0.003       0.038\n",
       "weight               0.0003      0.000      2.628      0.010    7.31e-05       0.001\n",
       "Size                 0.2990      0.205      1.460      0.147      -0.106       0.704\n",
       "bore                -0.0939      0.088     -1.072      0.286      -0.267       0.079\n",
       "stroke              -0.0882      0.056     -1.586      0.115      -0.198       0.022\n",
       "compression          0.0473      0.033      1.419      0.158      -0.019       0.113\n",
       "horsepower           0.1109      0.199      0.556      0.579      -0.283       0.505\n",
       "peak              6.147e-05   5.62e-05      1.093      0.276   -4.97e-05       0.000\n",
       "mlg                  0.0086      0.013      0.642      0.522      -0.018       0.035\n",
       "highway             -0.0082      0.012     -0.667      0.506      -0.032       0.016\n",
       "make                -0.0133      0.003     -4.888      0.000      -0.019      -0.008\n",
       "Style               -0.0731      0.027     -2.737      0.007      -0.126      -0.020\n",
       "wheels               0.0945      0.044      2.152      0.033       0.008       0.181\n",
       "engine               0.0266      0.016      1.649      0.102      -0.005       0.059\n",
       "cylinders            0.0302      0.027      1.112      0.268      -0.023       0.084\n",
       "fuel                 0.0272      0.012      2.264      0.025       0.003       0.051\n",
       "symboling            0.0230      0.021      1.109      0.269      -0.018       0.064\n",
       "fueltype_diesel      0.3066      0.864      0.355      0.723      -1.401       2.014\n",
       "fueltype_gas         0.9193      0.776      1.185      0.238      -0.615       2.454\n",
       "aspiration_std       0.5675      0.791      0.718      0.474      -0.996       2.131\n",
       "aspiration_turbo     0.6583      0.785      0.839      0.403      -0.893       2.210\n",
       "doors_four           0.6538      0.786      0.832      0.407      -0.900       2.208\n",
       "doors_two            0.5721      0.789      0.725      0.469      -0.987       2.131\n",
       "location_front       0.3044      0.794      0.383      0.702      -1.266       1.875\n",
       "location_rear        0.9214      0.786      1.172      0.243      -0.633       2.476\n",
       "==============================================================================\n",
       "Omnibus:                       26.392   Durbin-Watson:                   1.721\n",
       "Prob(Omnibus):                  0.000   Jarque-Bera (JB):               58.817\n",
       "Skew:                           0.693   Prob(JB):                     1.69e-13\n",
       "Kurtosis:                       5.586   Cond. No.                     1.00e+16\n",
       "==============================================================================\n",
       "\n",
       "Warnings:\n",
       "[1] Standard Errors assume that the covariance matrix of the errors is correctly specified.\n",
       "[2] The smallest eigenvalue is 5.39e-23. This might indicate that there are\n",
       "strong multicollinearity problems or that the design matrix is singular.\n",
       "\"\"\""
      ]
     },
     "execution_count": 148,
     "metadata": {},
     "output_type": "execute_result"
    }
   ],
   "source": [
    "ols_model1.summary()                                             # summary of the data"
   ]
  },
  {
   "cell_type": "markdown",
   "metadata": {},
   "source": [
    "#### Predicting the Test data"
   ]
  },
  {
   "cell_type": "code",
   "execution_count": 149,
   "metadata": {
    "collapsed": true
   },
   "outputs": [],
   "source": [
    "predicted1 = ols_model1.predict(xtest1)                       "
   ]
  },
  {
   "cell_type": "markdown",
   "metadata": {},
   "source": [
    "#### Data frame for Actual and Predicted values"
   ]
  },
  {
   "cell_type": "code",
   "execution_count": 150,
   "metadata": {},
   "outputs": [
    {
     "data": {
      "text/html": [
       "<div>\n",
       "<style>\n",
       "    .dataframe thead tr:only-child th {\n",
       "        text-align: right;\n",
       "    }\n",
       "\n",
       "    .dataframe thead th {\n",
       "        text-align: left;\n",
       "    }\n",
       "\n",
       "    .dataframe tbody tr th {\n",
       "        vertical-align: top;\n",
       "    }\n",
       "</style>\n",
       "<table border=\"1\" class=\"dataframe\">\n",
       "  <thead>\n",
       "    <tr style=\"text-align: right;\">\n",
       "      <th></th>\n",
       "      <th>Actual</th>\n",
       "      <th>Predicted_OLS</th>\n",
       "    </tr>\n",
       "  </thead>\n",
       "  <tbody>\n",
       "    <tr>\n",
       "      <th>120</th>\n",
       "      <td>6229.0</td>\n",
       "      <td>6805.746507</td>\n",
       "    </tr>\n",
       "    <tr>\n",
       "      <th>185</th>\n",
       "      <td>8195.0</td>\n",
       "      <td>9323.175295</td>\n",
       "    </tr>\n",
       "    <tr>\n",
       "      <th>180</th>\n",
       "      <td>15690.0</td>\n",
       "      <td>17194.748356</td>\n",
       "    </tr>\n",
       "    <tr>\n",
       "      <th>119</th>\n",
       "      <td>7957.0</td>\n",
       "      <td>8089.737878</td>\n",
       "    </tr>\n",
       "    <tr>\n",
       "      <th>109</th>\n",
       "      <td>12440.0</td>\n",
       "      <td>18441.046077</td>\n",
       "    </tr>\n",
       "  </tbody>\n",
       "</table>\n",
       "</div>"
      ],
      "text/plain": [
       "      Actual  Predicted_OLS\n",
       "120   6229.0    6805.746507\n",
       "185   8195.0    9323.175295\n",
       "180  15690.0   17194.748356\n",
       "119   7957.0    8089.737878\n",
       "109  12440.0   18441.046077"
      ]
     },
     "execution_count": 150,
     "metadata": {},
     "output_type": "execute_result"
    }
   ],
   "source": [
    "frame1 = pd.DataFrame({\"Actual\":np.exp(ytest1) , \"Predicted_OLS\": np.exp(predicted1)  })  # Took the Antilog of logged independent variable\n",
    "frame1.head()"
   ]
  },
  {
   "cell_type": "code",
   "execution_count": 151,
   "metadata": {},
   "outputs": [
    {
     "data": {
      "text/html": [
       "<div>\n",
       "<style>\n",
       "    .dataframe thead tr:only-child th {\n",
       "        text-align: right;\n",
       "    }\n",
       "\n",
       "    .dataframe thead th {\n",
       "        text-align: left;\n",
       "    }\n",
       "\n",
       "    .dataframe tbody tr th {\n",
       "        vertical-align: top;\n",
       "    }\n",
       "</style>\n",
       "<table border=\"1\" class=\"dataframe\">\n",
       "  <thead>\n",
       "    <tr style=\"text-align: right;\">\n",
       "      <th></th>\n",
       "      <th>Actual</th>\n",
       "      <th>Predicted_OLS</th>\n",
       "    </tr>\n",
       "  </thead>\n",
       "  <tbody>\n",
       "    <tr>\n",
       "      <th>120</th>\n",
       "      <td>6229.0</td>\n",
       "      <td>6805.75</td>\n",
       "    </tr>\n",
       "    <tr>\n",
       "      <th>185</th>\n",
       "      <td>8195.0</td>\n",
       "      <td>9323.18</td>\n",
       "    </tr>\n",
       "    <tr>\n",
       "      <th>180</th>\n",
       "      <td>15690.0</td>\n",
       "      <td>17194.75</td>\n",
       "    </tr>\n",
       "    <tr>\n",
       "      <th>119</th>\n",
       "      <td>7957.0</td>\n",
       "      <td>8089.74</td>\n",
       "    </tr>\n",
       "    <tr>\n",
       "      <th>109</th>\n",
       "      <td>12440.0</td>\n",
       "      <td>18441.05</td>\n",
       "    </tr>\n",
       "  </tbody>\n",
       "</table>\n",
       "</div>"
      ],
      "text/plain": [
       "      Actual  Predicted_OLS\n",
       "120   6229.0        6805.75\n",
       "185   8195.0        9323.18\n",
       "180  15690.0       17194.75\n",
       "119   7957.0        8089.74\n",
       "109  12440.0       18441.05"
      ]
     },
     "execution_count": 151,
     "metadata": {},
     "output_type": "execute_result"
    }
   ],
   "source": [
    "frame1.Predicted_OLS = round(frame1.Predicted_OLS , 2)                # Rounding of the data in 2 decimals\n",
    "frame1.head()"
   ]
  },
  {
   "cell_type": "markdown",
   "metadata": {},
   "source": [
    "#### Calculating MSE and RMSE"
   ]
  },
  {
   "cell_type": "code",
   "execution_count": 152,
   "metadata": {},
   "outputs": [
    {
     "name": "stdout",
     "output_type": "stream",
     "text": [
      "5593465.797059103\n"
     ]
    }
   ],
   "source": [
    "MSE1= metrics.mean_squared_error(np.exp(ytest1) , np.exp(predicted1))  # MSE\n",
    "print(MSE1)"
   ]
  },
  {
   "cell_type": "code",
   "execution_count": 153,
   "metadata": {},
   "outputs": [
    {
     "name": "stdout",
     "output_type": "stream",
     "text": [
      "2365.0509079212443\n"
     ]
    }
   ],
   "source": [
    "RMSE1 = pow(MSE1 , .5)      # RMSE\n",
    "print(RMSE1)"
   ]
  },
  {
   "cell_type": "markdown",
   "metadata": {},
   "source": [
    "### Building the model based on significant variables"
   ]
  },
  {
   "cell_type": "code",
   "execution_count": 154,
   "metadata": {},
   "outputs": [
    {
     "data": {
      "text/plain": [
       "Index(['losses', 'base', 'length', 'width', 'height', 'weight', 'Size', 'bore',\n",
       "       'stroke', 'compression', 'horsepower', 'peak', 'mlg', 'highway',\n",
       "       'price', 'make', 'Style', 'wheels', 'engine', 'cylinders', 'fuel',\n",
       "       'symboling', 'fueltype_diesel', 'fueltype_gas', 'aspiration_std',\n",
       "       'aspiration_turbo', 'doors_four', 'doors_two', 'location_front',\n",
       "       'location_rear'],\n",
       "      dtype='object')"
      ]
     },
     "execution_count": 154,
     "metadata": {},
     "output_type": "execute_result"
    }
   ],
   "source": [
    "fit_data.columns"
   ]
  },
  {
   "cell_type": "code",
   "execution_count": 858,
   "metadata": {
    "collapsed": true
   },
   "outputs": [],
   "source": [
    "sig_x = fit_data.iloc[:,[3,5,6,8,11,12,15,16,19,20,22,23]]          # Taking significant independent variables from norm data"
   ]
  },
  {
   "cell_type": "code",
   "execution_count": 859,
   "metadata": {},
   "outputs": [
    {
     "name": "stdout",
     "output_type": "stream",
     "text": [
      "(205, 12)\n",
      "(205,)\n"
     ]
    }
   ],
   "source": [
    "print(sig_x.shape)                                       # dimensions of new X-data and norm data's Y-data  \n",
    "print(y.shape)\n"
   ]
  },
  {
   "cell_type": "code",
   "execution_count": 860,
   "metadata": {},
   "outputs": [
    {
     "data": {
      "text/plain": [
       "Index(['width', 'weight', 'Size', 'stroke', 'peak', 'mlg', 'make', 'Style',\n",
       "       'cylinders', 'fuel', 'fueltype_diesel', 'fueltype_gas'],\n",
       "      dtype='object')"
      ]
     },
     "execution_count": 860,
     "metadata": {},
     "output_type": "execute_result"
    }
   ],
   "source": [
    "sig_x.columns                                           # sig_x data's column names"
   ]
  },
  {
   "cell_type": "markdown",
   "metadata": {},
   "source": [
    "#### Train Test split"
   ]
  },
  {
   "cell_type": "code",
   "execution_count": 869,
   "metadata": {
    "collapsed": true
   },
   "outputs": [],
   "source": [
    "newxtrain , newxtest, newytrain , newytest = train_test_split(sig_x , y1 , test_size= .20 , random_state = 101)"
   ]
  },
  {
   "cell_type": "code",
   "execution_count": null,
   "metadata": {
    "collapsed": true
   },
   "outputs": [],
   "source": []
  },
  {
   "cell_type": "markdown",
   "metadata": {},
   "source": [
    "#### Fitting the model"
   ]
  },
  {
   "cell_type": "code",
   "execution_count": 870,
   "metadata": {
    "collapsed": true
   },
   "outputs": [],
   "source": [
    "mod1 = sm.OLS(newytrain , newxtrain).fit()                          # Model fitting"
   ]
  },
  {
   "cell_type": "code",
   "execution_count": 877,
   "metadata": {},
   "outputs": [
    {
     "data": {
      "text/html": [
       "<table class=\"simpletable\">\n",
       "<caption>OLS Regression Results</caption>\n",
       "<tr>\n",
       "  <th>Dep. Variable:</th>          <td>price</td>      <th>  R-squared:         </th> <td>   0.849</td>\n",
       "</tr>\n",
       "<tr>\n",
       "  <th>Model:</th>                   <td>OLS</td>       <th>  Adj. R-squared:    </th> <td>   0.838</td>\n",
       "</tr>\n",
       "<tr>\n",
       "  <th>Method:</th>             <td>Least Squares</td>  <th>  F-statistic:       </th> <td>   77.87</td>\n",
       "</tr>\n",
       "<tr>\n",
       "  <th>Date:</th>             <td>Sat, 01 Jun 2019</td> <th>  Prob (F-statistic):</th> <td>1.09e-56</td>\n",
       "</tr>\n",
       "<tr>\n",
       "  <th>Time:</th>                 <td>15:00:03</td>     <th>  Log-Likelihood:    </th> <td>  35.620</td>\n",
       "</tr>\n",
       "<tr>\n",
       "  <th>No. Observations:</th>      <td>   164</td>      <th>  AIC:               </th> <td>  -47.24</td>\n",
       "</tr>\n",
       "<tr>\n",
       "  <th>Df Residuals:</th>          <td>   152</td>      <th>  BIC:               </th> <td>  -10.04</td>\n",
       "</tr>\n",
       "<tr>\n",
       "  <th>Df Model:</th>              <td>    11</td>      <th>                     </th>     <td> </td>   \n",
       "</tr>\n",
       "<tr>\n",
       "  <th>Covariance Type:</th>      <td>nonrobust</td>    <th>                     </th>     <td> </td>   \n",
       "</tr>\n",
       "</table>\n",
       "<table class=\"simpletable\">\n",
       "<tr>\n",
       "         <td></td>            <th>coef</th>     <th>std err</th>      <th>t</th>      <th>P>|t|</th>  <th>[0.025</th>    <th>0.975]</th>  \n",
       "</tr>\n",
       "<tr>\n",
       "  <th>width</th>           <td>    0.0320</td> <td>    0.015</td> <td>    2.148</td> <td> 0.033</td> <td>    0.003</td> <td>    0.061</td>\n",
       "</tr>\n",
       "<tr>\n",
       "  <th>weight</th>          <td>    0.0004</td> <td>    0.000</td> <td>    3.297</td> <td> 0.001</td> <td>    0.000</td> <td>    0.001</td>\n",
       "</tr>\n",
       "<tr>\n",
       "  <th>Size</th>            <td>    0.5767</td> <td>    0.130</td> <td>    4.422</td> <td> 0.000</td> <td>    0.319</td> <td>    0.834</td>\n",
       "</tr>\n",
       "<tr>\n",
       "  <th>stroke</th>          <td>   -0.1852</td> <td>    0.054</td> <td>   -3.458</td> <td> 0.001</td> <td>   -0.291</td> <td>   -0.079</td>\n",
       "</tr>\n",
       "<tr>\n",
       "  <th>peak</th>            <td>    0.0001</td> <td> 4.31e-05</td> <td>    3.232</td> <td> 0.002</td> <td> 5.42e-05</td> <td>    0.000</td>\n",
       "</tr>\n",
       "<tr>\n",
       "  <th>mlg</th>             <td>   -0.0061</td> <td>    0.005</td> <td>   -1.108</td> <td> 0.270</td> <td>   -0.017</td> <td>    0.005</td>\n",
       "</tr>\n",
       "<tr>\n",
       "  <th>make</th>            <td>   -0.0098</td> <td>    0.003</td> <td>   -3.620</td> <td> 0.000</td> <td>   -0.015</td> <td>   -0.004</td>\n",
       "</tr>\n",
       "<tr>\n",
       "  <th>Style</th>           <td>   -0.0424</td> <td>    0.020</td> <td>   -2.165</td> <td> 0.032</td> <td>   -0.081</td> <td>   -0.004</td>\n",
       "</tr>\n",
       "<tr>\n",
       "  <th>cylinders</th>       <td>    0.0569</td> <td>    0.022</td> <td>    2.618</td> <td> 0.010</td> <td>    0.014</td> <td>    0.100</td>\n",
       "</tr>\n",
       "<tr>\n",
       "  <th>fuel</th>            <td>    0.0247</td> <td>    0.012</td> <td>    2.114</td> <td> 0.036</td> <td>    0.002</td> <td>    0.048</td>\n",
       "</tr>\n",
       "<tr>\n",
       "  <th>fueltype_diesel</th> <td>    3.8405</td> <td>    1.096</td> <td>    3.503</td> <td> 0.001</td> <td>    1.674</td> <td>    6.007</td>\n",
       "</tr>\n",
       "<tr>\n",
       "  <th>fueltype_gas</th>    <td>    3.6205</td> <td>    1.085</td> <td>    3.335</td> <td> 0.001</td> <td>    1.476</td> <td>    5.765</td>\n",
       "</tr>\n",
       "</table>\n",
       "<table class=\"simpletable\">\n",
       "<tr>\n",
       "  <th>Omnibus:</th>       <td> 9.510</td> <th>  Durbin-Watson:     </th> <td>   1.780</td>\n",
       "</tr>\n",
       "<tr>\n",
       "  <th>Prob(Omnibus):</th> <td> 0.009</td> <th>  Jarque-Bera (JB):  </th> <td>  17.723</td>\n",
       "</tr>\n",
       "<tr>\n",
       "  <th>Skew:</th>          <td> 0.197</td> <th>  Prob(JB):          </th> <td>0.000142</td>\n",
       "</tr>\n",
       "<tr>\n",
       "  <th>Kurtosis:</th>      <td> 4.562</td> <th>  Cond. No.          </th> <td>5.62e+05</td>\n",
       "</tr>\n",
       "</table>"
      ],
      "text/plain": [
       "<class 'statsmodels.iolib.summary.Summary'>\n",
       "\"\"\"\n",
       "                            OLS Regression Results                            \n",
       "==============================================================================\n",
       "Dep. Variable:                  price   R-squared:                       0.849\n",
       "Model:                            OLS   Adj. R-squared:                  0.838\n",
       "Method:                 Least Squares   F-statistic:                     77.87\n",
       "Date:                Sat, 01 Jun 2019   Prob (F-statistic):           1.09e-56\n",
       "Time:                        15:00:03   Log-Likelihood:                 35.620\n",
       "No. Observations:                 164   AIC:                            -47.24\n",
       "Df Residuals:                     152   BIC:                            -10.04\n",
       "Df Model:                          11                                         \n",
       "Covariance Type:            nonrobust                                         \n",
       "===================================================================================\n",
       "                      coef    std err          t      P>|t|      [0.025      0.975]\n",
       "-----------------------------------------------------------------------------------\n",
       "width               0.0320      0.015      2.148      0.033       0.003       0.061\n",
       "weight              0.0004      0.000      3.297      0.001       0.000       0.001\n",
       "Size                0.5767      0.130      4.422      0.000       0.319       0.834\n",
       "stroke             -0.1852      0.054     -3.458      0.001      -0.291      -0.079\n",
       "peak                0.0001   4.31e-05      3.232      0.002    5.42e-05       0.000\n",
       "mlg                -0.0061      0.005     -1.108      0.270      -0.017       0.005\n",
       "make               -0.0098      0.003     -3.620      0.000      -0.015      -0.004\n",
       "Style              -0.0424      0.020     -2.165      0.032      -0.081      -0.004\n",
       "cylinders           0.0569      0.022      2.618      0.010       0.014       0.100\n",
       "fuel                0.0247      0.012      2.114      0.036       0.002       0.048\n",
       "fueltype_diesel     3.8405      1.096      3.503      0.001       1.674       6.007\n",
       "fueltype_gas        3.6205      1.085      3.335      0.001       1.476       5.765\n",
       "==============================================================================\n",
       "Omnibus:                        9.510   Durbin-Watson:                   1.780\n",
       "Prob(Omnibus):                  0.009   Jarque-Bera (JB):               17.723\n",
       "Skew:                           0.197   Prob(JB):                     0.000142\n",
       "Kurtosis:                       4.562   Cond. No.                     5.62e+05\n",
       "==============================================================================\n",
       "\n",
       "Warnings:\n",
       "[1] Standard Errors assume that the covariance matrix of the errors is correctly specified.\n",
       "[2] The condition number is large, 5.62e+05. This might indicate that there are\n",
       "strong multicollinearity or other numerical problems.\n",
       "\"\"\""
      ]
     },
     "execution_count": 877,
     "metadata": {},
     "output_type": "execute_result"
    }
   ],
   "source": [
    "mod1.summary()                                                       # Summary of the model"
   ]
  },
  {
   "cell_type": "markdown",
   "metadata": {},
   "source": [
    "#### Predicting the Test data"
   ]
  },
  {
   "cell_type": "code",
   "execution_count": 872,
   "metadata": {
    "collapsed": true
   },
   "outputs": [],
   "source": [
    "mod_pred = mod1.predict(newxtest)                       "
   ]
  },
  {
   "cell_type": "markdown",
   "metadata": {},
   "source": [
    "#### Data frame for Actual and Predicted values"
   ]
  },
  {
   "cell_type": "code",
   "execution_count": 873,
   "metadata": {},
   "outputs": [
    {
     "data": {
      "text/html": [
       "<div>\n",
       "<style>\n",
       "    .dataframe thead tr:only-child th {\n",
       "        text-align: right;\n",
       "    }\n",
       "\n",
       "    .dataframe thead th {\n",
       "        text-align: left;\n",
       "    }\n",
       "\n",
       "    .dataframe tbody tr th {\n",
       "        vertical-align: top;\n",
       "    }\n",
       "</style>\n",
       "<table border=\"1\" class=\"dataframe\">\n",
       "  <thead>\n",
       "    <tr style=\"text-align: right;\">\n",
       "      <th></th>\n",
       "      <th>Actual</th>\n",
       "      <th>Predicted_OLS</th>\n",
       "    </tr>\n",
       "  </thead>\n",
       "  <tbody>\n",
       "    <tr>\n",
       "      <th>120</th>\n",
       "      <td>6229.0</td>\n",
       "      <td>7018.138425</td>\n",
       "    </tr>\n",
       "    <tr>\n",
       "      <th>185</th>\n",
       "      <td>8195.0</td>\n",
       "      <td>8641.467422</td>\n",
       "    </tr>\n",
       "    <tr>\n",
       "      <th>180</th>\n",
       "      <td>15690.0</td>\n",
       "      <td>17935.389950</td>\n",
       "    </tr>\n",
       "    <tr>\n",
       "      <th>119</th>\n",
       "      <td>7957.0</td>\n",
       "      <td>8947.513900</td>\n",
       "    </tr>\n",
       "    <tr>\n",
       "      <th>109</th>\n",
       "      <td>12440.0</td>\n",
       "      <td>15573.915755</td>\n",
       "    </tr>\n",
       "  </tbody>\n",
       "</table>\n",
       "</div>"
      ],
      "text/plain": [
       "      Actual  Predicted_OLS\n",
       "120   6229.0    7018.138425\n",
       "185   8195.0    8641.467422\n",
       "180  15690.0   17935.389950\n",
       "119   7957.0    8947.513900\n",
       "109  12440.0   15573.915755"
      ]
     },
     "execution_count": 873,
     "metadata": {},
     "output_type": "execute_result"
    }
   ],
   "source": [
    "frame2 = pd.DataFrame({\"Actual\":np.exp(newytest) , \"Predicted_OLS\": np.exp(mod_pred)  })  # Took the Antilog of logged independent variable\n",
    "frame2.head()"
   ]
  },
  {
   "cell_type": "code",
   "execution_count": 874,
   "metadata": {},
   "outputs": [
    {
     "data": {
      "text/html": [
       "<div>\n",
       "<style>\n",
       "    .dataframe thead tr:only-child th {\n",
       "        text-align: right;\n",
       "    }\n",
       "\n",
       "    .dataframe thead th {\n",
       "        text-align: left;\n",
       "    }\n",
       "\n",
       "    .dataframe tbody tr th {\n",
       "        vertical-align: top;\n",
       "    }\n",
       "</style>\n",
       "<table border=\"1\" class=\"dataframe\">\n",
       "  <thead>\n",
       "    <tr style=\"text-align: right;\">\n",
       "      <th></th>\n",
       "      <th>Actual</th>\n",
       "      <th>Predicted_OLS</th>\n",
       "    </tr>\n",
       "  </thead>\n",
       "  <tbody>\n",
       "    <tr>\n",
       "      <th>120</th>\n",
       "      <td>6229.0</td>\n",
       "      <td>7018.14</td>\n",
       "    </tr>\n",
       "    <tr>\n",
       "      <th>185</th>\n",
       "      <td>8195.0</td>\n",
       "      <td>8641.47</td>\n",
       "    </tr>\n",
       "    <tr>\n",
       "      <th>180</th>\n",
       "      <td>15690.0</td>\n",
       "      <td>17935.39</td>\n",
       "    </tr>\n",
       "    <tr>\n",
       "      <th>119</th>\n",
       "      <td>7957.0</td>\n",
       "      <td>8947.51</td>\n",
       "    </tr>\n",
       "    <tr>\n",
       "      <th>109</th>\n",
       "      <td>12440.0</td>\n",
       "      <td>15573.92</td>\n",
       "    </tr>\n",
       "  </tbody>\n",
       "</table>\n",
       "</div>"
      ],
      "text/plain": [
       "      Actual  Predicted_OLS\n",
       "120   6229.0        7018.14\n",
       "185   8195.0        8641.47\n",
       "180  15690.0       17935.39\n",
       "119   7957.0        8947.51\n",
       "109  12440.0       15573.92"
      ]
     },
     "execution_count": 874,
     "metadata": {},
     "output_type": "execute_result"
    }
   ],
   "source": [
    "frame2.Predicted_OLS = round(frame2.Predicted_OLS , 2)                # Rounding of the data in 2 decimals\n",
    "frame2.head()"
   ]
  },
  {
   "cell_type": "markdown",
   "metadata": {},
   "source": [
    "#### Calculating MSE and RMSE"
   ]
  },
  {
   "cell_type": "code",
   "execution_count": 875,
   "metadata": {},
   "outputs": [
    {
     "name": "stdout",
     "output_type": "stream",
     "text": [
      "4283714.3702170355\n"
     ]
    }
   ],
   "source": [
    "newMSE= metrics.mean_squared_error(np.exp(newytest) , np.exp(mod_pred))  # MSE\n",
    "print(newMSE)"
   ]
  },
  {
   "cell_type": "code",
   "execution_count": 876,
   "metadata": {},
   "outputs": [
    {
     "name": "stdout",
     "output_type": "stream",
     "text": [
      "2069.7135961811323\n"
     ]
    }
   ],
   "source": [
    "newRMSE = pow(newMSE , .5)      # RMSE\n",
    "print(newRMSE)"
   ]
  },
  {
   "cell_type": "code",
   "execution_count": null,
   "metadata": {
    "collapsed": true
   },
   "outputs": [],
   "source": []
  }
 ],
 "metadata": {
  "kernelspec": {
   "display_name": "Python 3",
   "language": "python",
   "name": "python3"
  },
  "language_info": {
   "codemirror_mode": {
    "name": "ipython",
    "version": 3
   },
   "file_extension": ".py",
   "mimetype": "text/x-python",
   "name": "python",
   "nbconvert_exporter": "python",
   "pygments_lexer": "ipython3",
   "version": "3.7.3"
  }
 },
 "nbformat": 4,
 "nbformat_minor": 2
}
